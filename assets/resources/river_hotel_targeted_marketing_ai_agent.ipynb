{
 "cells": [
  {
   "cell_type": "markdown",
   "metadata": {
    "application/vnd.databricks.v1+cell": {
     "cellMetadata": {},
     "inputWidgets": {},
     "nuid": "22242a8d-a743-49c4-8c1d-6f15f0bd1863",
     "showTitle": false,
     "tableResultSettingsMap": {},
     "title": ""
    }
   },
   "source": [
    "## Targeted Marketing Agent\n",
    "\n",
    "This notebook guides you through the steps of creating an AI Agent that will create targeted social media campaigns for hotels.\n",
    "\n",
    "### Step 1: Create tools for AI Agent\n",
    "\n",
    "Follow the instructions in each cell below to generate the tools - user-defined functions in this case - to be used by the agent to help it generate the targeted social media posts.\n",
    "\n",
    "Each cell will contain instructions and sql or python code to execute. Ensure to execute the cells in order sequentially.\n"
   ]
  },
  {
   "cell_type": "code",
   "execution_count": 0,
   "metadata": {
    "application/vnd.databricks.v1+cell": {
     "cellMetadata": {
      "byteLimit": 2048000,
      "rowLimit": 10000
     },
     "inputWidgets": {},
     "nuid": "d0e0859e-f3ca-45f9-8d23-9e5c46a716ae",
     "showTitle": false,
     "tableResultSettingsMap": {},
     "title": ""
    }
   },
   "outputs": [],
   "source": [
    "# Create Databricks widgets to store names and values to be used throughout this Notebook\n",
    "\n",
    "# These are placeholder, please use the UI form fields at the top of this Notebook to enter in their values\n",
    "dbutils.widgets.text(\"warehouse_id\", \"\")\n",
    "dbutils.widgets.text(\"catalog\", \"\")\n",
    "dbutils.widgets.text(\"database\", \"\")\n",
    "dbutils.widgets.text(\"hotel_to_promote\", \"\")\n",
    "\n",
    "dbutils.widgets.dropdown(\"hotel_class\",\n",
    "    \"Resort\", # Default value\n",
    "    [\n",
    "    \"Resort\",\n",
    "    \"Extended Stay\",\n",
    "    \"Luxury\",\n",
    "    \"Economy\",\n",
    "    \"Airport\"\n",
    "])\n"
   ]
  },
  {
   "cell_type": "code",
   "execution_count": 0,
   "metadata": {
    "application/vnd.databricks.v1+cell": {
     "cellMetadata": {
      "byteLimit": 2048000,
      "rowLimit": 10000
     },
     "inputWidgets": {},
     "nuid": "fba2939e-2fe6-469d-8696-abec59d1d2aa",
     "showTitle": false,
     "tableResultSettingsMap": {},
     "title": ""
    }
   },
   "outputs": [
    {
     "data": {
      "text/plain": [
       "DataFrame[]"
      ]
     },
     "execution_count": 14,
     "metadata": {},
     "output_type": "execute_result"
    }
   ],
   "source": [
    "catalog = dbutils.widgets.get(\"catalog\")\n",
    "database = dbutils.widgets.get(\"database\")\n",
    "\n",
    "# Set this for subsequent cells\n",
    "spark.sql(f\"USE CATALOG `{catalog}`\")\n",
    "spark.sql(f\"USE DATABASE `{database}`\")"
   ]
  },
  {
   "cell_type": "code",
   "execution_count": 0,
   "metadata": {
    "application/vnd.databricks.v1+cell": {
     "cellMetadata": {
      "byteLimit": 2048000,
      "implicitDf": true,
      "rowLimit": 10000
     },
     "inputWidgets": {},
     "nuid": "82c65afa-ac37-4fad-83f9-1cc9202394fd",
     "showTitle": false,
     "tableResultSettingsMap": {},
     "title": ""
    }
   },
   "outputs": [],
   "source": [
    "%sql\n",
    "-- This function takes a hotel class as an input and finds the lowest performing hotel in that class that has at least 3 customer reviews and has an above-average customer satisfaction rating\n",
    "\n",
    "CREATE OR REPLACE FUNCTION get_hotel_to_promote (input_hotel_class STRING COMMENT 'Hotel class to filter by')\n",
    "RETURNS TABLE (\n",
    "  hotel_id STRING,\n",
    "  hotel_name STRING,\n",
    "  hotel_city STRING,\n",
    "  hotel_country STRING,\n",
    "  hotel_description STRING,\n",
    "  hotel_class STRING,\n",
    "  average_review_rating DOUBLE,\n",
    "  review_count INT\n",
    ")\n",
    "LANGUAGE SQL\n",
    "COMMENT 'This function takes a hotel class as an input and finds the lowest performing hotel in that class that has at least 3 customer reviews and has an above-average customer satisfaction rating'\n",
    "RETURN\n",
    "  (SELECT\n",
    "    `HOTEL_ID`,\n",
    "    `HOTEL_NAME`,\n",
    "    `HOTEL_CITY`,\n",
    "    `HOTEL_COUNTRY`,\n",
    "    `HOTEL_DESCRIPTION`,\n",
    "    `HOTEL_CLASS`,\n",
    "    `AVERAGE_REVIEW_RATING`,\n",
    "    `REVIEW_COUNT`\n",
    "    FROM\n",
    "      hotel_stats\n",
    "    WHERE HOTEL_CLASS = input_hotel_class\n",
    "    AND `REVIEW_COUNT` > 2\n",
    "    AND `AVERAGE_REVIEW_RATING` > (\n",
    "      SELECT\n",
    "        AVG(`AVERAGE_REVIEW_RATING`)\n",
    "      FROM\n",
    "        hotel_stats\n",
    "    )\n",
    "    ORDER BY\n",
    "      `TOTAL_BOOKINGS_COUNT` ASC\n",
    "    LIMIT 1\n",
    "  )"
   ]
  },
  {
   "cell_type": "code",
   "execution_count": 0,
   "metadata": {
    "application/vnd.databricks.v1+cell": {
     "cellMetadata": {
      "byteLimit": 2048000,
      "implicitDf": true,
      "rowLimit": 10000
     },
     "inputWidgets": {},
     "nuid": "e4aa0845-7b42-4bd2-861e-17d1080accc5",
     "showTitle": false,
     "tableResultSettingsMap": {},
     "title": ""
    }
   },
   "outputs": [],
   "source": [
    "%sql\n",
    "-- Test out the `get_hotel_to_promote` function\n",
    "\n",
    "SELECT *\n",
    "  FROM get_hotel_to_promote(:hotel_class);\n",
    "\n",
    "-- Copy the `hotel_id` value and paste it into the \"hotel_to_promote\" parameter at the top of this page\n",
    "\n",
    "-- If you get a \"No rows returned\" message, then change the hotel_class value to the one with the next lowest performance from your previous Genie prompt"
   ]
  },
  {
   "cell_type": "code",
   "execution_count": 0,
   "metadata": {
    "application/vnd.databricks.v1+cell": {
     "cellMetadata": {
      "byteLimit": 2048000,
      "implicitDf": true,
      "rowLimit": 10000
     },
     "inputWidgets": {},
     "nuid": "6c83ebfa-0b59-4fbd-b6c2-72677c919d43",
     "showTitle": false,
     "tableResultSettingsMap": {},
     "title": ""
    }
   },
   "outputs": [],
   "source": [
    "%sql\n",
    "-- This statement creates a function that takes a HOTEL_ID as input and generates a summary of the top 3 reasons why customers enjoyed their hotel stay.\n",
    "\n",
    "CREATE OR REPLACE FUNCTION\n",
    "summarize_customer_reviews(input_hotel_id STRING COMMENT 'ID of the hotel to be searched')\n",
    "RETURNS STRING\n",
    "LANGUAGE SQL\n",
    "COMMENT 'This function takes a HOTEL_ID as input and generates a summary of the top 3 reasons why customers enjoyed their hotel stay'\n",
    "RETURN (\n",
    "  SELECT AI_GEN(\n",
    "    SUBSTRING('Extract the top 3 reasons people like the hotels based on this list of reviews:' || ARRAY_JOIN(COLLECT_LIST(REVIEW_TEXT), ' - '), 1, 80000)\n",
    "  ) AS all_reviews\n",
    "  FROM denormalized_hotel_bookings\n",
    "    WHERE `HOTEL_ID` = input_hotel_id\n",
    "    -- Try to exclude negative reviews\n",
    "    AND `REVIEW_RATING` >= 3\n",
    ")"
   ]
  },
  {
   "cell_type": "code",
   "execution_count": 0,
   "metadata": {
    "application/vnd.databricks.v1+cell": {
     "cellMetadata": {
      "byteLimit": 2048000,
      "implicitDf": true,
      "rowLimit": 10000
     },
     "inputWidgets": {},
     "nuid": "4535f97f-a600-4004-8db5-cdc416eeb4a0",
     "showTitle": false,
     "tableResultSettingsMap": {},
     "title": ""
    }
   },
   "outputs": [],
   "source": [
    "%sql\n",
    "-- Try out this function to see the top 3 summary of customer reviews for a hotel\n",
    "\n",
    "SELECT summarize_customer_reviews(:hotel_to_promote)"
   ]
  },
  {
   "cell_type": "code",
   "execution_count": 0,
   "metadata": {
    "application/vnd.databricks.v1+cell": {
     "cellMetadata": {
      "byteLimit": 2048000,
      "implicitDf": true,
      "rowLimit": 10000
     },
     "inputWidgets": {},
     "nuid": "4d33dbe4-339d-4e73-ae0f-2d6c6e494b84",
     "showTitle": false,
     "tableResultSettingsMap": {},
     "title": ""
    }
   },
   "outputs": [],
   "source": [
    "%sql\n",
    "-- This function finds the top 10 customers who transacted the fewest bookings but showed the most interest (via page-views and page-clicks) for a given hotel class\n",
    "\n",
    "CREATE OR REPLACE FUNCTION identify_target_customers (input_hotel_class STRING COMMENT 'Hotel class to filter by')\n",
    "RETURNS TABLE (\n",
    "  customer_email STRING,\n",
    "  page_views INT,\n",
    "  page_clicks INT,\n",
    "  bookings INT\n",
    ")\n",
    "LANGUAGE SQL\n",
    "COMMENT 'This function finds the top 10 customers who transacted the fewest bookings but showed the most interest (via page-views and page-clicks) for a given hotel class'\n",
    "RETURN\n",
    "  (\n",
    "WITH filtered_clickstream AS (\n",
    "  SELECT\n",
    "    `CUSTOMER_EMAIL`,\n",
    "    `ACTION`\n",
    "  FROM\n",
    "    `clickstream`\n",
    "  WHERE\n",
    "    `ACTION` IN ('page-view', 'page-click', 'booking-click')\n",
    "),\n",
    "filtered_dhb AS (\n",
    "  SELECT\n",
    "    `CUSTOMER_EMAIL`\n",
    "  FROM\n",
    "    `denormalized_hotel_bookings`\n",
    "  WHERE\n",
    "    `HOTEL_CLASS` = input_hotel_class\n",
    "),\n",
    "joined_table AS (\n",
    "  SELECT\n",
    "    a.`CUSTOMER_EMAIL`,\n",
    "    a.`ACTION`\n",
    "  FROM\n",
    "    filtered_clickstream a\n",
    "      JOIN filtered_dhb b\n",
    "        ON a.`CUSTOMER_EMAIL` = b.`CUSTOMER_EMAIL`\n",
    "),\n",
    "ranked_customers AS (\n",
    "  SELECT\n",
    "    `CUSTOMER_EMAIL`,\n",
    "    COUNT(\n",
    "      CASE\n",
    "        WHEN `ACTION` = 'page-view' THEN 1\n",
    "      END\n",
    "    ) AS `page_views`,\n",
    "    COUNT(\n",
    "      CASE\n",
    "        WHEN `ACTION` = 'page-click' THEN 1\n",
    "      END\n",
    "    ) AS `page_clicks`,\n",
    "    COUNT(\n",
    "      CASE\n",
    "        WHEN `ACTION` = 'booking-click' THEN 1\n",
    "      END\n",
    "    ) AS `bookings`,\n",
    "    ROW_NUMBER() OVER (\n",
    "        ORDER BY\n",
    "          COUNT(\n",
    "            CASE\n",
    "              WHEN `ACTION` = 'booking-click' THEN 1\n",
    "            END\n",
    "          ) ASC,\n",
    "          COUNT(\n",
    "            CASE\n",
    "              WHEN `ACTION` = 'page-view' THEN 1\n",
    "            END\n",
    "          ) DESC,\n",
    "          COUNT(\n",
    "            CASE\n",
    "              WHEN `ACTION` = 'page-click' THEN 1\n",
    "            END\n",
    "          ) DESC\n",
    "      ) AS `rank`\n",
    "  FROM\n",
    "    joined_table\n",
    "  GROUP BY\n",
    "    `CUSTOMER_EMAIL`\n",
    ")\n",
    "SELECT\n",
    "  `CUSTOMER_EMAIL`,\n",
    "  `page_views`,\n",
    "  `page_clicks`,\n",
    "  `bookings`\n",
    "FROM\n",
    "  ranked_customers\n",
    "WHERE\n",
    "  `rank` <= 10\n",
    "ORDER BY\n",
    "  `rank`\n",
    ")"
   ]
  },
  {
   "cell_type": "code",
   "execution_count": 0,
   "metadata": {
    "application/vnd.databricks.v1+cell": {
     "cellMetadata": {
      "byteLimit": 2048000,
      "implicitDf": true,
      "rowLimit": 10000
     },
     "inputWidgets": {},
     "nuid": "7b509af5-6962-4408-93d4-289024deecb3",
     "showTitle": false,
     "tableResultSettingsMap": {},
     "title": ""
    }
   },
   "outputs": [],
   "source": [
    "%sql\n",
    "-- Test out the identify_target_customers function\n",
    "\n",
    "SELECT * FROM identify_target_customers(:hotel_class);"
   ]
  },
  {
   "cell_type": "markdown",
   "metadata": {
    "application/vnd.databricks.v1+cell": {
     "cellMetadata": {},
     "inputWidgets": {},
     "nuid": "312e04c4-8e13-4a56-b769-e517032ea869",
     "showTitle": false,
     "tableResultSettingsMap": {},
     "title": ""
    }
   },
   "source": []
  },
  {
   "cell_type": "markdown",
   "metadata": {
    "application/vnd.databricks.v1+cell": {
     "cellMetadata": {},
     "inputWidgets": {},
     "nuid": "84ec47ab-1485-4610-9f1f-42b7a6177b5c",
     "showTitle": false,
     "tableResultSettingsMap": {},
     "title": ""
    }
   },
   "source": [
    "## Step 2: Create the AI Agent\n",
    "\n",
    "In this step you are going to combine these three cruicial parts of our agent:\n",
    "\n",
    "1. Tools for the Agent to use (from step 1)\n",
    "2. LLM to serve as the agent's \"brains\"\n",
    "3. System prompt that defines guidelines for the agent's tasks"
   ]
  },
  {
   "cell_type": "code",
   "execution_count": 0,
   "metadata": {
    "application/vnd.databricks.v1+cell": {
     "cellMetadata": {
      "byteLimit": 2048000,
      "rowLimit": 10000
     },
     "collapsed": true,
     "inputWidgets": {},
     "nuid": "647c3450-3f98-4f5d-a9f4-d97168b56f2c",
     "showTitle": false,
     "tableResultSettingsMap": {},
     "title": ""
    }
   },
   "outputs": [],
   "source": [
    "%pip install -U databricks-sdk==0.39.0 langchain-community==0.2.16 langchain-openai==0.1.19 mlflow==2.19.0"
   ]
  },
  {
   "cell_type": "code",
   "execution_count": 0,
   "metadata": {
    "application/vnd.databricks.v1+cell": {
     "cellMetadata": {
      "byteLimit": 2048000,
      "rowLimit": 10000
     },
     "collapsed": true,
     "inputWidgets": {},
     "nuid": "42544763-8122-4505-856c-5f3b3523231c",
     "showTitle": false,
     "tableResultSettingsMap": {},
     "title": ""
    }
   },
   "outputs": [],
   "source": [
    "dbutils.library.restartPython()"
   ]
  },
  {
   "cell_type": "code",
   "execution_count": 0,
   "metadata": {
    "application/vnd.databricks.v1+cell": {
     "cellMetadata": {
      "byteLimit": 2048000,
      "rowLimit": 10000
     },
     "inputWidgets": {},
     "nuid": "d17792a4-a54b-4d97-a651-557938f54b9e",
     "showTitle": false,
     "tableResultSettingsMap": {},
     "title": ""
    }
   },
   "outputs": [],
   "source": [
    "from langchain_community.tools.databricks import UCFunctionToolkit\n",
    "from langchain.tools import BaseTool\n",
    "from databricks.sdk import WorkspaceClient\n",
    "import pandas as pd\n",
    "from typing import Type, Any\n",
    "from pydantic import BaseModel, Field\n",
    "import json\n",
    "\n",
    "# Retrieve IDs from widget\n",
    "warehouse_id = dbutils.widgets.get(\"warehouse_id\")\n",
    "catalog = dbutils.widgets.get(\"catalog\")\n",
    "db = dbutils.widgets.get(\"database\")\n",
    "\n",
    "# Custom tool classes that handle SQL quoting properly\n",
    "class GetHotelToPromoteInput(BaseModel):\n",
    "    input_hotel_class: str = Field(description=\"Hotel class to filter by\")\n",
    "\n",
    "class GetHotelToPromoteTool(BaseTool):\n",
    "    name = \"get_hotel_to_promote\"\n",
    "    description = \"This function takes a hotel class as an input and finds the lowest performing hotel in that class that has at least 3 customer reviews and has an above-average customer satisfaction rating\"\n",
    "    args_schema: Type[BaseModel] = GetHotelToPromoteInput\n",
    "\n",
    "    def _run(self, input_hotel_class: str) -> str:\n",
    "        sql = f\"SELECT * FROM `{catalog}`.`{db}`.get_hotel_to_promote('{input_hotel_class}')\"\n",
    "        result = spark.sql(sql).collect()\n",
    "        if result:\n",
    "            return json.dumps([row.asDict() for row in result])\n",
    "        return \"[]\"\n",
    "\n",
    "class SummarizeCustomerReviewsInput(BaseModel):\n",
    "    input_hotel_id: str = Field(description=\"ID of the hotel to be searched\")\n",
    "\n",
    "class SummarizeCustomerReviewsTool(BaseTool):\n",
    "    name = \"summarize_customer_reviews\"\n",
    "    description = \"This function takes a HOTEL_ID as input and generates a summary of the top 3 reasons why customers enjoyed their hotel stay\"\n",
    "    args_schema: Type[BaseModel] = SummarizeCustomerReviewsInput\n",
    "\n",
    "    def _run(self, input_hotel_id: str) -> str:\n",
    "        sql = f\"SELECT `{catalog}`.`{db}`.summarize_customer_reviews('{input_hotel_id}') as summary\"\n",
    "        result = spark.sql(sql).collect()\n",
    "        if result and result[0]['summary']:\n",
    "            return result[0]['summary']\n",
    "        return \"No reviews found for this hotel.\"\n",
    "\n",
    "class IdentifyTargetCustomersInput(BaseModel):\n",
    "    input_hotel_class: str = Field(description=\"Hotel class to filter by\")\n",
    "\n",
    "class IdentifyTargetCustomersTool(BaseTool):\n",
    "    name = \"identify_target_customers\"\n",
    "    description = \"This function finds the top 10 customers who transacted the fewest bookings but showed the most interest (via page-views and page-clicks) for a given hotel class\"\n",
    "    args_schema: Type[BaseModel] = IdentifyTargetCustomersInput\n",
    "\n",
    "    def _run(self, input_hotel_class: str) -> str:\n",
    "        sql = f\"SELECT * FROM `{catalog}`.`{db}`.identify_target_customers('{input_hotel_class}')\"\n",
    "        result = spark.sql(sql).collect()\n",
    "        if result:\n",
    "            return json.dumps([row.asDict() for row in result])\n",
    "        return \"[]\"\n",
    "\n",
    "def get_tools():\n",
    "    return [\n",
    "        GetHotelToPromoteTool(),\n",
    "        SummarizeCustomerReviewsTool(),\n",
    "        IdentifyTargetCustomersTool()\n",
    "    ]"
   ]
  },
  {
   "cell_type": "code",
   "execution_count": 0,
   "metadata": {
    "application/vnd.databricks.v1+cell": {
     "cellMetadata": {
      "byteLimit": 2048000,
      "rowLimit": 10000
     },
     "inputWidgets": {},
     "nuid": "503b0f81-061e-48f6-83bc-95e2bf97dd61",
     "showTitle": false,
     "tableResultSettingsMap": {},
     "title": ""
    }
   },
   "outputs": [],
   "source": [
    "from langchain_community.chat_models.databricks import ChatDatabricks\n",
    "\n",
    "# We're going to use llama 3.3 because it's tool-enabled and is available. Keep temp at 0 to make it more deterministic.\n",
    "llm = ChatDatabricks(endpoint=\"databricks-meta-llama-3-3-70b-instruct\",\n",
    "    temperature=0.0,\n",
    "    streaming=False)"
   ]
  },
  {
   "cell_type": "code",
   "execution_count": 0,
   "metadata": {
    "application/vnd.databricks.v1+cell": {
     "cellMetadata": {
      "byteLimit": 2048000,
      "rowLimit": 10000
     },
     "inputWidgets": {},
     "nuid": "d8d8cdd2-9d34-41f1-8303-f3c9e49e803c",
     "showTitle": false,
     "tableResultSettingsMap": {},
     "title": ""
    }
   },
   "outputs": [],
   "source": [
    "from langchain_core.prompts import ChatPromptTemplate\n",
    "from langchain_community.chat_models import ChatDatabricks\n",
    "\n",
    "#This defines our agent's system prompt. Here we can tell it what we expect it to do and guide it on using specific functions.\n",
    "\n",
    "def get_prompt(history = [], prompt = None):\n",
    "    if not prompt:\n",
    "            prompt = \"\"\"You are a helpful assistant for a global hotel company. Your task is to assist the marketing leadership in understanding and acting on their products and sales metrics. You can retrieve and analyze relevant data using specific functions.\n",
    "\n",
    "            You have these three main tasks:\n",
    "\n",
    "        1. Determine which the hotel to promote, let's call it the `selected hotel`, based on the result of the get_hotel_to_promote function based on the value of the hotel_class parameter.\n",
    "\n",
    "        2. Use the customer review summary from the summarize_customer_reviews function and the hotel description to craft the content for a positive social marketing post to promote the `selected hotel`. Mention the hotel by its name, but do not mention that the hotel is not performing well nor mention any of its flaws.\n",
    "\n",
    "        3. Create a list of potential customers to send the social marketing post to by using the identify_target_customers function.\n",
    "\n",
    "        Format the results of all three tasks into a single cohesive output.\n",
    "\n",
    "        Follow these guidelines:\n",
    "        1. Call the appropriate function at each step and ensure results are retrieved before proceeding.\n",
    "        2. Provide clear, coherent responses without mentioning the underlying functions.\n",
    "        3. Do not reference the hotel by its ID.\n",
    "        4. Mention the hotel's city and country.\n",
    "        5. Answer only what the user asks for, no unnecessary information.\n",
    "        6. If asked to generate Instagram posts, first determine what customers like most to ensure relevance.\n",
    "        \"\"\"\n",
    "    return ChatPromptTemplate.from_messages([\n",
    "            (\"system\", prompt),\n",
    "            (\"human\", \"{messages}\"),\n",
    "            (\"placeholder\", \"{agent_scratchpad}\"),\n",
    "    ])"
   ]
  },
  {
   "cell_type": "code",
   "execution_count": 0,
   "metadata": {
    "application/vnd.databricks.v1+cell": {
     "cellMetadata": {
      "byteLimit": 2048000,
      "rowLimit": 10000
     },
     "inputWidgets": {},
     "nuid": "bd8287b6-f10f-45c2-97ec-c073bdbce7f2",
     "showTitle": false,
     "tableResultSettingsMap": {},
     "title": ""
    }
   },
   "outputs": [],
   "source": [
    "from langchain.agents import AgentExecutor, create_openai_tools_agent\n",
    "\n",
    "prompt = get_prompt()\n",
    "tools = get_tools()\n",
    "agent = create_openai_tools_agent(llm, tools, prompt)\n",
    "\n",
    "def model_parsing_error_handler(e):\n",
    "    print(f\"This error occurred during model parsing: {e}\")\n",
    "\n",
    "#Put the pieces together to create our Agent\n",
    "agent_executor = AgentExecutor(agent=agent, tools=tools, verbose=True, handle_parsing_errors=model_parsing_error_handler)"
   ]
  },
  {
   "cell_type": "code",
   "execution_count": 0,
   "metadata": {
    "application/vnd.databricks.v1+cell": {
     "cellMetadata": {
      "byteLimit": 2048000,
      "rowLimit": 10000
     },
     "inputWidgets": {},
     "nuid": "88fdf221-3e2d-4012-8d76-24b21a4a0729",
     "showTitle": false,
     "tableResultSettingsMap": {},
     "title": ""
    }
   },
   "outputs": [],
   "source": [
    "from operator import itemgetter\n",
    "from langchain.schema.runnable import RunnableLambda\n",
    "from langchain_core.output_parsers import StrOutputParser\n",
    "\n",
    "# Very basic chain that allows us to pass the input (messages) into the Agent and collect the (output) as a string\n",
    "\n",
    "agent_str = ({ \"messages\": itemgetter(\"messages\")} | agent_executor | itemgetter(\"output\") | StrOutputParser())\n"
   ]
  },
  {
   "cell_type": "code",
   "execution_count": 0,
   "metadata": {
    "application/vnd.databricks.v1+cell": {
     "cellMetadata": {
      "byteLimit": 2048000,
      "rowLimit": 10000
     },
     "inputWidgets": {},
     "nuid": "c4108c26-91a0-4f99-9383-bafca6677f8a",
     "showTitle": false,
     "tableResultSettingsMap": {},
     "title": ""
    }
   },
   "outputs": [],
   "source": [
    "import logging\n",
    "# Uncomment the line below if you are experiencing errors\n",
    "# logging.basicConfig(level=logging.DEBUG)\n",
    "\n",
    "answer = \"\"\n",
    "\n",
    "# Retrieve the hotel class from the widget\n",
    "hotel_class = dbutils.widgets.get(\"hotel_class\")\n",
    "\n",
    "# Construct the message\n",
    "message = f\"Use the available tools to find the ideal hotel to promote from the {hotel_class} class, then create a positive social marketing post to promote it and lastly find a list of prospective customers to send the post to. Mention the hotel by its name and location.\"\n",
    "\n",
    "# Invoke the agent with the constructed message\n",
    "try:\n",
    "    answer = agent_str.invoke({\"messages\": message})\n",
    "except AssertionError as e:\n",
    "    logging.error(\"AssertionError: Statement execution failed but no error message was provided.\")\n",
    "    raise e\n",
    "\n",
    "display(answer)"
   ]
  }
 ],
 "metadata": {
  "application/vnd.databricks.v1+notebook": {
   "computePreferences": null,
   "dashboards": [],
   "environmentMetadata": {
    "base_environment": "",
    "environment_version": "2"
   },
   "inputWidgetPreferences": null,
   "language": "python",
   "notebookMetadata": {
    "mostRecentlyExecutedCommandWithImplicitDF": {
     "commandId": 7595230912105637,
     "dataframes": [
      "_sqldf"
     ]
    },
    "pythonIndentUnit": 4
   },
   "notebookName": "river_hotel_targeted_marketing_ai_agent (1)",
   "widgets": {
    "catalog": {
     "currentValue": "neo-tableflow-databricks-catalog-52ff0be3",
     "nuid": "3c55742e-608a-46e9-9ee5-e5c00f1a60cf",
     "typedWidgetInfo": {
      "autoCreated": false,
      "defaultValue": "",
      "label": null,
      "name": "catalog",
      "options": {
       "validationRegex": null,
       "widgetDisplayType": "Text"
      },
      "parameterDataType": "String"
     },
     "widgetInfo": {
      "defaultValue": "",
      "label": null,
      "name": "catalog",
      "options": {
       "autoCreated": null,
       "validationRegex": null,
       "widgetType": "text"
      },
      "widgetType": "text"
     }
    },
    "database": {
     "currentValue": "lkc-g8j8zn",
     "nuid": "7aa2c514-d309-4207-a4cc-723eaab73b45",
     "typedWidgetInfo": {
      "autoCreated": false,
      "defaultValue": "",
      "label": null,
      "name": "database",
      "options": {
       "validationRegex": null,
       "widgetDisplayType": "Text"
      },
      "parameterDataType": "String"
     },
     "widgetInfo": {
      "defaultValue": "",
      "label": null,
      "name": "database",
      "options": {
       "autoCreated": null,
       "validationRegex": null,
       "widgetType": "text"
      },
      "widgetType": "text"
     }
    },
    "hotel_class": {
     "currentValue": "Economy",
     "nuid": "77f371f3-9c76-43e5-bd08-1213fdf35f91",
     "typedWidgetInfo": {
      "autoCreated": false,
      "defaultValue": "Resort",
      "label": null,
      "name": "hotel_class",
      "options": {
       "choices": [
        "Resort",
        "Extended Stay",
        "Luxury",
        "Economy",
        "Airport"
       ],
       "fixedDomain": true,
       "multiselect": false,
       "widgetDisplayType": "Dropdown"
      },
      "parameterDataType": "String"
     },
     "widgetInfo": {
      "defaultValue": "Resort",
      "label": null,
      "name": "hotel_class",
      "options": {
       "autoCreated": null,
       "choices": [
        "Resort",
        "Extended Stay",
        "Luxury",
        "Economy",
        "Airport"
       ],
       "widgetType": "dropdown"
      },
      "widgetType": "dropdown"
     }
    },
    "hotel_to_promote": {
     "currentValue": "H10000317",
     "nuid": "c0b3d104-0f3b-43e7-9311-c08645c0c916",
     "typedWidgetInfo": {
      "autoCreated": false,
      "defaultValue": "",
      "label": null,
      "name": "hotel_to_promote",
      "options": {
       "validationRegex": null,
       "widgetDisplayType": "Text"
      },
      "parameterDataType": "String"
     },
     "widgetInfo": {
      "defaultValue": "",
      "label": null,
      "name": "hotel_to_promote",
      "options": {
       "autoCreated": null,
       "validationRegex": null,
       "widgetType": "text"
      },
      "widgetType": "text"
     }
    },
    "warehouse_id": {
     "currentValue": "3a3cfdb8c01abed6",
     "nuid": "7369d34e-2286-4d9b-ac06-41dbb552ade4",
     "typedWidgetInfo": {
      "autoCreated": false,
      "defaultValue": "",
      "label": null,
      "name": "warehouse_id",
      "options": {
       "validationRegex": null,
       "widgetDisplayType": "Text"
      },
      "parameterDataType": "String"
     },
     "widgetInfo": {
      "defaultValue": "",
      "label": null,
      "name": "warehouse_id",
      "options": {
       "autoCreated": null,
       "validationRegex": null,
       "widgetType": "text"
      },
      "widgetType": "text"
     }
    }
   }
  },
  "language_info": {
   "name": "python"
  }
 },
 "nbformat": 4,
 "nbformat_minor": 0
}
