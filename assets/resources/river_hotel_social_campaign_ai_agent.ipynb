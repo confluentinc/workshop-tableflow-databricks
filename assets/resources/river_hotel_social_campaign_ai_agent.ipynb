{
 "cells": [
  {
   "cell_type": "markdown",
   "metadata": {
    "application/vnd.databricks.v1+cell": {
     "cellMetadata": {
      "byteLimit": 2048000,
      "rowLimit": 10000
     },
     "inputWidgets": {},
     "nuid": "22242a8d-a743-49c4-8c1d-6f15f0bd1863",
     "showTitle": false,
     "tableResultSettingsMap": {},
     "title": ""
    }
   },
   "source": [
    "## Social Media Campaign Generator Agent \n",
    "\n",
    "This notebook guides you through the steps of creating an AI Agent that will create targeted social media campaigns for hotels.\n",
    "\n",
    "Execute each of the Python or SQL cells sequentially to generate the tools and AI Agent.\n",
    "\n",
    "### Step 1: Create tools for AI Agent\n",
    "\n",
    "You will create several functions to be used by the agent to help it generate the targeted social media posts.\n"
   ]
  },
  {
   "cell_type": "code",
   "execution_count": 0,
   "metadata": {
    "application/vnd.databricks.v1+cell": {
     "cellMetadata": {
      "byteLimit": 2048000,
      "rowLimit": 10000
     },
     "inputWidgets": {},
     "nuid": "d0e0859e-f3ca-45f9-8d23-9e5c46a716ae",
     "showTitle": false,
     "tableResultSettingsMap": {},
     "title": ""
    }
   },
   "outputs": [],
   "source": [
    "catalog = \"workspace\"\n",
    "db = \"default\"\n",
    "warehouse_id = \"66f2eab0f64875a4\"\n",
    "\n",
    "# Create a Databricks widget to store the catalog, database, and warehouse ID for all subsequent use\n",
    "dbutils.widgets.text(\"catalog\", catalog)\n",
    "dbutils.widgets.text(\"database\", db)\n",
    "dbutils.widgets.text(\"warehouse_id\", warehouse_id)"
   ]
  },
  {
   "cell_type": "code",
   "execution_count": 0,
   "metadata": {
    "application/vnd.databricks.v1+cell": {
     "cellMetadata": {
      "byteLimit": 2048000,
      "implicitDf": true,
      "rowLimit": 10000
     },
     "collapsed": true,
     "inputWidgets": {},
     "nuid": "5bbca660-363a-4d18-bf9d-11a36275e2d0",
     "showTitle": false,
     "tableResultSettingsMap": {},
     "title": ""
    }
   },
   "outputs": [
    {
     "output_type": "display_data",
     "data": {
      "text/html": [
       "<style scoped>\n",
       "  .table-result-container {\n",
       "    max-height: 300px;\n",
       "    overflow: auto;\n",
       "  }\n",
       "  table, th, td {\n",
       "    border: 1px solid black;\n",
       "    border-collapse: collapse;\n",
       "  }\n",
       "  th, td {\n",
       "    padding: 5px;\n",
       "  }\n",
       "  th {\n",
       "    text-align: left;\n",
       "  }\n",
       "</style><div class='table-result-container'><table class='table-result'><thead style='background-color: white'><tr><th>CITY</th></tr></thead><tbody><tr><td>Denver</td></tr><tr><td>Suez</td></tr><tr><td>Frankfurt</td></tr><tr><td>Paris</td></tr><tr><td>Naples</td></tr><tr><td>Bordeaux</td></tr><tr><td>Liverpool</td></tr><tr><td>Chennai</td></tr><tr><td>Melbourne</td></tr><tr><td>Lyon</td></tr><tr><td>Jaipur</td></tr><tr><td>Kyoto</td></tr><tr><td>Marseille</td></tr><tr><td>Sapporo</td></tr><tr><td>Orlando</td></tr><tr><td>Kobe</td></tr><tr><td>Catania</td></tr><tr><td>Alexandria</td></tr><tr><td>Port Said</td></tr><tr><td>Leipzig</td></tr><tr><td>Delhi</td></tr><tr><td>Berlin</td></tr><tr><td>Leeds</td></tr><tr><td>Mansoura</td></tr><tr><td>Ahmedabad</td></tr><tr><td>Newcastle</td></tr><tr><td>Cardiff</td></tr><tr><td>Brisbane</td></tr><tr><td>Wollongong</td></tr><tr><td>Los Angeles</td></tr><tr><td>El-Mahalla El-Kubra</td></tr><tr><td>Florence</td></tr><tr><td>Bologna</td></tr><tr><td>Mumbai</td></tr><tr><td>New York</td></tr><tr><td>Nice</td></tr><tr><td>Birmingham</td></tr><tr><td>Nantes</td></tr><tr><td>Nagoya</td></tr><tr><td>Pune</td></tr><tr><td>Munich</td></tr><tr><td>Seattle</td></tr><tr><td>Nottingham</td></tr><tr><td>Kawasaki</td></tr><tr><td>Stuttgart</td></tr><tr><td>Gold Coast</td></tr><tr><td>Bristol</td></tr><tr><td>Yokohama</td></tr><tr><td>Phoenix</td></tr><tr><td>Saitama</td></tr><tr><td>Tokyo</td></tr><tr><td>Surat</td></tr><tr><td>Bari</td></tr><tr><td>Tanta</td></tr><tr><td>Chicago</td></tr><tr><td>Dortmund</td></tr><tr><td>Genoa</td></tr><tr><td>Turin</td></tr><tr><td>Sunshine Coast</td></tr><tr><td>Adelaide</td></tr><tr><td>Cairo</td></tr><tr><td>Sheffield</td></tr><tr><td>Lille</td></tr><tr><td>Strasbourg</td></tr><tr><td>Essen</td></tr><tr><td>San Francisco</td></tr><tr><td>Osaka</td></tr><tr><td>Sydney</td></tr><tr><td>Bengaluru</td></tr><tr><td>Montpellier</td></tr><tr><td>Hamburg</td></tr><tr><td>Manchester</td></tr><tr><td>Rome</td></tr><tr><td>London</td></tr><tr><td>Giza</td></tr><tr><td>Milan</td></tr><tr><td>Cologne</td></tr><tr><td>Fukuoka</td></tr><tr><td>Palermo</td></tr><tr><td>Toulouse</td></tr><tr><td>Houston</td></tr><tr><td>Hyderabad</td></tr><tr><td>Luxor</td></tr><tr><td>Dusseldorf</td></tr><tr><td>Miami</td></tr></tbody></table></div>"
      ]
     },
     "metadata": {
      "application/vnd.databricks.v1+output": {
       "addedWidgets": {},
       "aggData": [],
       "aggError": "",
       "aggOverflow": false,
       "aggSchema": [],
       "aggSeriesLimitReached": false,
       "aggType": "",
       "arguments": {},
       "columnCustomDisplayInfos": {},
       "data": [
        [
         "Denver"
        ],
        [
         "Suez"
        ],
        [
         "Frankfurt"
        ],
        [
         "Paris"
        ],
        [
         "Naples"
        ],
        [
         "Bordeaux"
        ],
        [
         "Liverpool"
        ],
        [
         "Chennai"
        ],
        [
         "Melbourne"
        ],
        [
         "Lyon"
        ],
        [
         "Jaipur"
        ],
        [
         "Kyoto"
        ],
        [
         "Marseille"
        ],
        [
         "Sapporo"
        ],
        [
         "Orlando"
        ],
        [
         "Kobe"
        ],
        [
         "Catania"
        ],
        [
         "Alexandria"
        ],
        [
         "Port Said"
        ],
        [
         "Leipzig"
        ],
        [
         "Delhi"
        ],
        [
         "Berlin"
        ],
        [
         "Leeds"
        ],
        [
         "Mansoura"
        ],
        [
         "Ahmedabad"
        ],
        [
         "Newcastle"
        ],
        [
         "Cardiff"
        ],
        [
         "Brisbane"
        ],
        [
         "Wollongong"
        ],
        [
         "Los Angeles"
        ],
        [
         "El-Mahalla El-Kubra"
        ],
        [
         "Florence"
        ],
        [
         "Bologna"
        ],
        [
         "Mumbai"
        ],
        [
         "New York"
        ],
        [
         "Nice"
        ],
        [
         "Birmingham"
        ],
        [
         "Nantes"
        ],
        [
         "Nagoya"
        ],
        [
         "Pune"
        ],
        [
         "Munich"
        ],
        [
         "Seattle"
        ],
        [
         "Nottingham"
        ],
        [
         "Kawasaki"
        ],
        [
         "Stuttgart"
        ],
        [
         "Gold Coast"
        ],
        [
         "Bristol"
        ],
        [
         "Yokohama"
        ],
        [
         "Phoenix"
        ],
        [
         "Saitama"
        ],
        [
         "Tokyo"
        ],
        [
         "Surat"
        ],
        [
         "Bari"
        ],
        [
         "Tanta"
        ],
        [
         "Chicago"
        ],
        [
         "Dortmund"
        ],
        [
         "Genoa"
        ],
        [
         "Turin"
        ],
        [
         "Sunshine Coast"
        ],
        [
         "Adelaide"
        ],
        [
         "Cairo"
        ],
        [
         "Sheffield"
        ],
        [
         "Lille"
        ],
        [
         "Strasbourg"
        ],
        [
         "Essen"
        ],
        [
         "San Francisco"
        ],
        [
         "Osaka"
        ],
        [
         "Sydney"
        ],
        [
         "Bengaluru"
        ],
        [
         "Montpellier"
        ],
        [
         "Hamburg"
        ],
        [
         "Manchester"
        ],
        [
         "Rome"
        ],
        [
         "London"
        ],
        [
         "Giza"
        ],
        [
         "Milan"
        ],
        [
         "Cologne"
        ],
        [
         "Fukuoka"
        ],
        [
         "Palermo"
        ],
        [
         "Toulouse"
        ],
        [
         "Houston"
        ],
        [
         "Hyderabad"
        ],
        [
         "Luxor"
        ],
        [
         "Dusseldorf"
        ],
        [
         "Miami"
        ]
       ],
       "datasetInfos": [
        {
         "name": "_sqldf",
         "schema": {
          "fields": [
           {
            "metadata": {},
            "name": "CITY",
            "nullable": true,
            "type": "string"
           }
          ],
          "type": "struct"
         },
         "tableIdentifier": null,
         "typeStr": "pyspark.sql.connect.dataframe.DataFrame"
        }
       ],
       "dbfsResultPath": null,
       "isJsonSchema": true,
       "metadata": {
        "createTempViewForImplicitDf": true,
        "dataframeName": "_sqldf",
        "executionCount": 2
       },
       "overflow": false,
       "plotOptions": {
        "customPlotOptions": {},
        "displayType": "table",
        "pivotAggregation": null,
        "pivotColumns": null,
        "xColumns": null,
        "yColumns": null
       },
       "removedWidgets": [],
       "schema": [
        {
         "metadata": "{}",
         "name": "CITY",
         "type": "\"string\""
        }
       ],
       "type": "table"
      }
     },
     "output_type": "display_data"
    }
   ],
   "source": [
    "%sql\n",
    "-- Pick any city from the result set of this query and store it as the city variable in the next cell\n",
    "\n",
    "USE CATALOG IDENTIFIER(:catalog);\n",
    "USE DATABASE IDENTIFIER(:database);\n",
    " \n",
    "SELECT hc.CITY FROM hotel_catalog as hc\n",
    "  JOIN hotel_reviews as hr\n",
    "  -- Filter out cities that do not have any hotels with reviews\n",
    "    ON hc.HOTEL_ID = hr.HOTEL_ID\n",
    "GROUP BY hc.CITY;"
   ]
  },
  {
   "cell_type": "code",
   "execution_count": 0,
   "metadata": {
    "application/vnd.databricks.v1+cell": {
     "cellMetadata": {
      "byteLimit": 2048000,
      "rowLimit": 10000
     },
     "collapsed": true,
     "inputWidgets": {},
     "nuid": "6f15ac6e-d7f6-49ca-b884-bdc130924d8f",
     "showTitle": false,
     "tableResultSettingsMap": {},
     "title": ""
    }
   },
   "outputs": [],
   "source": [
    "# Set the city here from the one you selected from the previous cell\n",
    "\n",
    "# EXAMPLE: \n",
    "# selected_city = 'London'\n",
    "\n",
    "selected_city = 'Denver'\n",
    "\n",
    "# Create a Databricks widget to store the selected city for later SQL use\n",
    "dbutils.widgets.text(\"selected_city\", selected_city)"
   ]
  },
  {
   "cell_type": "code",
   "execution_count": 0,
   "metadata": {
    "application/vnd.databricks.v1+cell": {
     "cellMetadata": {
      "byteLimit": 2048000,
      "implicitDf": true,
      "rowLimit": 10000
     },
     "collapsed": true,
     "inputWidgets": {},
     "nuid": "82c65afa-ac37-4fad-83f9-1cc9202394fd",
     "showTitle": false,
     "tableResultSettingsMap": {},
     "title": ""
    }
   },
   "outputs": [],
   "source": [
    "%sql\n",
    "-- This function takes a city as an input and performs an aggregation to return the total sales and number of bookings for each HOTEL_ID in that city\n",
    "\n",
    "USE CATALOG IDENTIFIER(:catalog);\n",
    "USE DATABASE IDENTIFIER(:database);\n",
    "\n",
    "CREATE OR REPLACE FUNCTION hotel_sales_per_city (input_city STRING COMMENT 'City to be searched')\n",
    "returns table(total_sales BIGINT, total_bookings BIGINT, hotel_id STRING, hotel_name STRING)\n",
    "LANGUAGE SQL\n",
    "COMMENT 'This function takes a city as an input, and this time does an aggregate to return the sales and number of bookings for each HOTEL_ID in the city'\n",
    "return\n",
    "  (SELECT SUM(PRICE) AS total_sales, count(*) AS total_bookings, hotel_id, hotel_name\n",
    "    FROM hotel_bookings AS hb\n",
    "      WHERE hb.CITY = input_city GROUP BY HOTEL_ID, HOTEL_NAME\n",
    "      order by total_sales desc)"
   ]
  },
  {
   "cell_type": "code",
   "execution_count": 0,
   "metadata": {
    "application/vnd.databricks.v1+cell": {
     "cellMetadata": {
      "byteLimit": 2048000,
      "implicitDf": true,
      "rowLimit": 10000
     },
     "collapsed": true,
     "inputWidgets": {},
     "nuid": "e4aa0845-7b42-4bd2-861e-17d1080accc5",
     "showTitle": false,
     "tableResultSettingsMap": {},
     "title": ""
    }
   },
   "outputs": [
    {
     "output_type": "display_data",
     "data": {
      "text/html": [
       "<style scoped>\n",
       "  .table-result-container {\n",
       "    max-height: 300px;\n",
       "    overflow: auto;\n",
       "  }\n",
       "  table, th, td {\n",
       "    border: 1px solid black;\n",
       "    border-collapse: collapse;\n",
       "  }\n",
       "  th, td {\n",
       "    padding: 5px;\n",
       "  }\n",
       "  th {\n",
       "    text-align: left;\n",
       "  }\n",
       "</style><div class='table-result-container'><table class='table-result'><thead style='background-color: white'><tr><th>total_sales</th><th>total_bookings</th><th>hotel_id</th><th>hotel_name</th></tr></thead><tbody><tr><td>819</td><td>4</td><td>H10000538</td><td>River Bordeaux Inn</td></tr><tr><td>682</td><td>3</td><td>H10000803</td><td>River Bordeaux Lodge</td></tr><tr><td>570</td><td>3</td><td>H10000625</td><td>River Bordeaux Luxury Spa</td></tr><tr><td>535</td><td>3</td><td>H10000465</td><td>River Bordeaux Inn</td></tr><tr><td>435</td><td>2</td><td>H10000750</td><td>River Bordeaux Suites</td></tr><tr><td>420</td><td>2</td><td>H10000483</td><td>River Bordeaux Luxury Hotel</td></tr></tbody></table></div>"
      ]
     },
     "metadata": {
      "application/vnd.databricks.v1+output": {
       "addedWidgets": {},
       "aggData": [],
       "aggError": "",
       "aggOverflow": false,
       "aggSchema": [],
       "aggSeriesLimitReached": false,
       "aggType": "",
       "arguments": {},
       "columnCustomDisplayInfos": {},
       "data": [
        [
         819,
         4,
         "H10000538",
         "River Bordeaux Inn"
        ],
        [
         682,
         3,
         "H10000803",
         "River Bordeaux Lodge"
        ],
        [
         570,
         3,
         "H10000625",
         "River Bordeaux Luxury Spa"
        ],
        [
         535,
         3,
         "H10000465",
         "River Bordeaux Inn"
        ],
        [
         435,
         2,
         "H10000750",
         "River Bordeaux Suites"
        ],
        [
         420,
         2,
         "H10000483",
         "River Bordeaux Luxury Hotel"
        ]
       ],
       "datasetInfos": [
        {
         "name": "_sqldf",
         "schema": {
          "fields": [
           {
            "metadata": {},
            "name": "total_sales",
            "nullable": true,
            "type": "long"
           },
           {
            "metadata": {},
            "name": "total_bookings",
            "nullable": false,
            "type": "long"
           },
           {
            "metadata": {},
            "name": "hotel_id",
            "nullable": false,
            "type": "string"
           },
           {
            "metadata": {},
            "name": "hotel_name",
            "nullable": true,
            "type": "string"
           }
          ],
          "type": "struct"
         },
         "tableIdentifier": null,
         "typeStr": "pyspark.sql.connect.dataframe.DataFrame"
        }
       ],
       "dbfsResultPath": null,
       "isJsonSchema": true,
       "metadata": {
        "createTempViewForImplicitDf": true,
        "dataframeName": "_sqldf",
        "executionCount": 5
       },
       "overflow": false,
       "plotOptions": {
        "customPlotOptions": {},
        "displayType": "table",
        "pivotAggregation": null,
        "pivotColumns": null,
        "xColumns": null,
        "yColumns": null
       },
       "removedWidgets": [],
       "schema": [
        {
         "metadata": "{}",
         "name": "total_sales",
         "type": "\"long\""
        },
        {
         "metadata": "{}",
         "name": "total_bookings",
         "type": "\"long\""
        },
        {
         "metadata": "{}",
         "name": "hotel_id",
         "type": "\"string\""
        },
        {
         "metadata": "{}",
         "name": "hotel_name",
         "type": "\"string\""
        }
       ],
       "type": "table"
      }
     },
     "output_type": "display_data"
    }
   ],
   "source": [
    "%sql\n",
    "-- Test out the `hotel_sales_per_city` function\n",
    "\n",
    "USE CATALOG IDENTIFIER(:catalog);\n",
    "USE DATABASE IDENTIFIER(:database);\n",
    "\n",
    "SELECT * \n",
    "  FROM hotel_sales_per_city(:selected_city);"
   ]
  },
  {
   "cell_type": "code",
   "execution_count": 0,
   "metadata": {
    "application/vnd.databricks.v1+cell": {
     "cellMetadata": {
      "byteLimit": 2048000,
      "implicitDf": true,
      "rowLimit": 10000
     },
     "collapsed": true,
     "inputWidgets": {},
     "nuid": "a8e1fd47-9a04-4c97-b899-67da8c375f0e",
     "showTitle": false,
     "tableResultSettingsMap": {},
     "title": ""
    }
   },
   "outputs": [
    {
     "output_type": "display_data",
     "data": {
      "text/html": [
       "<style scoped>\n",
       "  .table-result-container {\n",
       "    max-height: 300px;\n",
       "    overflow: auto;\n",
       "  }\n",
       "  table, th, td {\n",
       "    border: 1px solid black;\n",
       "    border-collapse: collapse;\n",
       "  }\n",
       "  th, td {\n",
       "    padding: 5px;\n",
       "  }\n",
       "  th {\n",
       "    text-align: left;\n",
       "  }\n",
       "</style><div class='table-result-container'><table class='table-result'><thead style='background-color: white'><tr><th>review_count</th><th>average_review_rating</th><th>HOTEL_ID</th></tr></thead><tbody><tr><td>5</td><td>3.6</td><td>H10000582</td></tr><tr><td>5</td><td>4.0</td><td>H10000802</td></tr><tr><td>5</td><td>4.4</td><td>H10000772</td></tr><tr><td>4</td><td>4.25</td><td>H10000668</td></tr><tr><td>4</td><td>4.25</td><td>H10000480</td></tr><tr><td>4</td><td>4.0</td><td>H10000588</td></tr><tr><td>3</td><td>4.666666666666667</td><td>H10000706</td></tr><tr><td>3</td><td>4.0</td><td>H10000448</td></tr><tr><td>3</td><td>4.0</td><td>H10000603</td></tr><tr><td>3</td><td>4.666666666666667</td><td>H10000316</td></tr><tr><td>3</td><td>3.0</td><td>H10000407</td></tr><tr><td>3</td><td>4.333333333333333</td><td>H10000592</td></tr><tr><td>3</td><td>4.333333333333333</td><td>H10000533</td></tr><tr><td>3</td><td>4.0</td><td>H10000468</td></tr><tr><td>3</td><td>4.0</td><td>H10000371</td></tr><tr><td>3</td><td>3.6666666666666665</td><td>H10000628</td></tr><tr><td>3</td><td>4.0</td><td>H10000318</td></tr><tr><td>3</td><td>4.0</td><td>H10000729</td></tr><tr><td>3</td><td>4.333333333333333</td><td>H10000394</td></tr><tr><td>3</td><td>3.3333333333333335</td><td>H10000512</td></tr><tr><td>3</td><td>4.0</td><td>H10000583</td></tr><tr><td>3</td><td>3.3333333333333335</td><td>H10000561</td></tr><tr><td>3</td><td>4.333333333333333</td><td>H10000671</td></tr><tr><td>2</td><td>3.5</td><td>H10000323</td></tr><tr><td>2</td><td>4.0</td><td>H10000426</td></tr><tr><td>2</td><td>5.0</td><td>H10000358</td></tr><tr><td>2</td><td>3.5</td><td>H10000366</td></tr><tr><td>2</td><td>3.5</td><td>H10000640</td></tr><tr><td>2</td><td>3.5</td><td>H10000357</td></tr><tr><td>2</td><td>4.0</td><td>H10000321</td></tr><tr><td>2</td><td>3.0</td><td>H10000527</td></tr><tr><td>2</td><td>4.5</td><td>H10000537</td></tr><tr><td>2</td><td>4.0</td><td>H10000709</td></tr><tr><td>2</td><td>4.5</td><td>H10000580</td></tr><tr><td>2</td><td>4.0</td><td>H10000417</td></tr><tr><td>2</td><td>5.0</td><td>H10000315</td></tr><tr><td>2</td><td>4.0</td><td>H10000715</td></tr><tr><td>2</td><td>4.0</td><td>H10000720</td></tr><tr><td>2</td><td>5.0</td><td>H10000345</td></tr><tr><td>2</td><td>3.5</td><td>H10000484</td></tr><tr><td>2</td><td>3.0</td><td>H10000503</td></tr><tr><td>2</td><td>3.5</td><td>H10000743</td></tr><tr><td>2</td><td>4.0</td><td>H10000547</td></tr><tr><td>2</td><td>3.0</td><td>H10000630</td></tr><tr><td>2</td><td>3.5</td><td>H10000763</td></tr><tr><td>2</td><td>4.5</td><td>H10000570</td></tr><tr><td>2</td><td>4.0</td><td>H10000506</td></tr><tr><td>2</td><td>3.5</td><td>H10000576</td></tr><tr><td>2</td><td>4.0</td><td>H10000623</td></tr><tr><td>2</td><td>3.0</td><td>H10000643</td></tr><tr><td>2</td><td>4.0</td><td>H10000507</td></tr><tr><td>2</td><td>4.5</td><td>H10000721</td></tr><tr><td>2</td><td>3.5</td><td>H10000510</td></tr><tr><td>2</td><td>4.0</td><td>H10000777</td></tr><tr><td>2</td><td>4.0</td><td>H10000558</td></tr><tr><td>2</td><td>3.0</td><td>H10000787</td></tr><tr><td>2</td><td>5.0</td><td>H10000550</td></tr><tr><td>2</td><td>4.5</td><td>H10000327</td></tr><tr><td>2</td><td>3.5</td><td>H10000378</td></tr><tr><td>2</td><td>4.0</td><td>H10000485</td></tr><tr><td>2</td><td>3.5</td><td>H10000549</td></tr><tr><td>2</td><td>3.5</td><td>H10000675</td></tr><tr><td>2</td><td>3.5</td><td>H10000415</td></tr><tr><td>2</td><td>4.5</td><td>H10000536</td></tr><tr><td>2</td><td>3.5</td><td>H10000569</td></tr><tr><td>2</td><td>3.5</td><td>H10000642</td></tr><tr><td>2</td><td>4.5</td><td>H10000457</td></tr><tr><td>2</td><td>3.0</td><td>H10000778</td></tr><tr><td>2</td><td>4.0</td><td>H10000791</td></tr><tr><td>2</td><td>4.0</td><td>H10000384</td></tr><tr><td>2</td><td>4.0</td><td>H10000434</td></tr><tr><td>2</td><td>4.5</td><td>H10000322</td></tr><tr><td>2</td><td>3.0</td><td>H10000425</td></tr><tr><td>2</td><td>4.5</td><td>H10000625</td></tr><tr><td>2</td><td>3.0</td><td>H10000766</td></tr><tr><td>2</td><td>3.0</td><td>H10000438</td></tr><tr><td>2</td><td>3.0</td><td>H10000738</td></tr><tr><td>2</td><td>4.5</td><td>H10000454</td></tr><tr><td>2</td><td>3.5</td><td>H10000336</td></tr><tr><td>2</td><td>3.5</td><td>H10000728</td></tr><tr><td>2</td><td>4.0</td><td>H10000526</td></tr><tr><td>2</td><td>5.0</td><td>H10000408</td></tr><tr><td>2</td><td>3.5</td><td>H10000644</td></tr><tr><td>2</td><td>4.0</td><td>H10000632</td></tr><tr><td>2</td><td>3.5</td><td>H10000581</td></tr><tr><td>2</td><td>4.0</td><td>H10000637</td></tr><tr><td>2</td><td>4.5</td><td>H10000746</td></tr><tr><td>2</td><td>4.5</td><td>H10000355</td></tr><tr><td>2</td><td>5.0</td><td>H10000782</td></tr><tr><td>2</td><td>3.5</td><td>H10000596</td></tr><tr><td>2</td><td>3.0</td><td>H10000577</td></tr><tr><td>2</td><td>4.5</td><td>H10000544</td></tr><tr><td>2</td><td>4.0</td><td>H10000556</td></tr><tr><td>2</td><td>4.0</td><td>H10000585</td></tr><tr><td>2</td><td>4.0</td><td>H10000452</td></tr><tr><td>1</td><td>3.0</td><td>H10000655</td></tr><tr><td>1</td><td>4.0</td><td>H10000685</td></tr><tr><td>1</td><td>5.0</td><td>H10000745</td></tr><tr><td>1</td><td>5.0</td><td>H10000551</td></tr><tr><td>1</td><td>5.0</td><td>H10000436</td></tr><tr><td>1</td><td>5.0</td><td>H10000406</td></tr><tr><td>1</td><td>5.0</td><td>H10000429</td></tr><tr><td>1</td><td>5.0</td><td>H10000350</td></tr><tr><td>1</td><td>3.0</td><td>H10000598</td></tr><tr><td>1</td><td>5.0</td><td>H10000340</td></tr><tr><td>1</td><td>5.0</td><td>H10000412</td></tr><tr><td>1</td><td>3.0</td><td>H10000573</td></tr><tr><td>1</td><td>4.0</td><td>H10000781</td></tr><tr><td>1</td><td>4.0</td><td>H10000395</td></tr><tr><td>1</td><td>3.0</td><td>H10000723</td></tr><tr><td>1</td><td>3.0</td><td>H10000416</td></tr><tr><td>1</td><td>5.0</td><td>H10000654</td></tr><tr><td>1</td><td>5.0</td><td>H10000735</td></tr><tr><td>1</td><td>5.0</td><td>H10000611</td></tr><tr><td>1</td><td>3.0</td><td>H10000458</td></tr><tr><td>1</td><td>5.0</td><td>H10000402</td></tr><tr><td>1</td><td>3.0</td><td>H10000379</td></tr><tr><td>1</td><td>5.0</td><td>H10000595</td></tr><tr><td>1</td><td>4.0</td><td>H10000351</td></tr><tr><td>1</td><td>5.0</td><td>H10000518</td></tr><tr><td>1</td><td>5.0</td><td>H10000686</td></tr><tr><td>1</td><td>3.0</td><td>H10000390</td></tr><tr><td>1</td><td>5.0</td><td>H10000674</td></tr><tr><td>1</td><td>4.0</td><td>H10000559</td></tr><tr><td>1</td><td>5.0</td><td>H10000578</td></tr><tr><td>1</td><td>4.0</td><td>H10000757</td></tr><tr><td>1</td><td>4.0</td><td>H10000652</td></tr><tr><td>1</td><td>4.0</td><td>H10000338</td></tr><tr><td>1</td><td>4.0</td><td>H10000711</td></tr><tr><td>1</td><td>3.0</td><td>H10000543</td></tr><tr><td>1</td><td>4.0</td><td>H10000370</td></tr><tr><td>1</td><td>4.0</td><td>H10000702</td></tr><tr><td>1</td><td>4.0</td><td>H10000519</td></tr><tr><td>1</td><td>4.0</td><td>H10000762</td></tr><tr><td>1</td><td>5.0</td><td>H10000342</td></tr><tr><td>1</td><td>5.0</td><td>H10000764</td></tr><tr><td>1</td><td>3.0</td><td>H10000770</td></tr><tr><td>1</td><td>4.0</td><td>H10000661</td></tr><tr><td>1</td><td>4.0</td><td>H10000410</td></tr><tr><td>1</td><td>3.0</td><td>H10000615</td></tr><tr><td>1</td><td>5.0</td><td>H10000477</td></tr><tr><td>1</td><td>4.0</td><td>H10000759</td></tr><tr><td>1</td><td>4.0</td><td>H10000439</td></tr><tr><td>1</td><td>5.0</td><td>H10000347</td></tr><tr><td>1</td><td>5.0</td><td>H10000515</td></tr><tr><td>1</td><td>4.0</td><td>H10000788</td></tr><tr><td>1</td><td>3.0</td><td>H10000307</td></tr><tr><td>1</td><td>4.0</td><td>H10000761</td></tr><tr><td>1</td><td>3.0</td><td>H10000445</td></tr><tr><td>1</td><td>4.0</td><td>H10000520</td></tr><tr><td>1</td><td>4.0</td><td>H10000740</td></tr><tr><td>1</td><td>5.0</td><td>H10000744</td></tr><tr><td>1</td><td>3.0</td><td>H10000591</td></tr><tr><td>1</td><td>3.0</td><td>H10000684</td></tr><tr><td>1</td><td>5.0</td><td>H10000497</td></tr><tr><td>1</td><td>4.0</td><td>H10000344</td></tr><tr><td>1</td><td>3.0</td><td>H10000459</td></tr><tr><td>1</td><td>5.0</td><td>H10000609</td></tr><tr><td>1</td><td>5.0</td><td>H10000359</td></tr><tr><td>1</td><td>5.0</td><td>H10000658</td></tr><tr><td>1</td><td>4.0</td><td>H10000610</td></tr><tr><td>1</td><td>3.0</td><td>H10000732</td></tr><tr><td>1</td><td>3.0</td><td>H10000666</td></tr><tr><td>1</td><td>5.0</td><td>H10000482</td></tr><tr><td>1</td><td>4.0</td><td>H10000320</td></tr><tr><td>1</td><td>3.0</td><td>H10000389</td></tr><tr><td>1</td><td>4.0</td><td>H10000492</td></tr><tr><td>1</td><td>4.0</td><td>H10000464</td></tr><tr><td>1</td><td>4.0</td><td>H10000701</td></tr><tr><td>1</td><td>4.0</td><td>H10000638</td></tr><tr><td>1</td><td>4.0</td><td>H10000393</td></tr><tr><td>1</td><td>3.0</td><td>H10000618</td></tr><tr><td>1</td><td>5.0</td><td>H10000535</td></tr><tr><td>1</td><td>4.0</td><td>H10000622</td></tr><tr><td>1</td><td>4.0</td><td>H10000419</td></tr><tr><td>1</td><td>3.0</td><td>H10000405</td></tr><tr><td>1</td><td>4.0</td><td>H10000699</td></tr><tr><td>1</td><td>5.0</td><td>H10000693</td></tr><tr><td>1</td><td>4.0</td><td>H10000790</td></tr><tr><td>1</td><td>5.0</td><td>H10000634</td></tr><tr><td>1</td><td>5.0</td><td>H10000431</td></tr><tr><td>1</td><td>4.0</td><td>H10000785</td></tr><tr><td>1</td><td>4.0</td><td>H10000333</td></tr><tr><td>1</td><td>4.0</td><td>H10000799</td></tr><tr><td>1</td><td>5.0</td><td>H10000756</td></tr><tr><td>1</td><td>4.0</td><td>H10000747</td></tr><tr><td>1</td><td>3.0</td><td>H10000376</td></tr><tr><td>1</td><td>3.0</td><td>H10000397</td></tr><tr><td>1</td><td>5.0</td><td>H10000388</td></tr><tr><td>1</td><td>5.0</td><td>H10000555</td></tr><tr><td>1</td><td>5.0</td><td>H10000514</td></tr><tr><td>1</td><td>5.0</td><td>H10000797</td></tr><tr><td>1</td><td>5.0</td><td>H10000656</td></tr><tr><td>1</td><td>4.0</td><td>H10000664</td></tr><tr><td>1</td><td>3.0</td><td>H10000601</td></tr><tr><td>1</td><td>3.0</td><td>H10000741</td></tr><tr><td>1</td><td>4.0</td><td>H10000635</td></tr><tr><td>1</td><td>5.0</td><td>H10000760</td></tr><tr><td>1</td><td>3.0</td><td>H10000567</td></tr><tr><td>1</td><td>4.0</td><td>H10000708</td></tr><tr><td>1</td><td>5.0</td><td>H10000773</td></tr><tr><td>1</td><td>4.0</td><td>H10000659</td></tr><tr><td>1</td><td>3.0</td><td>H10000597</td></tr><tr><td>1</td><td>4.0</td><td>H10000317</td></tr><tr><td>1</td><td>3.0</td><td>H10000539</td></tr><tr><td>1</td><td>4.0</td><td>H10000398</td></tr><tr><td>1</td><td>5.0</td><td>H10000714</td></tr><tr><td>1</td><td>3.0</td><td>H10000420</td></tr><tr><td>1</td><td>4.0</td><td>H10000490</td></tr><tr><td>1</td><td>4.0</td><td>H10000705</td></tr><tr><td>1</td><td>4.0</td><td>H10000466</td></tr><tr><td>1</td><td>3.0</td><td>H10000362</td></tr><tr><td>1</td><td>3.0</td><td>H10000749</td></tr><tr><td>1</td><td>5.0</td><td>H10000605</td></tr><tr><td>1</td><td>4.0</td><td>H10000600</td></tr><tr><td>1</td><td>4.0</td><td>H10000739</td></tr><tr><td>1</td><td>5.0</td><td>H10000587</td></tr><tr><td>1</td><td>4.0</td><td>H10000584</td></tr><tr><td>1</td><td>4.0</td><td>H10000481</td></tr><tr><td>1</td><td>3.0</td><td>H10000455</td></tr><tr><td>1</td><td>3.0</td><td>H10000450</td></tr><tr><td>1</td><td>3.0</td><td>H10000566</td></tr><tr><td>1</td><td>5.0</td><td>H10000792</td></tr><tr><td>1</td><td>4.0</td><td>H10000673</td></tr><tr><td>1</td><td>4.0</td><td>H10000627</td></tr><tr><td>1</td><td>5.0</td><td>H10000599</td></tr><tr><td>1</td><td>5.0</td><td>H10000471</td></tr><tr><td>1</td><td>4.0</td><td>H10000590</td></tr><tr><td>1</td><td>3.0</td><td>H10000499</td></tr><tr><td>1</td><td>4.0</td><td>H10000670</td></tr><tr><td>1</td><td>5.0</td><td>H10000498</td></tr><tr><td>1</td><td>3.0</td><td>H10000396</td></tr><tr><td>1</td><td>4.0</td><td>H10000647</td></tr><tr><td>1</td><td>5.0</td><td>H10000348</td></tr><tr><td>1</td><td>3.0</td><td>H10000361</td></tr><tr><td>1</td><td>3.0</td><td>H10000752</td></tr><tr><td>1</td><td>3.0</td><td>H10000476</td></tr><tr><td>1</td><td>5.0</td><td>H10000511</td></tr><tr><td>1</td><td>4.0</td><td>H10000804</td></tr><tr><td>1</td><td>4.0</td><td>H10000329</td></tr><tr><td>1</td><td>3.0</td><td>H10000364</td></tr><tr><td>1</td><td>4.0</td><td>H10000353</td></tr><tr><td>1</td><td>5.0</td><td>H10000801</td></tr><tr><td>1</td><td>5.0</td><td>H10000795</td></tr><tr><td>1</td><td>3.0</td><td>H10000608</td></tr><tr><td>1</td><td>4.0</td><td>H10000486</td></tr><tr><td>1</td><td>4.0</td><td>H10000775</td></tr><tr><td>1</td><td>4.0</td><td>H10000470</td></tr><tr><td>1</td><td>5.0</td><td>H10000736</td></tr><tr><td>1</td><td>3.0</td><td>H10000616</td></tr><tr><td>1</td><td>4.0</td><td>H10000449</td></tr><tr><td>1</td><td>5.0</td><td>H10000354</td></tr><tr><td>1</td><td>5.0</td><td>H10000713</td></tr><tr><td>1</td><td>4.0</td><td>H10000478</td></tr><tr><td>1</td><td>5.0</td><td>H10000681</td></tr><tr><td>1</td><td>5.0</td><td>H10000421</td></tr><tr><td>1</td><td>4.0</td><td>H10000460</td></tr><tr><td>1</td><td>3.0</td><td>H10000751</td></tr><tr><td>1</td><td>4.0</td><td>H10000444</td></tr><tr><td>1</td><td>3.0</td><td>H10000383</td></tr><tr><td>1</td><td>3.0</td><td>H10000469</td></tr><tr><td>1</td><td>5.0</td><td>H10000525</td></tr><tr><td>1</td><td>3.0</td><td>H10000524</td></tr><tr><td>1</td><td>5.0</td><td>H10000324</td></tr><tr><td>1</td><td>4.0</td><td>H10000641</td></tr><tr><td>1</td><td>5.0</td><td>H10000326</td></tr><tr><td>1</td><td>3.0</td><td>H10000768</td></tr><tr><td>1</td><td>5.0</td><td>H10000719</td></tr><tr><td>1</td><td>4.0</td><td>H10000800</td></tr><tr><td>1</td><td>3.0</td><td>H10000517</td></tr><tr><td>1</td><td>5.0</td><td>H10000465</td></tr><tr><td>1</td><td>5.0</td><td>H10000414</td></tr><tr><td>1</td><td>3.0</td><td>H10000451</td></tr><tr><td>1</td><td>4.0</td><td>H10000446</td></tr><tr><td>1</td><td>5.0</td><td>H10000400</td></tr><tr><td>1</td><td>5.0</td><td>H10000325</td></tr><tr><td>1</td><td>5.0</td><td>H10000613</td></tr><tr><td>1</td><td>5.0</td><td>H10000440</td></tr><tr><td>1</td><td>4.0</td><td>H10000722</td></tr><tr><td>1</td><td>4.0</td><td>H10000574</td></tr><tr><td>1</td><td>3.0</td><td>H10000557</td></tr><tr><td>1</td><td>5.0</td><td>H10000314</td></tr><tr><td>1</td><td>5.0</td><td>H10000665</td></tr><tr><td>1</td><td>4.0</td><td>H10000467</td></tr><tr><td>1</td><td>4.0</td><td>H10000657</td></tr><tr><td>1</td><td>4.0</td><td>H10000645</td></tr><tr><td>1</td><td>5.0</td><td>H10000339</td></tr><tr><td>1</td><td>5.0</td><td>H10000727</td></tr><tr><td>1</td><td>3.0</td><td>H10000631</td></tr><tr><td>1</td><td>5.0</td><td>H10000401</td></tr><tr><td>1</td><td>3.0</td><td>H10000546</td></tr><tr><td>1</td><td>5.0</td><td>H10000337</td></tr><tr><td>1</td><td>5.0</td><td>H10000689</td></tr><tr><td>1</td><td>5.0</td><td>H10000403</td></tr><tr><td>1</td><td>4.0</td><td>H10000726</td></tr><tr><td>1</td><td>3.0</td><td>H10000803</td></tr><tr><td>1</td><td>4.0</td><td>H10000404</td></tr><tr><td>1</td><td>3.0</td><td>H10000474</td></tr></tbody></table></div>"
      ]
     },
     "metadata": {
      "application/vnd.databricks.v1+output": {
       "addedWidgets": {},
       "aggData": [],
       "aggError": "",
       "aggOverflow": false,
       "aggSchema": [],
       "aggSeriesLimitReached": false,
       "aggType": "",
       "arguments": {},
       "columnCustomDisplayInfos": {},
       "data": [
        [
         5,
         3.6,
         "H10000582"
        ],
        [
         5,
         4.0,
         "H10000802"
        ],
        [
         5,
         4.4,
         "H10000772"
        ],
        [
         4,
         4.25,
         "H10000668"
        ],
        [
         4,
         4.25,
         "H10000480"
        ],
        [
         4,
         4.0,
         "H10000588"
        ],
        [
         3,
         4.666666666666667,
         "H10000706"
        ],
        [
         3,
         4.0,
         "H10000448"
        ],
        [
         3,
         4.0,
         "H10000603"
        ],
        [
         3,
         4.666666666666667,
         "H10000316"
        ],
        [
         3,
         3.0,
         "H10000407"
        ],
        [
         3,
         4.333333333333333,
         "H10000592"
        ],
        [
         3,
         4.333333333333333,
         "H10000533"
        ],
        [
         3,
         4.0,
         "H10000468"
        ],
        [
         3,
         4.0,
         "H10000371"
        ],
        [
         3,
         3.6666666666666665,
         "H10000628"
        ],
        [
         3,
         4.0,
         "H10000318"
        ],
        [
         3,
         4.0,
         "H10000729"
        ],
        [
         3,
         4.333333333333333,
         "H10000394"
        ],
        [
         3,
         3.3333333333333335,
         "H10000512"
        ],
        [
         3,
         4.0,
         "H10000583"
        ],
        [
         3,
         3.3333333333333335,
         "H10000561"
        ],
        [
         3,
         4.333333333333333,
         "H10000671"
        ],
        [
         2,
         3.5,
         "H10000323"
        ],
        [
         2,
         4.0,
         "H10000426"
        ],
        [
         2,
         5.0,
         "H10000358"
        ],
        [
         2,
         3.5,
         "H10000366"
        ],
        [
         2,
         3.5,
         "H10000640"
        ],
        [
         2,
         3.5,
         "H10000357"
        ],
        [
         2,
         4.0,
         "H10000321"
        ],
        [
         2,
         3.0,
         "H10000527"
        ],
        [
         2,
         4.5,
         "H10000537"
        ],
        [
         2,
         4.0,
         "H10000709"
        ],
        [
         2,
         4.5,
         "H10000580"
        ],
        [
         2,
         4.0,
         "H10000417"
        ],
        [
         2,
         5.0,
         "H10000315"
        ],
        [
         2,
         4.0,
         "H10000715"
        ],
        [
         2,
         4.0,
         "H10000720"
        ],
        [
         2,
         5.0,
         "H10000345"
        ],
        [
         2,
         3.5,
         "H10000484"
        ],
        [
         2,
         3.0,
         "H10000503"
        ],
        [
         2,
         3.5,
         "H10000743"
        ],
        [
         2,
         4.0,
         "H10000547"
        ],
        [
         2,
         3.0,
         "H10000630"
        ],
        [
         2,
         3.5,
         "H10000763"
        ],
        [
         2,
         4.5,
         "H10000570"
        ],
        [
         2,
         4.0,
         "H10000506"
        ],
        [
         2,
         3.5,
         "H10000576"
        ],
        [
         2,
         4.0,
         "H10000623"
        ],
        [
         2,
         3.0,
         "H10000643"
        ],
        [
         2,
         4.0,
         "H10000507"
        ],
        [
         2,
         4.5,
         "H10000721"
        ],
        [
         2,
         3.5,
         "H10000510"
        ],
        [
         2,
         4.0,
         "H10000777"
        ],
        [
         2,
         4.0,
         "H10000558"
        ],
        [
         2,
         3.0,
         "H10000787"
        ],
        [
         2,
         5.0,
         "H10000550"
        ],
        [
         2,
         4.5,
         "H10000327"
        ],
        [
         2,
         3.5,
         "H10000378"
        ],
        [
         2,
         4.0,
         "H10000485"
        ],
        [
         2,
         3.5,
         "H10000549"
        ],
        [
         2,
         3.5,
         "H10000675"
        ],
        [
         2,
         3.5,
         "H10000415"
        ],
        [
         2,
         4.5,
         "H10000536"
        ],
        [
         2,
         3.5,
         "H10000569"
        ],
        [
         2,
         3.5,
         "H10000642"
        ],
        [
         2,
         4.5,
         "H10000457"
        ],
        [
         2,
         3.0,
         "H10000778"
        ],
        [
         2,
         4.0,
         "H10000791"
        ],
        [
         2,
         4.0,
         "H10000384"
        ],
        [
         2,
         4.0,
         "H10000434"
        ],
        [
         2,
         4.5,
         "H10000322"
        ],
        [
         2,
         3.0,
         "H10000425"
        ],
        [
         2,
         4.5,
         "H10000625"
        ],
        [
         2,
         3.0,
         "H10000766"
        ],
        [
         2,
         3.0,
         "H10000438"
        ],
        [
         2,
         3.0,
         "H10000738"
        ],
        [
         2,
         4.5,
         "H10000454"
        ],
        [
         2,
         3.5,
         "H10000336"
        ],
        [
         2,
         3.5,
         "H10000728"
        ],
        [
         2,
         4.0,
         "H10000526"
        ],
        [
         2,
         5.0,
         "H10000408"
        ],
        [
         2,
         3.5,
         "H10000644"
        ],
        [
         2,
         4.0,
         "H10000632"
        ],
        [
         2,
         3.5,
         "H10000581"
        ],
        [
         2,
         4.0,
         "H10000637"
        ],
        [
         2,
         4.5,
         "H10000746"
        ],
        [
         2,
         4.5,
         "H10000355"
        ],
        [
         2,
         5.0,
         "H10000782"
        ],
        [
         2,
         3.5,
         "H10000596"
        ],
        [
         2,
         3.0,
         "H10000577"
        ],
        [
         2,
         4.5,
         "H10000544"
        ],
        [
         2,
         4.0,
         "H10000556"
        ],
        [
         2,
         4.0,
         "H10000585"
        ],
        [
         2,
         4.0,
         "H10000452"
        ],
        [
         1,
         3.0,
         "H10000655"
        ],
        [
         1,
         4.0,
         "H10000685"
        ],
        [
         1,
         5.0,
         "H10000745"
        ],
        [
         1,
         5.0,
         "H10000551"
        ],
        [
         1,
         5.0,
         "H10000436"
        ],
        [
         1,
         5.0,
         "H10000406"
        ],
        [
         1,
         5.0,
         "H10000429"
        ],
        [
         1,
         5.0,
         "H10000350"
        ],
        [
         1,
         3.0,
         "H10000598"
        ],
        [
         1,
         5.0,
         "H10000340"
        ],
        [
         1,
         5.0,
         "H10000412"
        ],
        [
         1,
         3.0,
         "H10000573"
        ],
        [
         1,
         4.0,
         "H10000781"
        ],
        [
         1,
         4.0,
         "H10000395"
        ],
        [
         1,
         3.0,
         "H10000723"
        ],
        [
         1,
         3.0,
         "H10000416"
        ],
        [
         1,
         5.0,
         "H10000654"
        ],
        [
         1,
         5.0,
         "H10000735"
        ],
        [
         1,
         5.0,
         "H10000611"
        ],
        [
         1,
         3.0,
         "H10000458"
        ],
        [
         1,
         5.0,
         "H10000402"
        ],
        [
         1,
         3.0,
         "H10000379"
        ],
        [
         1,
         5.0,
         "H10000595"
        ],
        [
         1,
         4.0,
         "H10000351"
        ],
        [
         1,
         5.0,
         "H10000518"
        ],
        [
         1,
         5.0,
         "H10000686"
        ],
        [
         1,
         3.0,
         "H10000390"
        ],
        [
         1,
         5.0,
         "H10000674"
        ],
        [
         1,
         4.0,
         "H10000559"
        ],
        [
         1,
         5.0,
         "H10000578"
        ],
        [
         1,
         4.0,
         "H10000757"
        ],
        [
         1,
         4.0,
         "H10000652"
        ],
        [
         1,
         4.0,
         "H10000338"
        ],
        [
         1,
         4.0,
         "H10000711"
        ],
        [
         1,
         3.0,
         "H10000543"
        ],
        [
         1,
         4.0,
         "H10000370"
        ],
        [
         1,
         4.0,
         "H10000702"
        ],
        [
         1,
         4.0,
         "H10000519"
        ],
        [
         1,
         4.0,
         "H10000762"
        ],
        [
         1,
         5.0,
         "H10000342"
        ],
        [
         1,
         5.0,
         "H10000764"
        ],
        [
         1,
         3.0,
         "H10000770"
        ],
        [
         1,
         4.0,
         "H10000661"
        ],
        [
         1,
         4.0,
         "H10000410"
        ],
        [
         1,
         3.0,
         "H10000615"
        ],
        [
         1,
         5.0,
         "H10000477"
        ],
        [
         1,
         4.0,
         "H10000759"
        ],
        [
         1,
         4.0,
         "H10000439"
        ],
        [
         1,
         5.0,
         "H10000347"
        ],
        [
         1,
         5.0,
         "H10000515"
        ],
        [
         1,
         4.0,
         "H10000788"
        ],
        [
         1,
         3.0,
         "H10000307"
        ],
        [
         1,
         4.0,
         "H10000761"
        ],
        [
         1,
         3.0,
         "H10000445"
        ],
        [
         1,
         4.0,
         "H10000520"
        ],
        [
         1,
         4.0,
         "H10000740"
        ],
        [
         1,
         5.0,
         "H10000744"
        ],
        [
         1,
         3.0,
         "H10000591"
        ],
        [
         1,
         3.0,
         "H10000684"
        ],
        [
         1,
         5.0,
         "H10000497"
        ],
        [
         1,
         4.0,
         "H10000344"
        ],
        [
         1,
         3.0,
         "H10000459"
        ],
        [
         1,
         5.0,
         "H10000609"
        ],
        [
         1,
         5.0,
         "H10000359"
        ],
        [
         1,
         5.0,
         "H10000658"
        ],
        [
         1,
         4.0,
         "H10000610"
        ],
        [
         1,
         3.0,
         "H10000732"
        ],
        [
         1,
         3.0,
         "H10000666"
        ],
        [
         1,
         5.0,
         "H10000482"
        ],
        [
         1,
         4.0,
         "H10000320"
        ],
        [
         1,
         3.0,
         "H10000389"
        ],
        [
         1,
         4.0,
         "H10000492"
        ],
        [
         1,
         4.0,
         "H10000464"
        ],
        [
         1,
         4.0,
         "H10000701"
        ],
        [
         1,
         4.0,
         "H10000638"
        ],
        [
         1,
         4.0,
         "H10000393"
        ],
        [
         1,
         3.0,
         "H10000618"
        ],
        [
         1,
         5.0,
         "H10000535"
        ],
        [
         1,
         4.0,
         "H10000622"
        ],
        [
         1,
         4.0,
         "H10000419"
        ],
        [
         1,
         3.0,
         "H10000405"
        ],
        [
         1,
         4.0,
         "H10000699"
        ],
        [
         1,
         5.0,
         "H10000693"
        ],
        [
         1,
         4.0,
         "H10000790"
        ],
        [
         1,
         5.0,
         "H10000634"
        ],
        [
         1,
         5.0,
         "H10000431"
        ],
        [
         1,
         4.0,
         "H10000785"
        ],
        [
         1,
         4.0,
         "H10000333"
        ],
        [
         1,
         4.0,
         "H10000799"
        ],
        [
         1,
         5.0,
         "H10000756"
        ],
        [
         1,
         4.0,
         "H10000747"
        ],
        [
         1,
         3.0,
         "H10000376"
        ],
        [
         1,
         3.0,
         "H10000397"
        ],
        [
         1,
         5.0,
         "H10000388"
        ],
        [
         1,
         5.0,
         "H10000555"
        ],
        [
         1,
         5.0,
         "H10000514"
        ],
        [
         1,
         5.0,
         "H10000797"
        ],
        [
         1,
         5.0,
         "H10000656"
        ],
        [
         1,
         4.0,
         "H10000664"
        ],
        [
         1,
         3.0,
         "H10000601"
        ],
        [
         1,
         3.0,
         "H10000741"
        ],
        [
         1,
         4.0,
         "H10000635"
        ],
        [
         1,
         5.0,
         "H10000760"
        ],
        [
         1,
         3.0,
         "H10000567"
        ],
        [
         1,
         4.0,
         "H10000708"
        ],
        [
         1,
         5.0,
         "H10000773"
        ],
        [
         1,
         4.0,
         "H10000659"
        ],
        [
         1,
         3.0,
         "H10000597"
        ],
        [
         1,
         4.0,
         "H10000317"
        ],
        [
         1,
         3.0,
         "H10000539"
        ],
        [
         1,
         4.0,
         "H10000398"
        ],
        [
         1,
         5.0,
         "H10000714"
        ],
        [
         1,
         3.0,
         "H10000420"
        ],
        [
         1,
         4.0,
         "H10000490"
        ],
        [
         1,
         4.0,
         "H10000705"
        ],
        [
         1,
         4.0,
         "H10000466"
        ],
        [
         1,
         3.0,
         "H10000362"
        ],
        [
         1,
         3.0,
         "H10000749"
        ],
        [
         1,
         5.0,
         "H10000605"
        ],
        [
         1,
         4.0,
         "H10000600"
        ],
        [
         1,
         4.0,
         "H10000739"
        ],
        [
         1,
         5.0,
         "H10000587"
        ],
        [
         1,
         4.0,
         "H10000584"
        ],
        [
         1,
         4.0,
         "H10000481"
        ],
        [
         1,
         3.0,
         "H10000455"
        ],
        [
         1,
         3.0,
         "H10000450"
        ],
        [
         1,
         3.0,
         "H10000566"
        ],
        [
         1,
         5.0,
         "H10000792"
        ],
        [
         1,
         4.0,
         "H10000673"
        ],
        [
         1,
         4.0,
         "H10000627"
        ],
        [
         1,
         5.0,
         "H10000599"
        ],
        [
         1,
         5.0,
         "H10000471"
        ],
        [
         1,
         4.0,
         "H10000590"
        ],
        [
         1,
         3.0,
         "H10000499"
        ],
        [
         1,
         4.0,
         "H10000670"
        ],
        [
         1,
         5.0,
         "H10000498"
        ],
        [
         1,
         3.0,
         "H10000396"
        ],
        [
         1,
         4.0,
         "H10000647"
        ],
        [
         1,
         5.0,
         "H10000348"
        ],
        [
         1,
         3.0,
         "H10000361"
        ],
        [
         1,
         3.0,
         "H10000752"
        ],
        [
         1,
         3.0,
         "H10000476"
        ],
        [
         1,
         5.0,
         "H10000511"
        ],
        [
         1,
         4.0,
         "H10000804"
        ],
        [
         1,
         4.0,
         "H10000329"
        ],
        [
         1,
         3.0,
         "H10000364"
        ],
        [
         1,
         4.0,
         "H10000353"
        ],
        [
         1,
         5.0,
         "H10000801"
        ],
        [
         1,
         5.0,
         "H10000795"
        ],
        [
         1,
         3.0,
         "H10000608"
        ],
        [
         1,
         4.0,
         "H10000486"
        ],
        [
         1,
         4.0,
         "H10000775"
        ],
        [
         1,
         4.0,
         "H10000470"
        ],
        [
         1,
         5.0,
         "H10000736"
        ],
        [
         1,
         3.0,
         "H10000616"
        ],
        [
         1,
         4.0,
         "H10000449"
        ],
        [
         1,
         5.0,
         "H10000354"
        ],
        [
         1,
         5.0,
         "H10000713"
        ],
        [
         1,
         4.0,
         "H10000478"
        ],
        [
         1,
         5.0,
         "H10000681"
        ],
        [
         1,
         5.0,
         "H10000421"
        ],
        [
         1,
         4.0,
         "H10000460"
        ],
        [
         1,
         3.0,
         "H10000751"
        ],
        [
         1,
         4.0,
         "H10000444"
        ],
        [
         1,
         3.0,
         "H10000383"
        ],
        [
         1,
         3.0,
         "H10000469"
        ],
        [
         1,
         5.0,
         "H10000525"
        ],
        [
         1,
         3.0,
         "H10000524"
        ],
        [
         1,
         5.0,
         "H10000324"
        ],
        [
         1,
         4.0,
         "H10000641"
        ],
        [
         1,
         5.0,
         "H10000326"
        ],
        [
         1,
         3.0,
         "H10000768"
        ],
        [
         1,
         5.0,
         "H10000719"
        ],
        [
         1,
         4.0,
         "H10000800"
        ],
        [
         1,
         3.0,
         "H10000517"
        ],
        [
         1,
         5.0,
         "H10000465"
        ],
        [
         1,
         5.0,
         "H10000414"
        ],
        [
         1,
         3.0,
         "H10000451"
        ],
        [
         1,
         4.0,
         "H10000446"
        ],
        [
         1,
         5.0,
         "H10000400"
        ],
        [
         1,
         5.0,
         "H10000325"
        ],
        [
         1,
         5.0,
         "H10000613"
        ],
        [
         1,
         5.0,
         "H10000440"
        ],
        [
         1,
         4.0,
         "H10000722"
        ],
        [
         1,
         4.0,
         "H10000574"
        ],
        [
         1,
         3.0,
         "H10000557"
        ],
        [
         1,
         5.0,
         "H10000314"
        ],
        [
         1,
         5.0,
         "H10000665"
        ],
        [
         1,
         4.0,
         "H10000467"
        ],
        [
         1,
         4.0,
         "H10000657"
        ],
        [
         1,
         4.0,
         "H10000645"
        ],
        [
         1,
         5.0,
         "H10000339"
        ],
        [
         1,
         5.0,
         "H10000727"
        ],
        [
         1,
         3.0,
         "H10000631"
        ],
        [
         1,
         5.0,
         "H10000401"
        ],
        [
         1,
         3.0,
         "H10000546"
        ],
        [
         1,
         5.0,
         "H10000337"
        ],
        [
         1,
         5.0,
         "H10000689"
        ],
        [
         1,
         5.0,
         "H10000403"
        ],
        [
         1,
         4.0,
         "H10000726"
        ],
        [
         1,
         3.0,
         "H10000803"
        ],
        [
         1,
         4.0,
         "H10000404"
        ],
        [
         1,
         3.0,
         "H10000474"
        ]
       ],
       "datasetInfos": [
        {
         "name": "_sqldf",
         "schema": {
          "fields": [
           {
            "metadata": {},
            "name": "review_count",
            "nullable": true,
            "type": "long"
           },
           {
            "metadata": {},
            "name": "average_review_rating",
            "nullable": true,
            "type": "double"
           },
           {
            "metadata": {},
            "name": "HOTEL_ID",
            "nullable": false,
            "type": "string"
           }
          ],
          "type": "struct"
         },
         "tableIdentifier": null,
         "typeStr": "pyspark.sql.connect.dataframe.DataFrame"
        }
       ],
       "dbfsResultPath": null,
       "isJsonSchema": true,
       "metadata": {
        "createTempViewForImplicitDf": true,
        "dataframeName": "_sqldf",
        "executionCount": 6
       },
       "overflow": false,
       "plotOptions": {
        "customPlotOptions": {},
        "displayType": "table",
        "pivotAggregation": null,
        "pivotColumns": null,
        "xColumns": null,
        "yColumns": null
       },
       "removedWidgets": [],
       "schema": [
        {
         "metadata": "{}",
         "name": "review_count",
         "type": "\"long\""
        },
        {
         "metadata": "{}",
         "name": "average_review_rating",
         "type": "\"double\""
        },
        {
         "metadata": "{}",
         "name": "HOTEL_ID",
         "type": "\"string\""
        }
       ],
       "type": "table"
      }
     },
     "output_type": "display_data"
    }
   ],
   "source": [
    "%sql\n",
    "-- This query will list the hotels with the most reviews. The more reviews it has, the more context your AI Agent will have in generating a social media campaign for it\n",
    "\n",
    "USE CATALOG IDENTIFIER(:catalog);\n",
    "USE DATABASE IDENTIFIER(:database);\n",
    "\n",
    "SELECT \n",
    "  SUM(1) as review_count, \n",
    "  AVG(hr.REVIEW_RATING) as average_review_rating,\n",
    "  hr.HOTEL_ID \n",
    "FROM hotel_reviews as hr\n",
    "  GROUP BY hr.HOTEL_ID\n",
    "  ORDER BY review_count desc;"
   ]
  },
  {
   "cell_type": "code",
   "execution_count": 0,
   "metadata": {
    "application/vnd.databricks.v1+cell": {
     "cellMetadata": {
      "byteLimit": 2048000,
      "rowLimit": 10000
     },
     "collapsed": true,
     "inputWidgets": {},
     "nuid": "7649702a-69d2-46d4-8257-5e90c80a9dc8",
     "showTitle": false,
     "tableResultSettingsMap": {},
     "title": ""
    }
   },
   "outputs": [],
   "source": [
    "# Pick a hotel_id from the query result set in the previous cell and persist it here for use in the next cell\n",
    "\n",
    "# EXAMPLE: \n",
    "# hotel_with_reviews = 'H10000538'\n",
    "\n",
    "hotel_with_reviews = 'H10000802'\n",
    "\n",
    "# Create a Databricks widget to store the selected hotel ID for later use in SQL\n",
    "dbutils.widgets.text(\"hotel_with_reviews\", hotel_with_reviews)"
   ]
  },
  {
   "cell_type": "code",
   "execution_count": 0,
   "metadata": {
    "application/vnd.databricks.v1+cell": {
     "cellMetadata": {
      "byteLimit": 2048000,
      "implicitDf": true,
      "rowLimit": 10000
     },
     "collapsed": true,
     "inputWidgets": {},
     "nuid": "6c83ebfa-0b59-4fbd-b6c2-72677c919d43",
     "showTitle": false,
     "tableResultSettingsMap": {},
     "title": ""
    }
   },
   "outputs": [],
   "source": [
    "%sql\n",
    "-- This function takes a HOTEL_ID as input and generates a summary of the top 3 reasons people like the specified hotel.\n",
    "\n",
    "USE CATALOG IDENTIFIER(:catalog);\n",
    "USE DATABASE IDENTIFIER(:database);\n",
    "\n",
    "CREATE OR REPLACE FUNCTION\n",
    "hotel_summarize_customer_reviews(input_hotel_id STRING COMMENT 'ID of the hotel to be searched')\n",
    "returns STRING\n",
    "LANGUAGE SQL\n",
    "COMMENT 'This function will fetch the best feedback from a Hotel and summarize them'\n",
    "return\n",
    "  SELECT AI_GEN(SUBSTRING('Extract the top 3 reasons people like the hotel based on this list of review:' || ARRAY_JOIN(COLLECT_LIST(hr.REVIEW_TEXT), ' - '), 1, 80000)) AS all_reviews\n",
    "  FROM hotel_reviews as hr\n",
    "    WHERE hr.HOTEL_ID = input_hotel_id \n",
    "    AND hr.REVIEW_RATING >= 3"
   ]
  },
  {
   "cell_type": "code",
   "execution_count": 0,
   "metadata": {
    "application/vnd.databricks.v1+cell": {
     "cellMetadata": {
      "byteLimit": 2048000,
      "implicitDf": true,
      "rowLimit": 10000
     },
     "inputWidgets": {},
     "nuid": "4535f97f-a600-4004-8db5-cdc416eeb4a0",
     "showTitle": false,
     "tableResultSettingsMap": {},
     "title": ""
    }
   },
   "outputs": [
    {
     "output_type": "display_data",
     "data": {
      "text/html": [
       "<style scoped>\n",
       "  .table-result-container {\n",
       "    max-height: 300px;\n",
       "    overflow: auto;\n",
       "  }\n",
       "  table, th, td {\n",
       "    border: 1px solid black;\n",
       "    border-collapse: collapse;\n",
       "  }\n",
       "  th, td {\n",
       "    padding: 5px;\n",
       "  }\n",
       "  th {\n",
       "    text-align: left;\n",
       "  }\n",
       "</style><div class='table-result-container'><table class='table-result'><thead style='background-color: white'><tr><th>hotel_summarize_customer_reviews('H10000802')</th></tr></thead><tbody><tr><td>Based on the reviews, the top 3 reasons people like the hotel are:\n",
       "\n",
       "1. **Ambience and Decor**: The hotel's enchanting ambience, grand lobby, and elegant decor create a perfect blend of sophistication and warmth, setting the tone for a memorable stay.\n",
       "2. **Location**: The hotel's unbeatable location in the heart of the city, yet serene and peaceful, makes it incredibly convenient to explore the city's prime attractions.\n",
       "3. **Staff and Service**: The exceptional staff, with their warm welcome, attentive service, professionalism, and genuine kindness, make a significant contribution to a remarkable stay.\n",
       "\n",
       "Note that the amenities (such as the fitness center and spa) are also mentioned as a positive aspect, but they seem to be a secondary reason compared to the top 3 mentioned above.</td></tr></tbody></table></div>"
      ]
     },
     "metadata": {
      "application/vnd.databricks.v1+output": {
       "addedWidgets": {},
       "aggData": [],
       "aggError": "",
       "aggOverflow": false,
       "aggSchema": [],
       "aggSeriesLimitReached": false,
       "aggType": "",
       "arguments": {},
       "columnCustomDisplayInfos": {},
       "data": [
        [
         "Based on the reviews, the top 3 reasons people like the hotel are:\n\n1. **Ambience and Decor**: The hotel's enchanting ambience, grand lobby, and elegant decor create a perfect blend of sophistication and warmth, setting the tone for a memorable stay.\n2. **Location**: The hotel's unbeatable location in the heart of the city, yet serene and peaceful, makes it incredibly convenient to explore the city's prime attractions.\n3. **Staff and Service**: The exceptional staff, with their warm welcome, attentive service, professionalism, and genuine kindness, make a significant contribution to a remarkable stay.\n\nNote that the amenities (such as the fitness center and spa) are also mentioned as a positive aspect, but they seem to be a secondary reason compared to the top 3 mentioned above."
        ]
       ],
       "datasetInfos": [
        {
         "name": "_sqldf",
         "schema": {
          "fields": [
           {
            "metadata": {},
            "name": "hotel_summarize_customer_reviews('H10000802')",
            "nullable": true,
            "type": "string"
           }
          ],
          "type": "struct"
         },
         "tableIdentifier": null,
         "typeStr": "pyspark.sql.connect.dataframe.DataFrame"
        }
       ],
       "dbfsResultPath": null,
       "isJsonSchema": true,
       "metadata": {
        "createTempViewForImplicitDf": true,
        "dataframeName": "_sqldf",
        "executionCount": 9
       },
       "overflow": false,
       "plotOptions": {
        "customPlotOptions": {},
        "displayType": "table",
        "pivotAggregation": null,
        "pivotColumns": null,
        "xColumns": null,
        "yColumns": null
       },
       "removedWidgets": [],
       "schema": [
        {
         "metadata": "{}",
         "name": "hotel_summarize_customer_reviews('H10000802')",
         "type": "\"string\""
        }
       ],
       "type": "table"
      }
     },
     "output_type": "display_data"
    }
   ],
   "source": [
    "%sql\n",
    "-- Try out this function to see if it provides a good summary of the customer reviews of a hotel\n",
    "\n",
    "USE CATALOG IDENTIFIER(:catalog);\n",
    "USE DATABASE IDENTIFIER(:database);\n",
    "\n",
    "SELECT hotel_summarize_customer_reviews('${hotel_with_reviews}')"
   ]
  },
  {
   "cell_type": "markdown",
   "metadata": {
    "application/vnd.databricks.v1+cell": {
     "cellMetadata": {
      "byteLimit": 2048000,
      "rowLimit": 10000
     },
     "inputWidgets": {},
     "nuid": "84ec47ab-1485-4610-9f1f-42b7a6177b5c",
     "showTitle": false,
     "tableResultSettingsMap": {},
     "title": ""
    }
   },
   "source": [
    "## Step 2: Create the AI Agent\n",
    "\n",
    "In this step you are going to combine these three cruicial parts of our agent:\n",
    "\n",
    "1. Tools for the Agent to use (from step 1)\n",
    "2. LLM to serve as the agent's \"brains\"\n",
    "3. System prompt that defines guidelines for the agent's tasks"
   ]
  },
  {
   "cell_type": "code",
   "execution_count": 0,
   "metadata": {
    "application/vnd.databricks.v1+cell": {
     "cellMetadata": {
      "byteLimit": 2048000,
      "rowLimit": 10000
     },
     "collapsed": true,
     "inputWidgets": {},
     "nuid": "647c3450-3f98-4f5d-a9f4-d97168b56f2c",
     "showTitle": false,
     "tableResultSettingsMap": {},
     "title": ""
    }
   },
   "outputs": [
    {
     "output_type": "stream",
     "name": "stdout",
     "output_type": "stream",
     "text": [
      "Requirement already satisfied: databricks-sdk==0.39.0 in /local_disk0/.ephemeral_nfs/envs/pythonEnv-d401c8bf-ef14-421d-bf4a-dda3ad423e0e/lib/python3.11/site-packages (0.39.0)\nRequirement already satisfied: langchain-community==0.2.16 in /local_disk0/.ephemeral_nfs/envs/pythonEnv-d401c8bf-ef14-421d-bf4a-dda3ad423e0e/lib/python3.11/site-packages (0.2.16)\nRequirement already satisfied: langchain-openai==0.1.19 in /local_disk0/.ephemeral_nfs/envs/pythonEnv-d401c8bf-ef14-421d-bf4a-dda3ad423e0e/lib/python3.11/site-packages (0.1.19)\nRequirement already satisfied: mlflow==2.19.0 in /local_disk0/.ephemeral_nfs/envs/pythonEnv-d401c8bf-ef14-421d-bf4a-dda3ad423e0e/lib/python3.11/site-packages (2.19.0)\nRequirement already satisfied: requests<3,>=2.28.1 in /databricks/python3/lib/python3.11/site-packages (from databricks-sdk==0.39.0) (2.31.0)\nRequirement already satisfied: google-auth~=2.0 in /databricks/python3/lib/python3.11/site-packages (from databricks-sdk==0.39.0) (2.35.0)\nRequirement already satisfied: PyYAML>=5.3 in /databricks/python3/lib/python3.11/site-packages (from langchain-community==0.2.16) (6.0)\nRequirement already satisfied: SQLAlchemy<3,>=1.4 in /local_disk0/.ephemeral_nfs/envs/pythonEnv-d401c8bf-ef14-421d-bf4a-dda3ad423e0e/lib/python3.11/site-packages (from langchain-community==0.2.16) (2.0.41)\nRequirement already satisfied: aiohttp<4.0.0,>=3.8.3 in /local_disk0/.ephemeral_nfs/envs/pythonEnv-d401c8bf-ef14-421d-bf4a-dda3ad423e0e/lib/python3.11/site-packages (from langchain-community==0.2.16) (3.12.12)\nRequirement already satisfied: dataclasses-json<0.7,>=0.5.7 in /local_disk0/.ephemeral_nfs/envs/pythonEnv-d401c8bf-ef14-421d-bf4a-dda3ad423e0e/lib/python3.11/site-packages (from langchain-community==0.2.16) (0.6.7)\nRequirement already satisfied: langchain<0.3.0,>=0.2.16 in /local_disk0/.ephemeral_nfs/envs/pythonEnv-d401c8bf-ef14-421d-bf4a-dda3ad423e0e/lib/python3.11/site-packages (from langchain-community==0.2.16) (0.2.17)\nRequirement already satisfied: langchain-core<0.3.0,>=0.2.38 in /local_disk0/.ephemeral_nfs/envs/pythonEnv-d401c8bf-ef14-421d-bf4a-dda3ad423e0e/lib/python3.11/site-packages (from langchain-community==0.2.16) (0.2.43)\nRequirement already satisfied: langsmith<0.2.0,>=0.1.0 in /local_disk0/.ephemeral_nfs/envs/pythonEnv-d401c8bf-ef14-421d-bf4a-dda3ad423e0e/lib/python3.11/site-packages (from langchain-community==0.2.16) (0.1.147)\nRequirement already satisfied: numpy<2,>=1 in /databricks/python3/lib/python3.11/site-packages (from langchain-community==0.2.16) (1.23.5)\nRequirement already satisfied: tenacity!=8.4.0,<9.0.0,>=8.1.0 in /databricks/python3/lib/python3.11/site-packages (from langchain-community==0.2.16) (8.2.2)\nRequirement already satisfied: openai<2.0.0,>=1.32.0 in /local_disk0/.ephemeral_nfs/envs/pythonEnv-d401c8bf-ef14-421d-bf4a-dda3ad423e0e/lib/python3.11/site-packages (from langchain-openai==0.1.19) (1.86.0)\nRequirement already satisfied: tiktoken<1,>=0.7 in /local_disk0/.ephemeral_nfs/envs/pythonEnv-d401c8bf-ef14-421d-bf4a-dda3ad423e0e/lib/python3.11/site-packages (from langchain-openai==0.1.19) (0.9.0)\nRequirement already satisfied: mlflow-skinny==2.19.0 in /local_disk0/.ephemeral_nfs/envs/pythonEnv-d401c8bf-ef14-421d-bf4a-dda3ad423e0e/lib/python3.11/site-packages (from mlflow==2.19.0) (2.19.0)\nRequirement already satisfied: Flask<4 in /local_disk0/.ephemeral_nfs/envs/pythonEnv-d401c8bf-ef14-421d-bf4a-dda3ad423e0e/lib/python3.11/site-packages (from mlflow==2.19.0) (3.1.1)\nRequirement already satisfied: Jinja2<4,>=2.11 in /local_disk0/.ephemeral_nfs/envs/pythonEnv-d401c8bf-ef14-421d-bf4a-dda3ad423e0e/lib/python3.11/site-packages (from mlflow==2.19.0) (3.1.6)\nRequirement already satisfied: alembic!=1.10.0,<2 in /local_disk0/.ephemeral_nfs/envs/pythonEnv-d401c8bf-ef14-421d-bf4a-dda3ad423e0e/lib/python3.11/site-packages (from mlflow==2.19.0) (1.16.1)\nRequirement already satisfied: docker<8,>=4.0.0 in /local_disk0/.ephemeral_nfs/envs/pythonEnv-d401c8bf-ef14-421d-bf4a-dda3ad423e0e/lib/python3.11/site-packages (from mlflow==2.19.0) (7.1.0)\nRequirement already satisfied: graphene<4 in /local_disk0/.ephemeral_nfs/envs/pythonEnv-d401c8bf-ef14-421d-bf4a-dda3ad423e0e/lib/python3.11/site-packages (from mlflow==2.19.0) (3.4.3)\nRequirement already satisfied: gunicorn<24 in /local_disk0/.ephemeral_nfs/envs/pythonEnv-d401c8bf-ef14-421d-bf4a-dda3ad423e0e/lib/python3.11/site-packages (from mlflow==2.19.0) (23.0.0)\nRequirement already satisfied: markdown<4,>=3.3 in /local_disk0/.ephemeral_nfs/envs/pythonEnv-d401c8bf-ef14-421d-bf4a-dda3ad423e0e/lib/python3.11/site-packages (from mlflow==2.19.0) (3.8)\nRequirement already satisfied: matplotlib<4 in /databricks/python3/lib/python3.11/site-packages (from mlflow==2.19.0) (3.7.2)\nRequirement already satisfied: pandas<3 in /databricks/python3/lib/python3.11/site-packages (from mlflow==2.19.0) (1.5.3)\nRequirement already satisfied: pyarrow<19,>=4.0.0 in /databricks/python3/lib/python3.11/site-packages (from mlflow==2.19.0) (14.0.1)\nRequirement already satisfied: scikit-learn<2 in /databricks/python3/lib/python3.11/site-packages (from mlflow==2.19.0) (1.3.0)\nRequirement already satisfied: scipy<2 in /databricks/python3/lib/python3.11/site-packages (from mlflow==2.19.0) (1.11.1)\nRequirement already satisfied: cachetools<6,>=5.0.0 in /databricks/python3/lib/python3.11/site-packages (from mlflow-skinny==2.19.0->mlflow==2.19.0) (5.5.0)\nRequirement already satisfied: click<9,>=7.0 in /local_disk0/.ephemeral_nfs/envs/pythonEnv-d401c8bf-ef14-421d-bf4a-dda3ad423e0e/lib/python3.11/site-packages (from mlflow-skinny==2.19.0->mlflow==2.19.0) (8.2.1)\nRequirement already satisfied: cloudpickle<4 in /databricks/python3/lib/python3.11/site-packages (from mlflow-skinny==2.19.0->mlflow==2.19.0) (3.0.0)\nRequirement already satisfied: gitpython<4,>=3.1.9 in /databricks/python3/lib/python3.11/site-packages (from mlflow-skinny==2.19.0->mlflow==2.19.0) (3.1.43)\nRequirement already satisfied: importlib_metadata!=4.7.0,<9,>=3.7.0 in /databricks/python3/lib/python3.11/site-packages (from mlflow-skinny==2.19.0->mlflow==2.19.0) (6.0.0)\nRequirement already satisfied: opentelemetry-api<3,>=1.9.0 in /local_disk0/.ephemeral_nfs/envs/pythonEnv-d401c8bf-ef14-421d-bf4a-dda3ad423e0e/lib/python3.11/site-packages (from mlflow-skinny==2.19.0->mlflow==2.19.0) (1.34.1)\nRequirement already satisfied: opentelemetry-sdk<3,>=1.9.0 in /local_disk0/.ephemeral_nfs/envs/pythonEnv-d401c8bf-ef14-421d-bf4a-dda3ad423e0e/lib/python3.11/site-packages (from mlflow-skinny==2.19.0->mlflow==2.19.0) (1.34.1)\nRequirement already satisfied: packaging<25 in /databricks/python3/lib/python3.11/site-packages (from mlflow-skinny==2.19.0->mlflow==2.19.0) (23.2)\nRequirement already satisfied: protobuf<6,>=3.12.0 in /databricks/python3/lib/python3.11/site-packages (from mlflow-skinny==2.19.0->mlflow==2.19.0) (5.29.3)\nRequirement already satisfied: sqlparse<1,>=0.4.0 in /databricks/python3/lib/python3.11/site-packages (from mlflow-skinny==2.19.0->mlflow==2.19.0) (0.5.1)\nRequirement already satisfied: aiohappyeyeballs>=2.5.0 in /local_disk0/.ephemeral_nfs/envs/pythonEnv-d401c8bf-ef14-421d-bf4a-dda3ad423e0e/lib/python3.11/site-packages (from aiohttp<4.0.0,>=3.8.3->langchain-community==0.2.16) (2.6.1)\nRequirement already satisfied: aiosignal>=1.1.2 in /local_disk0/.ephemeral_nfs/envs/pythonEnv-d401c8bf-ef14-421d-bf4a-dda3ad423e0e/lib/python3.11/site-packages (from aiohttp<4.0.0,>=3.8.3->langchain-community==0.2.16) (1.3.2)\nRequirement already satisfied: attrs>=17.3.0 in /local_disk0/.ephemeral_nfs/envs/pythonEnv-d401c8bf-ef14-421d-bf4a-dda3ad423e0e/lib/python3.11/site-packages (from aiohttp<4.0.0,>=3.8.3->langchain-community==0.2.16) (25.3.0)\nRequirement already satisfied: frozenlist>=1.1.1 in /local_disk0/.ephemeral_nfs/envs/pythonEnv-d401c8bf-ef14-421d-bf4a-dda3ad423e0e/lib/python3.11/site-packages (from aiohttp<4.0.0,>=3.8.3->langchain-community==0.2.16) (1.7.0)\nRequirement already satisfied: multidict<7.0,>=4.5 in /local_disk0/.ephemeral_nfs/envs/pythonEnv-d401c8bf-ef14-421d-bf4a-dda3ad423e0e/lib/python3.11/site-packages (from aiohttp<4.0.0,>=3.8.3->langchain-community==0.2.16) (6.4.4)\nRequirement already satisfied: propcache>=0.2.0 in /local_disk0/.ephemeral_nfs/envs/pythonEnv-d401c8bf-ef14-421d-bf4a-dda3ad423e0e/lib/python3.11/site-packages (from aiohttp<4.0.0,>=3.8.3->langchain-community==0.2.16) (0.3.2)\nRequirement already satisfied: yarl<2.0,>=1.17.0 in /local_disk0/.ephemeral_nfs/envs/pythonEnv-d401c8bf-ef14-421d-bf4a-dda3ad423e0e/lib/python3.11/site-packages (from aiohttp<4.0.0,>=3.8.3->langchain-community==0.2.16) (1.20.1)\nRequirement already satisfied: Mako in /local_disk0/.ephemeral_nfs/envs/pythonEnv-d401c8bf-ef14-421d-bf4a-dda3ad423e0e/lib/python3.11/site-packages (from alembic!=1.10.0,<2->mlflow==2.19.0) (1.3.10)\nRequirement already satisfied: typing-extensions>=4.12 in /local_disk0/.ephemeral_nfs/envs/pythonEnv-d401c8bf-ef14-421d-bf4a-dda3ad423e0e/lib/python3.11/site-packages (from alembic!=1.10.0,<2->mlflow==2.19.0) (4.14.0)\nRequirement already satisfied: marshmallow<4.0.0,>=3.18.0 in /local_disk0/.ephemeral_nfs/envs/pythonEnv-d401c8bf-ef14-421d-bf4a-dda3ad423e0e/lib/python3.11/site-packages (from dataclasses-json<0.7,>=0.5.7->langchain-community==0.2.16) (3.26.1)\nRequirement already satisfied: typing-inspect<1,>=0.4.0 in /local_disk0/.ephemeral_nfs/envs/pythonEnv-d401c8bf-ef14-421d-bf4a-dda3ad423e0e/lib/python3.11/site-packages (from dataclasses-json<0.7,>=0.5.7->langchain-community==0.2.16) (0.9.0)\nRequirement already satisfied: urllib3>=1.26.0 in /databricks/python3/lib/python3.11/site-packages (from docker<8,>=4.0.0->mlflow==2.19.0) (1.26.16)\nRequirement already satisfied: blinker>=1.9.0 in /local_disk0/.ephemeral_nfs/envs/pythonEnv-d401c8bf-ef14-421d-bf4a-dda3ad423e0e/lib/python3.11/site-packages (from Flask<4->mlflow==2.19.0) (1.9.0)\nRequirement already satisfied: itsdangerous>=2.2.0 in /local_disk0/.ephemeral_nfs/envs/pythonEnv-d401c8bf-ef14-421d-bf4a-dda3ad423e0e/lib/python3.11/site-packages (from Flask<4->mlflow==2.19.0) (2.2.0)\nRequirement already satisfied: markupsafe>=2.1.1 in /local_disk0/.ephemeral_nfs/envs/pythonEnv-d401c8bf-ef14-421d-bf4a-dda3ad423e0e/lib/python3.11/site-packages (from Flask<4->mlflow==2.19.0) (3.0.2)\nRequirement already satisfied: werkzeug>=3.1.0 in /local_disk0/.ephemeral_nfs/envs/pythonEnv-d401c8bf-ef14-421d-bf4a-dda3ad423e0e/lib/python3.11/site-packages (from Flask<4->mlflow==2.19.0) (3.1.3)\nRequirement already satisfied: pyasn1-modules>=0.2.1 in /databricks/python3/lib/python3.11/site-packages (from google-auth~=2.0->databricks-sdk==0.39.0) (0.2.8)\nRequirement already satisfied: rsa<5,>=3.1.4 in /databricks/python3/lib/python3.11/site-packages (from google-auth~=2.0->databricks-sdk==0.39.0) (4.9)\nRequirement already satisfied: graphql-core<3.3,>=3.1 in /local_disk0/.ephemeral_nfs/envs/pythonEnv-d401c8bf-ef14-421d-bf4a-dda3ad423e0e/lib/python3.11/site-packages (from graphene<4->mlflow==2.19.0) (3.2.6)\nRequirement already satisfied: graphql-relay<3.3,>=3.1 in /local_disk0/.ephemeral_nfs/envs/pythonEnv-d401c8bf-ef14-421d-bf4a-dda3ad423e0e/lib/python3.11/site-packages (from graphene<4->mlflow==2.19.0) (3.2.0)\nRequirement already satisfied: python-dateutil<3,>=2.7.0 in /databricks/python3/lib/python3.11/site-packages (from graphene<4->mlflow==2.19.0) (2.8.2)\nRequirement already satisfied: langchain-text-splitters<0.3.0,>=0.2.0 in /local_disk0/.ephemeral_nfs/envs/pythonEnv-d401c8bf-ef14-421d-bf4a-dda3ad423e0e/lib/python3.11/site-packages (from langchain<0.3.0,>=0.2.16->langchain-community==0.2.16) (0.2.4)\nRequirement already satisfied: pydantic<3,>=1 in /databricks/python3/lib/python3.11/site-packages (from langchain<0.3.0,>=0.2.16->langchain-community==0.2.16) (1.10.6)\nRequirement already satisfied: jsonpatch<2.0,>=1.33 in /local_disk0/.ephemeral_nfs/envs/pythonEnv-d401c8bf-ef14-421d-bf4a-dda3ad423e0e/lib/python3.11/site-packages (from langchain-core<0.3.0,>=0.2.38->langchain-community==0.2.16) (1.33)\nRequirement already satisfied: httpx<1,>=0.23.0 in /local_disk0/.ephemeral_nfs/envs/pythonEnv-d401c8bf-ef14-421d-bf4a-dda3ad423e0e/lib/python3.11/site-packages (from langsmith<0.2.0,>=0.1.0->langchain-community==0.2.16) (0.28.1)\nRequirement already satisfied: orjson<4.0.0,>=3.9.14 in /local_disk0/.ephemeral_nfs/envs/pythonEnv-d401c8bf-ef14-421d-bf4a-dda3ad423e0e/lib/python3.11/site-packages (from langsmith<0.2.0,>=0.1.0->langchain-community==0.2.16) (3.10.18)\nRequirement already satisfied: requests-toolbelt<2.0.0,>=1.0.0 in /local_disk0/.ephemeral_nfs/envs/pythonEnv-d401c8bf-ef14-421d-bf4a-dda3ad423e0e/lib/python3.11/site-packages (from langsmith<0.2.0,>=0.1.0->langchain-community==0.2.16) (1.0.0)\nRequirement already satisfied: contourpy>=1.0.1 in /databricks/python3/lib/python3.11/site-packages (from matplotlib<4->mlflow==2.19.0) (1.0.5)\nRequirement already satisfied: cycler>=0.10 in /databricks/python3/lib/python3.11/site-packages (from matplotlib<4->mlflow==2.19.0) (0.11.0)\nRequirement already satisfied: fonttools>=4.22.0 in /databricks/python3/lib/python3.11/site-packages (from matplotlib<4->mlflow==2.19.0) (4.25.0)\nRequirement already satisfied: kiwisolver>=1.0.1 in /databricks/python3/lib/python3.11/site-packages (from matplotlib<4->mlflow==2.19.0) (1.4.4)\nRequirement already satisfied: pillow>=6.2.0 in /databricks/python3/lib/python3.11/site-packages (from matplotlib<4->mlflow==2.19.0) (10.3.0)\nRequirement already satisfied: pyparsing<3.1,>=2.3.1 in /databricks/python3/lib/python3.11/site-packages (from matplotlib<4->mlflow==2.19.0) (3.0.9)\nRequirement already satisfied: anyio<5,>=3.5.0 in /local_disk0/.ephemeral_nfs/envs/pythonEnv-d401c8bf-ef14-421d-bf4a-dda3ad423e0e/lib/python3.11/site-packages (from openai<2.0.0,>=1.32.0->langchain-openai==0.1.19) (4.9.0)\nRequirement already satisfied: distro<2,>=1.7.0 in /usr/lib/python3/dist-packages (from openai<2.0.0,>=1.32.0->langchain-openai==0.1.19) (1.7.0)\nRequirement already satisfied: jiter<1,>=0.4.0 in /local_disk0/.ephemeral_nfs/envs/pythonEnv-d401c8bf-ef14-421d-bf4a-dda3ad423e0e/lib/python3.11/site-packages (from openai<2.0.0,>=1.32.0->langchain-openai==0.1.19) (0.10.0)\nRequirement already satisfied: sniffio in /local_disk0/.ephemeral_nfs/envs/pythonEnv-d401c8bf-ef14-421d-bf4a-dda3ad423e0e/lib/python3.11/site-packages (from openai<2.0.0,>=1.32.0->langchain-openai==0.1.19) (1.3.1)\nRequirement already satisfied: tqdm>4 in /local_disk0/.ephemeral_nfs/envs/pythonEnv-d401c8bf-ef14-421d-bf4a-dda3ad423e0e/lib/python3.11/site-packages (from openai<2.0.0,>=1.32.0->langchain-openai==0.1.19) (4.67.1)\nRequirement already satisfied: pytz>=2020.1 in /databricks/python3/lib/python3.11/site-packages (from pandas<3->mlflow==2.19.0) (2022.7)\nRequirement already satisfied: charset-normalizer<4,>=2 in /databricks/python3/lib/python3.11/site-packages (from requests<3,>=2.28.1->databricks-sdk==0.39.0) (2.0.4)\nRequirement already satisfied: idna<4,>=2.5 in /databricks/python3/lib/python3.11/site-packages (from requests<3,>=2.28.1->databricks-sdk==0.39.0) (3.4)\nRequirement already satisfied: certifi>=2017.4.17 in /databricks/python3/lib/python3.11/site-packages (from requests<3,>=2.28.1->databricks-sdk==0.39.0) (2023.7.22)\nRequirement already satisfied: joblib>=1.1.1 in /databricks/python3/lib/python3.11/site-packages (from scikit-learn<2->mlflow==2.19.0) (1.2.0)\nRequirement already satisfied: threadpoolctl>=2.0.0 in /databricks/python3/lib/python3.11/site-packages (from scikit-learn<2->mlflow==2.19.0) (2.2.0)\nRequirement already satisfied: greenlet>=1 in /local_disk0/.ephemeral_nfs/envs/pythonEnv-d401c8bf-ef14-421d-bf4a-dda3ad423e0e/lib/python3.11/site-packages (from SQLAlchemy<3,>=1.4->langchain-community==0.2.16) (3.2.3)\nRequirement already satisfied: regex>=2022.1.18 in /local_disk0/.ephemeral_nfs/envs/pythonEnv-d401c8bf-ef14-421d-bf4a-dda3ad423e0e/lib/python3.11/site-packages (from tiktoken<1,>=0.7->langchain-openai==0.1.19) (2024.11.6)\nRequirement already satisfied: gitdb<5,>=4.0.1 in /databricks/python3/lib/python3.11/site-packages (from gitpython<4,>=3.1.9->mlflow-skinny==2.19.0->mlflow==2.19.0) (4.0.11)\nRequirement already satisfied: httpcore==1.* in /local_disk0/.ephemeral_nfs/envs/pythonEnv-d401c8bf-ef14-421d-bf4a-dda3ad423e0e/lib/python3.11/site-packages (from httpx<1,>=0.23.0->langsmith<0.2.0,>=0.1.0->langchain-community==0.2.16) (1.0.9)\nRequirement already satisfied: h11>=0.16 in /local_disk0/.ephemeral_nfs/envs/pythonEnv-d401c8bf-ef14-421d-bf4a-dda3ad423e0e/lib/python3.11/site-packages (from httpcore==1.*->httpx<1,>=0.23.0->langsmith<0.2.0,>=0.1.0->langchain-community==0.2.16) (0.16.0)\nRequirement already satisfied: zipp>=0.5 in /databricks/python3/lib/python3.11/site-packages (from importlib_metadata!=4.7.0,<9,>=3.7.0->mlflow-skinny==2.19.0->mlflow==2.19.0) (3.11.0)\nRequirement already satisfied: jsonpointer>=1.9 in /local_disk0/.ephemeral_nfs/envs/pythonEnv-d401c8bf-ef14-421d-bf4a-dda3ad423e0e/lib/python3.11/site-packages (from jsonpatch<2.0,>=1.33->langchain-core<0.3.0,>=0.2.38->langchain-community==0.2.16) (3.0.0)\nRequirement already satisfied: opentelemetry-semantic-conventions==0.55b1 in /local_disk0/.ephemeral_nfs/envs/pythonEnv-d401c8bf-ef14-421d-bf4a-dda3ad423e0e/lib/python3.11/site-packages (from opentelemetry-sdk<3,>=1.9.0->mlflow-skinny==2.19.0->mlflow==2.19.0) (0.55b1)\nRequirement already satisfied: pyasn1<0.5.0,>=0.4.6 in /databricks/python3/lib/python3.11/site-packages (from pyasn1-modules>=0.2.1->google-auth~=2.0->databricks-sdk==0.39.0) (0.4.8)\nRequirement already satisfied: six>=1.5 in /usr/lib/python3/dist-packages (from python-dateutil<3,>=2.7.0->graphene<4->mlflow==2.19.0) (1.16.0)\nRequirement already satisfied: mypy-extensions>=0.3.0 in /databricks/python3/lib/python3.11/site-packages (from typing-inspect<1,>=0.4.0->dataclasses-json<0.7,>=0.5.7->langchain-community==0.2.16) (0.4.3)\nRequirement already satisfied: smmap<6,>=3.0.1 in /databricks/python3/lib/python3.11/site-packages (from gitdb<5,>=4.0.1->gitpython<4,>=3.1.9->mlflow-skinny==2.19.0->mlflow==2.19.0) (5.0.1)\n\u001B[43mNote: you may need to restart the kernel using %restart_python or dbutils.library.restartPython() to use updated packages.\u001B[0m\n"
     ]
    }
   ],
   "source": [
    "%pip install -U databricks-sdk==0.39.0 langchain-community==0.2.16 langchain-openai==0.1.19 mlflow==2.19.0"
   ]
  },
  {
   "cell_type": "code",
   "execution_count": 0,
   "metadata": {
    "application/vnd.databricks.v1+cell": {
     "cellMetadata": {
      "byteLimit": 2048000,
      "rowLimit": 10000
     },
     "inputWidgets": {},
     "nuid": "42544763-8122-4505-856c-5f3b3523231c",
     "showTitle": false,
     "tableResultSettingsMap": {},
     "title": ""
    }
   },
   "outputs": [],
   "source": [
    "dbutils.library.restartPython()"
   ]
  },
  {
   "cell_type": "code",
   "execution_count": 0,
   "metadata": {
    "application/vnd.databricks.v1+cell": {
     "cellMetadata": {
      "byteLimit": 2048000,
      "rowLimit": 10000
     },
     "inputWidgets": {},
     "nuid": "d17792a4-a54b-4d97-a651-557938f54b9e",
     "showTitle": false,
     "tableResultSettingsMap": {},
     "title": ""
    }
   },
   "outputs": [
    {
     "output_type": "stream",
     "name": "stdout",
     "output_type": "stream",
     "text": [
      "\n"
     ]
    }
   ],
   "source": [
    "from langchain_community.tools.databricks import UCFunctionToolkit\n",
    "import pandas as pd\n",
    "\n",
    "# Retrieve IDs from widget\n",
    "warehouse_id = dbutils.widgets.get(\"warehouse_id\")\n",
    "catalog = dbutils.widgets.get(\"catalog\")\n",
    "db = dbutils.widgets.get(\"database\")\n",
    "\n",
    "print(warehouse_id)\n",
    "\n",
    "def get_tools():\n",
    "    return (\n",
    "        UCFunctionToolkit(warehouse_id=warehouse_id)\n",
    "        # Include functions as tools using their qualified names.\n",
    "        .include(f\"{catalog}.{db}.*\")\n",
    "        .get_tools())"
   ]
  },
  {
   "cell_type": "code",
   "execution_count": 0,
   "metadata": {
    "application/vnd.databricks.v1+cell": {
     "cellMetadata": {
      "byteLimit": 2048000,
      "rowLimit": 10000
     },
     "inputWidgets": {},
     "nuid": "503b0f81-061e-48f6-83bc-95e2bf97dd61",
     "showTitle": false,
     "tableResultSettingsMap": {},
     "title": ""
    }
   },
   "outputs": [],
   "source": [
    "from langchain_community.chat_models.databricks import ChatDatabricks\n",
    "\n",
    "# We're going to use llama 3.3 because it's tool-enabled and is available. Keep temp at 0 to make it more deterministic.\n",
    "llm = ChatDatabricks(endpoint=\"databricks-meta-llama-3-3-70b-instruct\",\n",
    "    temperature=0.0,\n",
    "    streaming=False)"
   ]
  },
  {
   "cell_type": "code",
   "execution_count": 0,
   "metadata": {
    "application/vnd.databricks.v1+cell": {
     "cellMetadata": {
      "byteLimit": 2048000,
      "rowLimit": 10000
     },
     "inputWidgets": {},
     "nuid": "d8d8cdd2-9d34-41f1-8303-f3c9e49e803c",
     "showTitle": false,
     "tableResultSettingsMap": {},
     "title": ""
    }
   },
   "outputs": [],
   "source": [
    "from langchain_core.prompts import ChatPromptTemplate\n",
    "from langchain_community.chat_models import ChatDatabricks\n",
    "\n",
    "#This defines our agent's system prompt. Here we can tell it what we expect it to do and guide it on using specific functions. \n",
    "\n",
    "def get_prompt(history = [], prompt = None):\n",
    "    if not prompt:\n",
    "            prompt = \"\"\"You are a helpful assistant for a global hotel company. Your task is to assist the marketing leadership in understanding their products and sales metrics. You can retrieve and analyze relevant data using specific functions:\n",
    "\n",
    "        Use customer hotel reviews from the hotel_summarize_customer_reviews function to write a positive instagram post to promote the hotel in the given City that the lowest sales which you can find with the hotel_sales_per_city function. Mention the hotel by its name, but do not mention that the hotel is not performing well nor mention any of its flaws.\n",
    "\n",
    "        Follow these guidelines:\n",
    "        1. Call the appropriate function at each step and ensure results are retrieved before proceeding.\n",
    "        2. Provide clear, coherent responses without mentioning the underlying functions.\n",
    "        3. Answer only what the user asks for, no unnecessary information.\n",
    "        4. If asked to generate Instagram posts, first determine what customers like most to ensure relevance.\n",
    "        \"\"\"\n",
    "    return ChatPromptTemplate.from_messages([\n",
    "            (\"system\", prompt),\n",
    "            (\"human\", \"{messages}\"),\n",
    "            (\"placeholder\", \"{agent_scratchpad}\"),\n",
    "    ])"
   ]
  },
  {
   "cell_type": "code",
   "execution_count": 0,
   "metadata": {
    "application/vnd.databricks.v1+cell": {
     "cellMetadata": {
      "byteLimit": 2048000,
      "rowLimit": 10000
     },
     "inputWidgets": {},
     "nuid": "bd8287b6-f10f-45c2-97ec-c073bdbce7f2",
     "showTitle": false,
     "tableResultSettingsMap": {},
     "title": ""
    }
   },
   "outputs": [],
   "source": [
    "from langchain.agents import AgentExecutor, create_openai_tools_agent\n",
    "\n",
    "prompt = get_prompt()\n",
    "tools = get_tools()\n",
    "agent = create_openai_tools_agent(llm, tools, prompt)\n",
    "\n",
    "def model_parsing_error_handler(e):\n",
    "    print(f\"This error occurred during model parsing: {e}\")\n",
    "\n",
    "#Put the pieces together to create our Agent\n",
    "agent_executor = AgentExecutor(agent=agent, tools=tools, verbose=True, handle_parsing_errors=model_parsing_error_handler)"
   ]
  },
  {
   "cell_type": "code",
   "execution_count": 0,
   "metadata": {
    "application/vnd.databricks.v1+cell": {
     "cellMetadata": {
      "byteLimit": 2048000,
      "rowLimit": 10000
     },
     "inputWidgets": {},
     "nuid": "88fdf221-3e2d-4012-8d76-24b21a4a0729",
     "showTitle": false,
     "tableResultSettingsMap": {},
     "title": ""
    }
   },
   "outputs": [],
   "source": [
    "from operator import itemgetter\n",
    "from langchain.schema.runnable import RunnableLambda\n",
    "from langchain_core.output_parsers import StrOutputParser\n",
    "\n",
    "# Very basic chain that allows us to pass the input (messages) into the Agent and collect the (output) as a string\n",
    "\n",
    "agent_str = ({ \"messages\": itemgetter(\"messages\")} | agent_executor | itemgetter(\"output\") | StrOutputParser())\n"
   ]
  },
  {
   "cell_type": "code",
   "execution_count": 0,
   "metadata": {
    "application/vnd.databricks.v1+cell": {
     "cellMetadata": {
      "byteLimit": 2048000,
      "rowLimit": 10000
     },
     "inputWidgets": {},
     "nuid": "42e94e6a-b005-4d04-b0c5-bb072860c903",
     "showTitle": false,
     "tableResultSettingsMap": {},
     "title": ""
    }
   },
   "outputs": [
    {
     "output_type": "display_data",
     "data": {
      "text/plain": [
       "\u001B[0;31m---------------------------------------------------------------------------\u001B[0m\n",
       "\u001B[0;31mInvalidParameterValue\u001B[0m                     Traceback (most recent call last)\n",
       "File \u001B[0;32m<command-1204291622731010>, line 7\u001B[0m\n",
       "\u001B[1;32m      3\u001B[0m selected_city \u001B[38;5;241m=\u001B[39m dbutils\u001B[38;5;241m.\u001B[39mwidgets\u001B[38;5;241m.\u001B[39mget(\u001B[38;5;124m\"\u001B[39m\u001B[38;5;124mselected_city\u001B[39m\u001B[38;5;124m\"\u001B[39m)\n",
       "\u001B[1;32m      5\u001B[0m \u001B[38;5;66;03m# try:\u001B[39;00m\n",
       "\u001B[0;32m----> 7\u001B[0m answer \u001B[38;5;241m=\u001B[39m agent_str\u001B[38;5;241m.\u001B[39minvoke({\u001B[38;5;124m\"\u001B[39m\u001B[38;5;124mmessages\u001B[39m\u001B[38;5;124m\"\u001B[39m: \u001B[38;5;124m\"\u001B[39m\u001B[38;5;124mUse customer hotel reviews to write a positive instagram post to promote the hotel in \u001B[39m\u001B[38;5;124m\"\u001B[39m \u001B[38;5;241m+\u001B[39m selected_city \u001B[38;5;241m+\u001B[39m \u001B[38;5;124m\"\u001B[39m\u001B[38;5;124m with the lowest sales. Mention the hotel by its name.\u001B[39m\u001B[38;5;124m\"\u001B[39m})\n",
       "\n",
       "File \u001B[0;32m/local_disk0/.ephemeral_nfs/envs/pythonEnv-d401c8bf-ef14-421d-bf4a-dda3ad423e0e/lib/python3.11/site-packages/langchain_core/runnables/base.py:2879\u001B[0m, in \u001B[0;36mRunnableSequence.invoke\u001B[0;34m(self, input, config, **kwargs)\u001B[0m\n",
       "\u001B[1;32m   2877\u001B[0m             \u001B[38;5;28minput\u001B[39m \u001B[38;5;241m=\u001B[39m context\u001B[38;5;241m.\u001B[39mrun(step\u001B[38;5;241m.\u001B[39minvoke, \u001B[38;5;28minput\u001B[39m, config, \u001B[38;5;241m*\u001B[39m\u001B[38;5;241m*\u001B[39mkwargs)\n",
       "\u001B[1;32m   2878\u001B[0m         \u001B[38;5;28;01melse\u001B[39;00m:\n",
       "\u001B[0;32m-> 2879\u001B[0m             \u001B[38;5;28minput\u001B[39m \u001B[38;5;241m=\u001B[39m context\u001B[38;5;241m.\u001B[39mrun(step\u001B[38;5;241m.\u001B[39minvoke, \u001B[38;5;28minput\u001B[39m, config)\n",
       "\u001B[1;32m   2880\u001B[0m \u001B[38;5;66;03m# finish the root run\u001B[39;00m\n",
       "\u001B[1;32m   2881\u001B[0m \u001B[38;5;28;01mexcept\u001B[39;00m \u001B[38;5;167;01mBaseException\u001B[39;00m \u001B[38;5;28;01mas\u001B[39;00m e:\n",
       "\n",
       "File \u001B[0;32m/local_disk0/.ephemeral_nfs/envs/pythonEnv-d401c8bf-ef14-421d-bf4a-dda3ad423e0e/lib/python3.11/site-packages/langchain/chains/base.py:163\u001B[0m, in \u001B[0;36mChain.invoke\u001B[0;34m(self, input, config, **kwargs)\u001B[0m\n",
       "\u001B[1;32m    161\u001B[0m \u001B[38;5;28;01mexcept\u001B[39;00m \u001B[38;5;167;01mBaseException\u001B[39;00m \u001B[38;5;28;01mas\u001B[39;00m e:\n",
       "\u001B[1;32m    162\u001B[0m     run_manager\u001B[38;5;241m.\u001B[39mon_chain_error(e)\n",
       "\u001B[0;32m--> 163\u001B[0m     \u001B[38;5;28;01mraise\u001B[39;00m e\n",
       "\u001B[1;32m    164\u001B[0m run_manager\u001B[38;5;241m.\u001B[39mon_chain_end(outputs)\n",
       "\u001B[1;32m    166\u001B[0m \u001B[38;5;28;01mif\u001B[39;00m include_run_info:\n",
       "\n",
       "File \u001B[0;32m/local_disk0/.ephemeral_nfs/envs/pythonEnv-d401c8bf-ef14-421d-bf4a-dda3ad423e0e/lib/python3.11/site-packages/langchain/chains/base.py:153\u001B[0m, in \u001B[0;36mChain.invoke\u001B[0;34m(self, input, config, **kwargs)\u001B[0m\n",
       "\u001B[1;32m    150\u001B[0m \u001B[38;5;28;01mtry\u001B[39;00m:\n",
       "\u001B[1;32m    151\u001B[0m     \u001B[38;5;28mself\u001B[39m\u001B[38;5;241m.\u001B[39m_validate_inputs(inputs)\n",
       "\u001B[1;32m    152\u001B[0m     outputs \u001B[38;5;241m=\u001B[39m (\n",
       "\u001B[0;32m--> 153\u001B[0m         \u001B[38;5;28mself\u001B[39m\u001B[38;5;241m.\u001B[39m_call(inputs, run_manager\u001B[38;5;241m=\u001B[39mrun_manager)\n",
       "\u001B[1;32m    154\u001B[0m         \u001B[38;5;28;01mif\u001B[39;00m new_arg_supported\n",
       "\u001B[1;32m    155\u001B[0m         \u001B[38;5;28;01melse\u001B[39;00m \u001B[38;5;28mself\u001B[39m\u001B[38;5;241m.\u001B[39m_call(inputs)\n",
       "\u001B[1;32m    156\u001B[0m     )\n",
       "\u001B[1;32m    158\u001B[0m     final_outputs: Dict[\u001B[38;5;28mstr\u001B[39m, Any] \u001B[38;5;241m=\u001B[39m \u001B[38;5;28mself\u001B[39m\u001B[38;5;241m.\u001B[39mprep_outputs(\n",
       "\u001B[1;32m    159\u001B[0m         inputs, outputs, return_only_outputs\n",
       "\u001B[1;32m    160\u001B[0m     )\n",
       "\u001B[1;32m    161\u001B[0m \u001B[38;5;28;01mexcept\u001B[39;00m \u001B[38;5;167;01mBaseException\u001B[39;00m \u001B[38;5;28;01mas\u001B[39;00m e:\n",
       "\n",
       "File \u001B[0;32m/local_disk0/.ephemeral_nfs/envs/pythonEnv-d401c8bf-ef14-421d-bf4a-dda3ad423e0e/lib/python3.11/site-packages/langchain/agents/agent.py:1625\u001B[0m, in \u001B[0;36mAgentExecutor._call\u001B[0;34m(self, inputs, run_manager)\u001B[0m\n",
       "\u001B[1;32m   1623\u001B[0m \u001B[38;5;66;03m# We now enter the agent loop (until it returns something).\u001B[39;00m\n",
       "\u001B[1;32m   1624\u001B[0m \u001B[38;5;28;01mwhile\u001B[39;00m \u001B[38;5;28mself\u001B[39m\u001B[38;5;241m.\u001B[39m_should_continue(iterations, time_elapsed):\n",
       "\u001B[0;32m-> 1625\u001B[0m     next_step_output \u001B[38;5;241m=\u001B[39m \u001B[38;5;28mself\u001B[39m\u001B[38;5;241m.\u001B[39m_take_next_step(\n",
       "\u001B[1;32m   1626\u001B[0m         name_to_tool_map,\n",
       "\u001B[1;32m   1627\u001B[0m         color_mapping,\n",
       "\u001B[1;32m   1628\u001B[0m         inputs,\n",
       "\u001B[1;32m   1629\u001B[0m         intermediate_steps,\n",
       "\u001B[1;32m   1630\u001B[0m         run_manager\u001B[38;5;241m=\u001B[39mrun_manager,\n",
       "\u001B[1;32m   1631\u001B[0m     )\n",
       "\u001B[1;32m   1632\u001B[0m     \u001B[38;5;28;01mif\u001B[39;00m \u001B[38;5;28misinstance\u001B[39m(next_step_output, AgentFinish):\n",
       "\u001B[1;32m   1633\u001B[0m         \u001B[38;5;28;01mreturn\u001B[39;00m \u001B[38;5;28mself\u001B[39m\u001B[38;5;241m.\u001B[39m_return(\n",
       "\u001B[1;32m   1634\u001B[0m             next_step_output, intermediate_steps, run_manager\u001B[38;5;241m=\u001B[39mrun_manager\n",
       "\u001B[1;32m   1635\u001B[0m         )\n",
       "\n",
       "File \u001B[0;32m/local_disk0/.ephemeral_nfs/envs/pythonEnv-d401c8bf-ef14-421d-bf4a-dda3ad423e0e/lib/python3.11/site-packages/langchain/agents/agent.py:1331\u001B[0m, in \u001B[0;36mAgentExecutor._take_next_step\u001B[0;34m(self, name_to_tool_map, color_mapping, inputs, intermediate_steps, run_manager)\u001B[0m\n",
       "\u001B[1;32m   1322\u001B[0m \u001B[38;5;28;01mdef\u001B[39;00m \u001B[38;5;21m_take_next_step\u001B[39m(\n",
       "\u001B[1;32m   1323\u001B[0m     \u001B[38;5;28mself\u001B[39m,\n",
       "\u001B[1;32m   1324\u001B[0m     name_to_tool_map: Dict[\u001B[38;5;28mstr\u001B[39m, BaseTool],\n",
       "\u001B[0;32m   (...)\u001B[0m\n",
       "\u001B[1;32m   1328\u001B[0m     run_manager: Optional[CallbackManagerForChainRun] \u001B[38;5;241m=\u001B[39m \u001B[38;5;28;01mNone\u001B[39;00m,\n",
       "\u001B[1;32m   1329\u001B[0m ) \u001B[38;5;241m-\u001B[39m\u001B[38;5;241m>\u001B[39m Union[AgentFinish, List[Tuple[AgentAction, \u001B[38;5;28mstr\u001B[39m]]]:\n",
       "\u001B[1;32m   1330\u001B[0m     \u001B[38;5;28;01mreturn\u001B[39;00m \u001B[38;5;28mself\u001B[39m\u001B[38;5;241m.\u001B[39m_consume_next_step(\n",
       "\u001B[0;32m-> 1331\u001B[0m         [\n",
       "\u001B[1;32m   1332\u001B[0m             a\n",
       "\u001B[1;32m   1333\u001B[0m             \u001B[38;5;28;01mfor\u001B[39;00m a \u001B[38;5;129;01min\u001B[39;00m \u001B[38;5;28mself\u001B[39m\u001B[38;5;241m.\u001B[39m_iter_next_step(\n",
       "\u001B[1;32m   1334\u001B[0m                 name_to_tool_map,\n",
       "\u001B[1;32m   1335\u001B[0m                 color_mapping,\n",
       "\u001B[1;32m   1336\u001B[0m                 inputs,\n",
       "\u001B[1;32m   1337\u001B[0m                 intermediate_steps,\n",
       "\u001B[1;32m   1338\u001B[0m                 run_manager,\n",
       "\u001B[1;32m   1339\u001B[0m             )\n",
       "\u001B[1;32m   1340\u001B[0m         ]\n",
       "\u001B[1;32m   1341\u001B[0m     )\n",
       "\n",
       "File \u001B[0;32m/local_disk0/.ephemeral_nfs/envs/pythonEnv-d401c8bf-ef14-421d-bf4a-dda3ad423e0e/lib/python3.11/site-packages/langchain/agents/agent.py:1331\u001B[0m, in \u001B[0;36m<listcomp>\u001B[0;34m(.0)\u001B[0m\n",
       "\u001B[1;32m   1322\u001B[0m \u001B[38;5;28;01mdef\u001B[39;00m \u001B[38;5;21m_take_next_step\u001B[39m(\n",
       "\u001B[1;32m   1323\u001B[0m     \u001B[38;5;28mself\u001B[39m,\n",
       "\u001B[1;32m   1324\u001B[0m     name_to_tool_map: Dict[\u001B[38;5;28mstr\u001B[39m, BaseTool],\n",
       "\u001B[0;32m   (...)\u001B[0m\n",
       "\u001B[1;32m   1328\u001B[0m     run_manager: Optional[CallbackManagerForChainRun] \u001B[38;5;241m=\u001B[39m \u001B[38;5;28;01mNone\u001B[39;00m,\n",
       "\u001B[1;32m   1329\u001B[0m ) \u001B[38;5;241m-\u001B[39m\u001B[38;5;241m>\u001B[39m Union[AgentFinish, List[Tuple[AgentAction, \u001B[38;5;28mstr\u001B[39m]]]:\n",
       "\u001B[1;32m   1330\u001B[0m     \u001B[38;5;28;01mreturn\u001B[39;00m \u001B[38;5;28mself\u001B[39m\u001B[38;5;241m.\u001B[39m_consume_next_step(\n",
       "\u001B[0;32m-> 1331\u001B[0m         [\n",
       "\u001B[1;32m   1332\u001B[0m             a\n",
       "\u001B[1;32m   1333\u001B[0m             \u001B[38;5;28;01mfor\u001B[39;00m a \u001B[38;5;129;01min\u001B[39;00m \u001B[38;5;28mself\u001B[39m\u001B[38;5;241m.\u001B[39m_iter_next_step(\n",
       "\u001B[1;32m   1334\u001B[0m                 name_to_tool_map,\n",
       "\u001B[1;32m   1335\u001B[0m                 color_mapping,\n",
       "\u001B[1;32m   1336\u001B[0m                 inputs,\n",
       "\u001B[1;32m   1337\u001B[0m                 intermediate_steps,\n",
       "\u001B[1;32m   1338\u001B[0m                 run_manager,\n",
       "\u001B[1;32m   1339\u001B[0m             )\n",
       "\u001B[1;32m   1340\u001B[0m         ]\n",
       "\u001B[1;32m   1341\u001B[0m     )\n",
       "\n",
       "File \u001B[0;32m/local_disk0/.ephemeral_nfs/envs/pythonEnv-d401c8bf-ef14-421d-bf4a-dda3ad423e0e/lib/python3.11/site-packages/langchain/agents/agent.py:1416\u001B[0m, in \u001B[0;36mAgentExecutor._iter_next_step\u001B[0;34m(self, name_to_tool_map, color_mapping, inputs, intermediate_steps, run_manager)\u001B[0m\n",
       "\u001B[1;32m   1414\u001B[0m     \u001B[38;5;28;01myield\u001B[39;00m agent_action\n",
       "\u001B[1;32m   1415\u001B[0m \u001B[38;5;28;01mfor\u001B[39;00m agent_action \u001B[38;5;129;01min\u001B[39;00m actions:\n",
       "\u001B[0;32m-> 1416\u001B[0m     \u001B[38;5;28;01myield\u001B[39;00m \u001B[38;5;28mself\u001B[39m\u001B[38;5;241m.\u001B[39m_perform_agent_action(\n",
       "\u001B[1;32m   1417\u001B[0m         name_to_tool_map, color_mapping, agent_action, run_manager\n",
       "\u001B[1;32m   1418\u001B[0m     )\n",
       "\n",
       "File \u001B[0;32m/local_disk0/.ephemeral_nfs/envs/pythonEnv-d401c8bf-ef14-421d-bf4a-dda3ad423e0e/lib/python3.11/site-packages/langchain/agents/agent.py:1438\u001B[0m, in \u001B[0;36mAgentExecutor._perform_agent_action\u001B[0;34m(self, name_to_tool_map, color_mapping, agent_action, run_manager)\u001B[0m\n",
       "\u001B[1;32m   1436\u001B[0m         tool_run_kwargs[\u001B[38;5;124m\"\u001B[39m\u001B[38;5;124mllm_prefix\u001B[39m\u001B[38;5;124m\"\u001B[39m] \u001B[38;5;241m=\u001B[39m \u001B[38;5;124m\"\u001B[39m\u001B[38;5;124m\"\u001B[39m\n",
       "\u001B[1;32m   1437\u001B[0m     \u001B[38;5;66;03m# We then call the tool on the tool input to get an observation\u001B[39;00m\n",
       "\u001B[0;32m-> 1438\u001B[0m     observation \u001B[38;5;241m=\u001B[39m tool\u001B[38;5;241m.\u001B[39mrun(\n",
       "\u001B[1;32m   1439\u001B[0m         agent_action\u001B[38;5;241m.\u001B[39mtool_input,\n",
       "\u001B[1;32m   1440\u001B[0m         verbose\u001B[38;5;241m=\u001B[39m\u001B[38;5;28mself\u001B[39m\u001B[38;5;241m.\u001B[39mverbose,\n",
       "\u001B[1;32m   1441\u001B[0m         color\u001B[38;5;241m=\u001B[39mcolor,\n",
       "\u001B[1;32m   1442\u001B[0m         callbacks\u001B[38;5;241m=\u001B[39mrun_manager\u001B[38;5;241m.\u001B[39mget_child() \u001B[38;5;28;01mif\u001B[39;00m run_manager \u001B[38;5;28;01melse\u001B[39;00m \u001B[38;5;28;01mNone\u001B[39;00m,\n",
       "\u001B[1;32m   1443\u001B[0m         \u001B[38;5;241m*\u001B[39m\u001B[38;5;241m*\u001B[39mtool_run_kwargs,\n",
       "\u001B[1;32m   1444\u001B[0m     )\n",
       "\u001B[1;32m   1445\u001B[0m \u001B[38;5;28;01melse\u001B[39;00m:\n",
       "\u001B[1;32m   1446\u001B[0m     tool_run_kwargs \u001B[38;5;241m=\u001B[39m \u001B[38;5;28mself\u001B[39m\u001B[38;5;241m.\u001B[39m_action_agent\u001B[38;5;241m.\u001B[39mtool_run_logging_kwargs()\n",
       "\n",
       "File \u001B[0;32m/local_disk0/.ephemeral_nfs/envs/pythonEnv-d401c8bf-ef14-421d-bf4a-dda3ad423e0e/lib/python3.11/site-packages/langchain_core/tools/base.py:586\u001B[0m, in \u001B[0;36mBaseTool.run\u001B[0;34m(self, tool_input, verbose, start_color, color, callbacks, tags, metadata, run_name, run_id, config, tool_call_id, **kwargs)\u001B[0m\n",
       "\u001B[1;32m    584\u001B[0m \u001B[38;5;28;01mif\u001B[39;00m error_to_raise:\n",
       "\u001B[1;32m    585\u001B[0m     run_manager\u001B[38;5;241m.\u001B[39mon_tool_error(error_to_raise)\n",
       "\u001B[0;32m--> 586\u001B[0m     \u001B[38;5;28;01mraise\u001B[39;00m error_to_raise\n",
       "\u001B[1;32m    587\u001B[0m output \u001B[38;5;241m=\u001B[39m _format_output(content, artifact, tool_call_id, \u001B[38;5;28mself\u001B[39m\u001B[38;5;241m.\u001B[39mname, status)\n",
       "\u001B[1;32m    588\u001B[0m run_manager\u001B[38;5;241m.\u001B[39mon_tool_end(output, color\u001B[38;5;241m=\u001B[39mcolor, name\u001B[38;5;241m=\u001B[39m\u001B[38;5;28mself\u001B[39m\u001B[38;5;241m.\u001B[39mname, \u001B[38;5;241m*\u001B[39m\u001B[38;5;241m*\u001B[39mkwargs)\n",
       "\n",
       "File \u001B[0;32m/local_disk0/.ephemeral_nfs/envs/pythonEnv-d401c8bf-ef14-421d-bf4a-dda3ad423e0e/lib/python3.11/site-packages/langchain_core/tools/base.py:555\u001B[0m, in \u001B[0;36mBaseTool.run\u001B[0;34m(self, tool_input, verbose, start_color, color, callbacks, tags, metadata, run_name, run_id, config, tool_call_id, **kwargs)\u001B[0m\n",
       "\u001B[1;32m    553\u001B[0m \u001B[38;5;28;01mif\u001B[39;00m config_param \u001B[38;5;241m:=\u001B[39m _get_runnable_config_param(\u001B[38;5;28mself\u001B[39m\u001B[38;5;241m.\u001B[39m_run):\n",
       "\u001B[1;32m    554\u001B[0m     tool_kwargs[config_param] \u001B[38;5;241m=\u001B[39m config\n",
       "\u001B[0;32m--> 555\u001B[0m response \u001B[38;5;241m=\u001B[39m context\u001B[38;5;241m.\u001B[39mrun(\u001B[38;5;28mself\u001B[39m\u001B[38;5;241m.\u001B[39m_run, \u001B[38;5;241m*\u001B[39mtool_args, \u001B[38;5;241m*\u001B[39m\u001B[38;5;241m*\u001B[39mtool_kwargs)\n",
       "\u001B[1;32m    556\u001B[0m \u001B[38;5;28;01mif\u001B[39;00m \u001B[38;5;28mself\u001B[39m\u001B[38;5;241m.\u001B[39mresponse_format \u001B[38;5;241m==\u001B[39m \u001B[38;5;124m\"\u001B[39m\u001B[38;5;124mcontent_and_artifact\u001B[39m\u001B[38;5;124m\"\u001B[39m:\n",
       "\u001B[1;32m    557\u001B[0m     \u001B[38;5;28;01mif\u001B[39;00m \u001B[38;5;129;01mnot\u001B[39;00m \u001B[38;5;28misinstance\u001B[39m(response, \u001B[38;5;28mtuple\u001B[39m) \u001B[38;5;129;01mor\u001B[39;00m \u001B[38;5;28mlen\u001B[39m(response) \u001B[38;5;241m!=\u001B[39m \u001B[38;5;241m2\u001B[39m:\n",
       "\n",
       "File \u001B[0;32m/local_disk0/.ephemeral_nfs/envs/pythonEnv-d401c8bf-ef14-421d-bf4a-dda3ad423e0e/lib/python3.11/site-packages/langchain_core/tools/structured.py:69\u001B[0m, in \u001B[0;36mStructuredTool._run\u001B[0;34m(self, config, run_manager, *args, **kwargs)\u001B[0m\n",
       "\u001B[1;32m     67\u001B[0m     \u001B[38;5;28;01mif\u001B[39;00m config_param \u001B[38;5;241m:=\u001B[39m _get_runnable_config_param(\u001B[38;5;28mself\u001B[39m\u001B[38;5;241m.\u001B[39mfunc):\n",
       "\u001B[1;32m     68\u001B[0m         kwargs[config_param] \u001B[38;5;241m=\u001B[39m config\n",
       "\u001B[0;32m---> 69\u001B[0m     \u001B[38;5;28;01mreturn\u001B[39;00m \u001B[38;5;28mself\u001B[39m\u001B[38;5;241m.\u001B[39mfunc(\u001B[38;5;241m*\u001B[39margs, \u001B[38;5;241m*\u001B[39m\u001B[38;5;241m*\u001B[39mkwargs)\n",
       "\u001B[1;32m     70\u001B[0m \u001B[38;5;28;01mraise\u001B[39;00m \u001B[38;5;167;01mNotImplementedError\u001B[39;00m(\u001B[38;5;124m\"\u001B[39m\u001B[38;5;124mStructuredTool does not support sync invocation.\u001B[39m\u001B[38;5;124m\"\u001B[39m)\n",
       "\n",
       "File \u001B[0;32m/local_disk0/.ephemeral_nfs/envs/pythonEnv-d401c8bf-ef14-421d-bf4a-dda3ad423e0e/lib/python3.11/site-packages/langchain_community/tools/databricks/tool.py:185\u001B[0m, in \u001B[0;36mUCFunctionToolkit._make_tool.<locals>.func\u001B[0;34m(*args, **kwargs)\u001B[0m\n",
       "\u001B[1;32m    181\u001B[0m \u001B[38;5;28;01mdef\u001B[39;00m \u001B[38;5;21mfunc\u001B[39m(\u001B[38;5;241m*\u001B[39margs: Any, \u001B[38;5;241m*\u001B[39m\u001B[38;5;241m*\u001B[39mkwargs: Any) \u001B[38;5;241m-\u001B[39m\u001B[38;5;241m>\u001B[39m \u001B[38;5;28mstr\u001B[39m:\n",
       "\u001B[1;32m    182\u001B[0m     \u001B[38;5;66;03m# TODO: We expect all named args and ignore args.\u001B[39;00m\n",
       "\u001B[1;32m    183\u001B[0m     \u001B[38;5;66;03m# Non-empty args show up when the function has no parameters.\u001B[39;00m\n",
       "\u001B[1;32m    184\u001B[0m     args_json \u001B[38;5;241m=\u001B[39m json\u001B[38;5;241m.\u001B[39mloads(json\u001B[38;5;241m.\u001B[39mdumps(kwargs, default\u001B[38;5;241m=\u001B[39m\u001B[38;5;28mstr\u001B[39m))\n",
       "\u001B[0;32m--> 185\u001B[0m     result \u001B[38;5;241m=\u001B[39m execute_function(\n",
       "\u001B[1;32m    186\u001B[0m         ws\u001B[38;5;241m=\u001B[39m\u001B[38;5;28mself\u001B[39m\u001B[38;5;241m.\u001B[39mworkspace_client,\n",
       "\u001B[1;32m    187\u001B[0m         warehouse_id\u001B[38;5;241m=\u001B[39m\u001B[38;5;28mself\u001B[39m\u001B[38;5;241m.\u001B[39mwarehouse_id,\n",
       "\u001B[1;32m    188\u001B[0m         function\u001B[38;5;241m=\u001B[39mfunction,\n",
       "\u001B[1;32m    189\u001B[0m         parameters\u001B[38;5;241m=\u001B[39margs_json,\n",
       "\u001B[1;32m    190\u001B[0m     )\n",
       "\u001B[1;32m    191\u001B[0m     \u001B[38;5;28;01mreturn\u001B[39;00m result\u001B[38;5;241m.\u001B[39mto_json()\n",
       "\n",
       "File \u001B[0;32m/local_disk0/.ephemeral_nfs/envs/pythonEnv-d401c8bf-ef14-421d-bf4a-dda3ad423e0e/lib/python3.11/site-packages/langchain_community/tools/databricks/_execution.py:171\u001B[0m, in \u001B[0;36mexecute_function\u001B[0;34m(ws, warehouse_id, function, parameters)\u001B[0m\n",
       "\u001B[1;32m    169\u001B[0m \u001B[38;5;66;03m# TODO: async so we can run functions in parallel\u001B[39;00m\n",
       "\u001B[1;32m    170\u001B[0m parametrized_statement \u001B[38;5;241m=\u001B[39m get_execute_function_sql_stmt(function, parameters)\n",
       "\u001B[0;32m--> 171\u001B[0m response \u001B[38;5;241m=\u001B[39m ws\u001B[38;5;241m.\u001B[39mstatement_execution\u001B[38;5;241m.\u001B[39mexecute_statement(\n",
       "\u001B[1;32m    172\u001B[0m     statement\u001B[38;5;241m=\u001B[39mparametrized_statement\u001B[38;5;241m.\u001B[39mstatement,\n",
       "\u001B[1;32m    173\u001B[0m     warehouse_id\u001B[38;5;241m=\u001B[39mwarehouse_id,\n",
       "\u001B[1;32m    174\u001B[0m     parameters\u001B[38;5;241m=\u001B[39mparametrized_statement\u001B[38;5;241m.\u001B[39mparameters,\n",
       "\u001B[1;32m    175\u001B[0m     \u001B[38;5;241m*\u001B[39m\u001B[38;5;241m*\u001B[39mexecute_statement_args,  \u001B[38;5;66;03m# type: ignore\u001B[39;00m\n",
       "\u001B[1;32m    176\u001B[0m )\n",
       "\u001B[1;32m    177\u001B[0m status \u001B[38;5;241m=\u001B[39m response\u001B[38;5;241m.\u001B[39mstatus\n",
       "\u001B[1;32m    178\u001B[0m \u001B[38;5;28;01massert\u001B[39;00m status \u001B[38;5;129;01mis\u001B[39;00m \u001B[38;5;129;01mnot\u001B[39;00m \u001B[38;5;28;01mNone\u001B[39;00m, \u001B[38;5;124mf\u001B[39m\u001B[38;5;124m\"\u001B[39m\u001B[38;5;124mStatement execution failed: \u001B[39m\u001B[38;5;132;01m{\u001B[39;00mresponse\u001B[38;5;132;01m}\u001B[39;00m\u001B[38;5;124m\"\u001B[39m\n",
       "\n",
       "File \u001B[0;32m/local_disk0/.ephemeral_nfs/envs/pythonEnv-d401c8bf-ef14-421d-bf4a-dda3ad423e0e/lib/python3.11/site-packages/databricks/sdk/service/sql.py:7929\u001B[0m, in \u001B[0;36mStatementExecutionAPI.execute_statement\u001B[0;34m(self, statement, warehouse_id, byte_limit, catalog, disposition, format, on_wait_timeout, parameters, row_limit, schema, wait_timeout)\u001B[0m\n",
       "\u001B[1;32m   7926\u001B[0m \u001B[38;5;28;01mif\u001B[39;00m warehouse_id \u001B[38;5;129;01mis\u001B[39;00m \u001B[38;5;129;01mnot\u001B[39;00m \u001B[38;5;28;01mNone\u001B[39;00m: body[\u001B[38;5;124m'\u001B[39m\u001B[38;5;124mwarehouse_id\u001B[39m\u001B[38;5;124m'\u001B[39m] \u001B[38;5;241m=\u001B[39m warehouse_id\n",
       "\u001B[1;32m   7927\u001B[0m headers \u001B[38;5;241m=\u001B[39m {\u001B[38;5;124m'\u001B[39m\u001B[38;5;124mAccept\u001B[39m\u001B[38;5;124m'\u001B[39m: \u001B[38;5;124m'\u001B[39m\u001B[38;5;124mapplication/json\u001B[39m\u001B[38;5;124m'\u001B[39m, \u001B[38;5;124m'\u001B[39m\u001B[38;5;124mContent-Type\u001B[39m\u001B[38;5;124m'\u001B[39m: \u001B[38;5;124m'\u001B[39m\u001B[38;5;124mapplication/json\u001B[39m\u001B[38;5;124m'\u001B[39m, }\n",
       "\u001B[0;32m-> 7929\u001B[0m res \u001B[38;5;241m=\u001B[39m \u001B[38;5;28mself\u001B[39m\u001B[38;5;241m.\u001B[39m_api\u001B[38;5;241m.\u001B[39mdo(\u001B[38;5;124m'\u001B[39m\u001B[38;5;124mPOST\u001B[39m\u001B[38;5;124m'\u001B[39m, \u001B[38;5;124m'\u001B[39m\u001B[38;5;124m/api/2.0/sql/statements/\u001B[39m\u001B[38;5;124m'\u001B[39m, body\u001B[38;5;241m=\u001B[39mbody, headers\u001B[38;5;241m=\u001B[39mheaders)\n",
       "\u001B[1;32m   7930\u001B[0m \u001B[38;5;28;01mreturn\u001B[39;00m StatementResponse\u001B[38;5;241m.\u001B[39mfrom_dict(res)\n",
       "\n",
       "File \u001B[0;32m/local_disk0/.ephemeral_nfs/envs/pythonEnv-d401c8bf-ef14-421d-bf4a-dda3ad423e0e/lib/python3.11/site-packages/databricks/sdk/core.py:77\u001B[0m, in \u001B[0;36mApiClient.do\u001B[0;34m(self, method, path, url, query, headers, body, raw, files, data, auth, response_headers)\u001B[0m\n",
       "\u001B[1;32m     75\u001B[0m     path \u001B[38;5;241m=\u001B[39m re\u001B[38;5;241m.\u001B[39msub(\u001B[38;5;124m'\u001B[39m\u001B[38;5;124m^/api/2.0/fs/files//\u001B[39m\u001B[38;5;124m'\u001B[39m, \u001B[38;5;124m'\u001B[39m\u001B[38;5;124m/api/2.0/fs/files/\u001B[39m\u001B[38;5;124m'\u001B[39m, path)\n",
       "\u001B[1;32m     76\u001B[0m     url \u001B[38;5;241m=\u001B[39m \u001B[38;5;124mf\u001B[39m\u001B[38;5;124m\"\u001B[39m\u001B[38;5;132;01m{\u001B[39;00m\u001B[38;5;28mself\u001B[39m\u001B[38;5;241m.\u001B[39m_cfg\u001B[38;5;241m.\u001B[39mhost\u001B[38;5;132;01m}\u001B[39;00m\u001B[38;5;132;01m{\u001B[39;00mpath\u001B[38;5;132;01m}\u001B[39;00m\u001B[38;5;124m\"\u001B[39m\n",
       "\u001B[0;32m---> 77\u001B[0m \u001B[38;5;28;01mreturn\u001B[39;00m \u001B[38;5;28mself\u001B[39m\u001B[38;5;241m.\u001B[39m_api_client\u001B[38;5;241m.\u001B[39mdo(method\u001B[38;5;241m=\u001B[39mmethod,\n",
       "\u001B[1;32m     78\u001B[0m                            url\u001B[38;5;241m=\u001B[39murl,\n",
       "\u001B[1;32m     79\u001B[0m                            query\u001B[38;5;241m=\u001B[39mquery,\n",
       "\u001B[1;32m     80\u001B[0m                            headers\u001B[38;5;241m=\u001B[39mheaders,\n",
       "\u001B[1;32m     81\u001B[0m                            body\u001B[38;5;241m=\u001B[39mbody,\n",
       "\u001B[1;32m     82\u001B[0m                            raw\u001B[38;5;241m=\u001B[39mraw,\n",
       "\u001B[1;32m     83\u001B[0m                            files\u001B[38;5;241m=\u001B[39mfiles,\n",
       "\u001B[1;32m     84\u001B[0m                            data\u001B[38;5;241m=\u001B[39mdata,\n",
       "\u001B[1;32m     85\u001B[0m                            auth\u001B[38;5;241m=\u001B[39mauth,\n",
       "\u001B[1;32m     86\u001B[0m                            response_headers\u001B[38;5;241m=\u001B[39mresponse_headers)\n",
       "\n",
       "File \u001B[0;32m/local_disk0/.ephemeral_nfs/envs/pythonEnv-d401c8bf-ef14-421d-bf4a-dda3ad423e0e/lib/python3.11/site-packages/databricks/sdk/_base_client.py:172\u001B[0m, in \u001B[0;36m_BaseClient.do\u001B[0;34m(self, method, url, query, headers, body, raw, files, data, auth, response_headers)\u001B[0m\n",
       "\u001B[1;32m    167\u001B[0m \u001B[38;5;28;01melse\u001B[39;00m:\n",
       "\u001B[1;32m    168\u001B[0m     call \u001B[38;5;241m=\u001B[39m retried(timeout\u001B[38;5;241m=\u001B[39mtimedelta(seconds\u001B[38;5;241m=\u001B[39m\u001B[38;5;28mself\u001B[39m\u001B[38;5;241m.\u001B[39m_retry_timeout_seconds),\n",
       "\u001B[1;32m    169\u001B[0m                    is_retryable\u001B[38;5;241m=\u001B[39m\u001B[38;5;28mself\u001B[39m\u001B[38;5;241m.\u001B[39m_is_retryable,\n",
       "\u001B[1;32m    170\u001B[0m                    clock\u001B[38;5;241m=\u001B[39m\u001B[38;5;28mself\u001B[39m\u001B[38;5;241m.\u001B[39m_clock)(\u001B[38;5;28mself\u001B[39m\u001B[38;5;241m.\u001B[39m_perform)\n",
       "\u001B[0;32m--> 172\u001B[0m response \u001B[38;5;241m=\u001B[39m call(method,\n",
       "\u001B[1;32m    173\u001B[0m                 url,\n",
       "\u001B[1;32m    174\u001B[0m                 query\u001B[38;5;241m=\u001B[39mquery,\n",
       "\u001B[1;32m    175\u001B[0m                 headers\u001B[38;5;241m=\u001B[39mheaders,\n",
       "\u001B[1;32m    176\u001B[0m                 body\u001B[38;5;241m=\u001B[39mbody,\n",
       "\u001B[1;32m    177\u001B[0m                 raw\u001B[38;5;241m=\u001B[39mraw,\n",
       "\u001B[1;32m    178\u001B[0m                 files\u001B[38;5;241m=\u001B[39mfiles,\n",
       "\u001B[1;32m    179\u001B[0m                 data\u001B[38;5;241m=\u001B[39mdata,\n",
       "\u001B[1;32m    180\u001B[0m                 auth\u001B[38;5;241m=\u001B[39mauth)\n",
       "\u001B[1;32m    182\u001B[0m resp \u001B[38;5;241m=\u001B[39m \u001B[38;5;28mdict\u001B[39m()\n",
       "\u001B[1;32m    183\u001B[0m \u001B[38;5;28;01mfor\u001B[39;00m header \u001B[38;5;129;01min\u001B[39;00m response_headers \u001B[38;5;28;01mif\u001B[39;00m response_headers \u001B[38;5;28;01melse\u001B[39;00m []:\n",
       "\n",
       "File \u001B[0;32m/local_disk0/.ephemeral_nfs/envs/pythonEnv-d401c8bf-ef14-421d-bf4a-dda3ad423e0e/lib/python3.11/site-packages/databricks/sdk/retries.py:54\u001B[0m, in \u001B[0;36mretried.<locals>.decorator.<locals>.wrapper\u001B[0;34m(*args, **kwargs)\u001B[0m\n",
       "\u001B[1;32m     50\u001B[0m         retry_reason \u001B[38;5;241m=\u001B[39m \u001B[38;5;124mf\u001B[39m\u001B[38;5;124m'\u001B[39m\u001B[38;5;132;01m{\u001B[39;00m\u001B[38;5;28mtype\u001B[39m(err)\u001B[38;5;241m.\u001B[39m\u001B[38;5;18m__name__\u001B[39m\u001B[38;5;132;01m}\u001B[39;00m\u001B[38;5;124m is allowed to retry\u001B[39m\u001B[38;5;124m'\u001B[39m\n",
       "\u001B[1;32m     52\u001B[0m \u001B[38;5;28;01mif\u001B[39;00m retry_reason \u001B[38;5;129;01mis\u001B[39;00m \u001B[38;5;28;01mNone\u001B[39;00m:\n",
       "\u001B[1;32m     53\u001B[0m     \u001B[38;5;66;03m# raise if exception is not retryable\u001B[39;00m\n",
       "\u001B[0;32m---> 54\u001B[0m     \u001B[38;5;28;01mraise\u001B[39;00m err\n",
       "\u001B[1;32m     56\u001B[0m logger\u001B[38;5;241m.\u001B[39mdebug(\u001B[38;5;124mf\u001B[39m\u001B[38;5;124m'\u001B[39m\u001B[38;5;124mRetrying: \u001B[39m\u001B[38;5;132;01m{\u001B[39;00mretry_reason\u001B[38;5;132;01m}\u001B[39;00m\u001B[38;5;124m (sleeping ~\u001B[39m\u001B[38;5;132;01m{\u001B[39;00msleep\u001B[38;5;132;01m}\u001B[39;00m\u001B[38;5;124ms)\u001B[39m\u001B[38;5;124m'\u001B[39m)\n",
       "\u001B[1;32m     57\u001B[0m clock\u001B[38;5;241m.\u001B[39msleep(sleep \u001B[38;5;241m+\u001B[39m random())\n",
       "\n",
       "File \u001B[0;32m/local_disk0/.ephemeral_nfs/envs/pythonEnv-d401c8bf-ef14-421d-bf4a-dda3ad423e0e/lib/python3.11/site-packages/databricks/sdk/retries.py:33\u001B[0m, in \u001B[0;36mretried.<locals>.decorator.<locals>.wrapper\u001B[0;34m(*args, **kwargs)\u001B[0m\n",
       "\u001B[1;32m     31\u001B[0m \u001B[38;5;28;01mwhile\u001B[39;00m clock\u001B[38;5;241m.\u001B[39mtime() \u001B[38;5;241m<\u001B[39m deadline:\n",
       "\u001B[1;32m     32\u001B[0m     \u001B[38;5;28;01mtry\u001B[39;00m:\n",
       "\u001B[0;32m---> 33\u001B[0m         \u001B[38;5;28;01mreturn\u001B[39;00m func(\u001B[38;5;241m*\u001B[39margs, \u001B[38;5;241m*\u001B[39m\u001B[38;5;241m*\u001B[39mkwargs)\n",
       "\u001B[1;32m     34\u001B[0m     \u001B[38;5;28;01mexcept\u001B[39;00m \u001B[38;5;167;01mException\u001B[39;00m \u001B[38;5;28;01mas\u001B[39;00m err:\n",
       "\u001B[1;32m     35\u001B[0m         last_err \u001B[38;5;241m=\u001B[39m err\n",
       "\n",
       "File \u001B[0;32m/local_disk0/.ephemeral_nfs/envs/pythonEnv-d401c8bf-ef14-421d-bf4a-dda3ad423e0e/lib/python3.11/site-packages/databricks/sdk/_base_client.py:278\u001B[0m, in \u001B[0;36m_BaseClient._perform\u001B[0;34m(self, method, url, query, headers, body, raw, files, data, auth)\u001B[0m\n",
       "\u001B[1;32m    276\u001B[0m     \u001B[38;5;28;01mif\u001B[39;00m \u001B[38;5;28mself\u001B[39m\u001B[38;5;241m.\u001B[39m_is_seekable_stream(data):\n",
       "\u001B[1;32m    277\u001B[0m         data\u001B[38;5;241m.\u001B[39mseek(initial_data_position)\n",
       "\u001B[0;32m--> 278\u001B[0m     \u001B[38;5;28;01mraise\u001B[39;00m error \u001B[38;5;28;01mfrom\u001B[39;00m \u001B[38;5;28;01mNone\u001B[39;00m\n",
       "\u001B[1;32m    280\u001B[0m \u001B[38;5;28;01mreturn\u001B[39;00m response\n",
       "\n",
       "\u001B[0;31mInvalidParameterValue\u001B[0m:  is not a valid endpoint id."
      ]
     },
     "metadata": {
      "application/vnd.databricks.v1+output": {
       "addedWidgets": {},
       "arguments": {
        "selected_city": "Bordeaux"
       },
       "datasetInfos": [],
       "jupyterProps": {
        "ename": "InvalidParameterValue",
        "evalue": " is not a valid endpoint id."
       },
       "metadata": {
        "errorSummary": "<span class='ansi-red-fg'>InvalidParameterValue</span>:  is not a valid endpoint id."
       },
       "removedWidgets": [],
       "sqlProps": null,
       "stackFrames": [
        "\u001B[0;31m---------------------------------------------------------------------------\u001B[0m",
        "\u001B[0;31mInvalidParameterValue\u001B[0m                     Traceback (most recent call last)",
        "File \u001B[0;32m<command-1204291622731010>, line 7\u001B[0m\n\u001B[1;32m      3\u001B[0m selected_city \u001B[38;5;241m=\u001B[39m dbutils\u001B[38;5;241m.\u001B[39mwidgets\u001B[38;5;241m.\u001B[39mget(\u001B[38;5;124m\"\u001B[39m\u001B[38;5;124mselected_city\u001B[39m\u001B[38;5;124m\"\u001B[39m)\n\u001B[1;32m      5\u001B[0m \u001B[38;5;66;03m# try:\u001B[39;00m\n\u001B[0;32m----> 7\u001B[0m answer \u001B[38;5;241m=\u001B[39m agent_str\u001B[38;5;241m.\u001B[39minvoke({\u001B[38;5;124m\"\u001B[39m\u001B[38;5;124mmessages\u001B[39m\u001B[38;5;124m\"\u001B[39m: \u001B[38;5;124m\"\u001B[39m\u001B[38;5;124mUse customer hotel reviews to write a positive instagram post to promote the hotel in \u001B[39m\u001B[38;5;124m\"\u001B[39m \u001B[38;5;241m+\u001B[39m selected_city \u001B[38;5;241m+\u001B[39m \u001B[38;5;124m\"\u001B[39m\u001B[38;5;124m with the lowest sales. Mention the hotel by its name.\u001B[39m\u001B[38;5;124m\"\u001B[39m})\n",
        "File \u001B[0;32m/local_disk0/.ephemeral_nfs/envs/pythonEnv-d401c8bf-ef14-421d-bf4a-dda3ad423e0e/lib/python3.11/site-packages/langchain_core/runnables/base.py:2879\u001B[0m, in \u001B[0;36mRunnableSequence.invoke\u001B[0;34m(self, input, config, **kwargs)\u001B[0m\n\u001B[1;32m   2877\u001B[0m             \u001B[38;5;28minput\u001B[39m \u001B[38;5;241m=\u001B[39m context\u001B[38;5;241m.\u001B[39mrun(step\u001B[38;5;241m.\u001B[39minvoke, \u001B[38;5;28minput\u001B[39m, config, \u001B[38;5;241m*\u001B[39m\u001B[38;5;241m*\u001B[39mkwargs)\n\u001B[1;32m   2878\u001B[0m         \u001B[38;5;28;01melse\u001B[39;00m:\n\u001B[0;32m-> 2879\u001B[0m             \u001B[38;5;28minput\u001B[39m \u001B[38;5;241m=\u001B[39m context\u001B[38;5;241m.\u001B[39mrun(step\u001B[38;5;241m.\u001B[39minvoke, \u001B[38;5;28minput\u001B[39m, config)\n\u001B[1;32m   2880\u001B[0m \u001B[38;5;66;03m# finish the root run\u001B[39;00m\n\u001B[1;32m   2881\u001B[0m \u001B[38;5;28;01mexcept\u001B[39;00m \u001B[38;5;167;01mBaseException\u001B[39;00m \u001B[38;5;28;01mas\u001B[39;00m e:\n",
        "File \u001B[0;32m/local_disk0/.ephemeral_nfs/envs/pythonEnv-d401c8bf-ef14-421d-bf4a-dda3ad423e0e/lib/python3.11/site-packages/langchain/chains/base.py:163\u001B[0m, in \u001B[0;36mChain.invoke\u001B[0;34m(self, input, config, **kwargs)\u001B[0m\n\u001B[1;32m    161\u001B[0m \u001B[38;5;28;01mexcept\u001B[39;00m \u001B[38;5;167;01mBaseException\u001B[39;00m \u001B[38;5;28;01mas\u001B[39;00m e:\n\u001B[1;32m    162\u001B[0m     run_manager\u001B[38;5;241m.\u001B[39mon_chain_error(e)\n\u001B[0;32m--> 163\u001B[0m     \u001B[38;5;28;01mraise\u001B[39;00m e\n\u001B[1;32m    164\u001B[0m run_manager\u001B[38;5;241m.\u001B[39mon_chain_end(outputs)\n\u001B[1;32m    166\u001B[0m \u001B[38;5;28;01mif\u001B[39;00m include_run_info:\n",
        "File \u001B[0;32m/local_disk0/.ephemeral_nfs/envs/pythonEnv-d401c8bf-ef14-421d-bf4a-dda3ad423e0e/lib/python3.11/site-packages/langchain/chains/base.py:153\u001B[0m, in \u001B[0;36mChain.invoke\u001B[0;34m(self, input, config, **kwargs)\u001B[0m\n\u001B[1;32m    150\u001B[0m \u001B[38;5;28;01mtry\u001B[39;00m:\n\u001B[1;32m    151\u001B[0m     \u001B[38;5;28mself\u001B[39m\u001B[38;5;241m.\u001B[39m_validate_inputs(inputs)\n\u001B[1;32m    152\u001B[0m     outputs \u001B[38;5;241m=\u001B[39m (\n\u001B[0;32m--> 153\u001B[0m         \u001B[38;5;28mself\u001B[39m\u001B[38;5;241m.\u001B[39m_call(inputs, run_manager\u001B[38;5;241m=\u001B[39mrun_manager)\n\u001B[1;32m    154\u001B[0m         \u001B[38;5;28;01mif\u001B[39;00m new_arg_supported\n\u001B[1;32m    155\u001B[0m         \u001B[38;5;28;01melse\u001B[39;00m \u001B[38;5;28mself\u001B[39m\u001B[38;5;241m.\u001B[39m_call(inputs)\n\u001B[1;32m    156\u001B[0m     )\n\u001B[1;32m    158\u001B[0m     final_outputs: Dict[\u001B[38;5;28mstr\u001B[39m, Any] \u001B[38;5;241m=\u001B[39m \u001B[38;5;28mself\u001B[39m\u001B[38;5;241m.\u001B[39mprep_outputs(\n\u001B[1;32m    159\u001B[0m         inputs, outputs, return_only_outputs\n\u001B[1;32m    160\u001B[0m     )\n\u001B[1;32m    161\u001B[0m \u001B[38;5;28;01mexcept\u001B[39;00m \u001B[38;5;167;01mBaseException\u001B[39;00m \u001B[38;5;28;01mas\u001B[39;00m e:\n",
        "File \u001B[0;32m/local_disk0/.ephemeral_nfs/envs/pythonEnv-d401c8bf-ef14-421d-bf4a-dda3ad423e0e/lib/python3.11/site-packages/langchain/agents/agent.py:1625\u001B[0m, in \u001B[0;36mAgentExecutor._call\u001B[0;34m(self, inputs, run_manager)\u001B[0m\n\u001B[1;32m   1623\u001B[0m \u001B[38;5;66;03m# We now enter the agent loop (until it returns something).\u001B[39;00m\n\u001B[1;32m   1624\u001B[0m \u001B[38;5;28;01mwhile\u001B[39;00m \u001B[38;5;28mself\u001B[39m\u001B[38;5;241m.\u001B[39m_should_continue(iterations, time_elapsed):\n\u001B[0;32m-> 1625\u001B[0m     next_step_output \u001B[38;5;241m=\u001B[39m \u001B[38;5;28mself\u001B[39m\u001B[38;5;241m.\u001B[39m_take_next_step(\n\u001B[1;32m   1626\u001B[0m         name_to_tool_map,\n\u001B[1;32m   1627\u001B[0m         color_mapping,\n\u001B[1;32m   1628\u001B[0m         inputs,\n\u001B[1;32m   1629\u001B[0m         intermediate_steps,\n\u001B[1;32m   1630\u001B[0m         run_manager\u001B[38;5;241m=\u001B[39mrun_manager,\n\u001B[1;32m   1631\u001B[0m     )\n\u001B[1;32m   1632\u001B[0m     \u001B[38;5;28;01mif\u001B[39;00m \u001B[38;5;28misinstance\u001B[39m(next_step_output, AgentFinish):\n\u001B[1;32m   1633\u001B[0m         \u001B[38;5;28;01mreturn\u001B[39;00m \u001B[38;5;28mself\u001B[39m\u001B[38;5;241m.\u001B[39m_return(\n\u001B[1;32m   1634\u001B[0m             next_step_output, intermediate_steps, run_manager\u001B[38;5;241m=\u001B[39mrun_manager\n\u001B[1;32m   1635\u001B[0m         )\n",
        "File \u001B[0;32m/local_disk0/.ephemeral_nfs/envs/pythonEnv-d401c8bf-ef14-421d-bf4a-dda3ad423e0e/lib/python3.11/site-packages/langchain/agents/agent.py:1331\u001B[0m, in \u001B[0;36mAgentExecutor._take_next_step\u001B[0;34m(self, name_to_tool_map, color_mapping, inputs, intermediate_steps, run_manager)\u001B[0m\n\u001B[1;32m   1322\u001B[0m \u001B[38;5;28;01mdef\u001B[39;00m \u001B[38;5;21m_take_next_step\u001B[39m(\n\u001B[1;32m   1323\u001B[0m     \u001B[38;5;28mself\u001B[39m,\n\u001B[1;32m   1324\u001B[0m     name_to_tool_map: Dict[\u001B[38;5;28mstr\u001B[39m, BaseTool],\n\u001B[0;32m   (...)\u001B[0m\n\u001B[1;32m   1328\u001B[0m     run_manager: Optional[CallbackManagerForChainRun] \u001B[38;5;241m=\u001B[39m \u001B[38;5;28;01mNone\u001B[39;00m,\n\u001B[1;32m   1329\u001B[0m ) \u001B[38;5;241m-\u001B[39m\u001B[38;5;241m>\u001B[39m Union[AgentFinish, List[Tuple[AgentAction, \u001B[38;5;28mstr\u001B[39m]]]:\n\u001B[1;32m   1330\u001B[0m     \u001B[38;5;28;01mreturn\u001B[39;00m \u001B[38;5;28mself\u001B[39m\u001B[38;5;241m.\u001B[39m_consume_next_step(\n\u001B[0;32m-> 1331\u001B[0m         [\n\u001B[1;32m   1332\u001B[0m             a\n\u001B[1;32m   1333\u001B[0m             \u001B[38;5;28;01mfor\u001B[39;00m a \u001B[38;5;129;01min\u001B[39;00m \u001B[38;5;28mself\u001B[39m\u001B[38;5;241m.\u001B[39m_iter_next_step(\n\u001B[1;32m   1334\u001B[0m                 name_to_tool_map,\n\u001B[1;32m   1335\u001B[0m                 color_mapping,\n\u001B[1;32m   1336\u001B[0m                 inputs,\n\u001B[1;32m   1337\u001B[0m                 intermediate_steps,\n\u001B[1;32m   1338\u001B[0m                 run_manager,\n\u001B[1;32m   1339\u001B[0m             )\n\u001B[1;32m   1340\u001B[0m         ]\n\u001B[1;32m   1341\u001B[0m     )\n",
        "File \u001B[0;32m/local_disk0/.ephemeral_nfs/envs/pythonEnv-d401c8bf-ef14-421d-bf4a-dda3ad423e0e/lib/python3.11/site-packages/langchain/agents/agent.py:1331\u001B[0m, in \u001B[0;36m<listcomp>\u001B[0;34m(.0)\u001B[0m\n\u001B[1;32m   1322\u001B[0m \u001B[38;5;28;01mdef\u001B[39;00m \u001B[38;5;21m_take_next_step\u001B[39m(\n\u001B[1;32m   1323\u001B[0m     \u001B[38;5;28mself\u001B[39m,\n\u001B[1;32m   1324\u001B[0m     name_to_tool_map: Dict[\u001B[38;5;28mstr\u001B[39m, BaseTool],\n\u001B[0;32m   (...)\u001B[0m\n\u001B[1;32m   1328\u001B[0m     run_manager: Optional[CallbackManagerForChainRun] \u001B[38;5;241m=\u001B[39m \u001B[38;5;28;01mNone\u001B[39;00m,\n\u001B[1;32m   1329\u001B[0m ) \u001B[38;5;241m-\u001B[39m\u001B[38;5;241m>\u001B[39m Union[AgentFinish, List[Tuple[AgentAction, \u001B[38;5;28mstr\u001B[39m]]]:\n\u001B[1;32m   1330\u001B[0m     \u001B[38;5;28;01mreturn\u001B[39;00m \u001B[38;5;28mself\u001B[39m\u001B[38;5;241m.\u001B[39m_consume_next_step(\n\u001B[0;32m-> 1331\u001B[0m         [\n\u001B[1;32m   1332\u001B[0m             a\n\u001B[1;32m   1333\u001B[0m             \u001B[38;5;28;01mfor\u001B[39;00m a \u001B[38;5;129;01min\u001B[39;00m \u001B[38;5;28mself\u001B[39m\u001B[38;5;241m.\u001B[39m_iter_next_step(\n\u001B[1;32m   1334\u001B[0m                 name_to_tool_map,\n\u001B[1;32m   1335\u001B[0m                 color_mapping,\n\u001B[1;32m   1336\u001B[0m                 inputs,\n\u001B[1;32m   1337\u001B[0m                 intermediate_steps,\n\u001B[1;32m   1338\u001B[0m                 run_manager,\n\u001B[1;32m   1339\u001B[0m             )\n\u001B[1;32m   1340\u001B[0m         ]\n\u001B[1;32m   1341\u001B[0m     )\n",
        "File \u001B[0;32m/local_disk0/.ephemeral_nfs/envs/pythonEnv-d401c8bf-ef14-421d-bf4a-dda3ad423e0e/lib/python3.11/site-packages/langchain/agents/agent.py:1416\u001B[0m, in \u001B[0;36mAgentExecutor._iter_next_step\u001B[0;34m(self, name_to_tool_map, color_mapping, inputs, intermediate_steps, run_manager)\u001B[0m\n\u001B[1;32m   1414\u001B[0m     \u001B[38;5;28;01myield\u001B[39;00m agent_action\n\u001B[1;32m   1415\u001B[0m \u001B[38;5;28;01mfor\u001B[39;00m agent_action \u001B[38;5;129;01min\u001B[39;00m actions:\n\u001B[0;32m-> 1416\u001B[0m     \u001B[38;5;28;01myield\u001B[39;00m \u001B[38;5;28mself\u001B[39m\u001B[38;5;241m.\u001B[39m_perform_agent_action(\n\u001B[1;32m   1417\u001B[0m         name_to_tool_map, color_mapping, agent_action, run_manager\n\u001B[1;32m   1418\u001B[0m     )\n",
        "File \u001B[0;32m/local_disk0/.ephemeral_nfs/envs/pythonEnv-d401c8bf-ef14-421d-bf4a-dda3ad423e0e/lib/python3.11/site-packages/langchain/agents/agent.py:1438\u001B[0m, in \u001B[0;36mAgentExecutor._perform_agent_action\u001B[0;34m(self, name_to_tool_map, color_mapping, agent_action, run_manager)\u001B[0m\n\u001B[1;32m   1436\u001B[0m         tool_run_kwargs[\u001B[38;5;124m\"\u001B[39m\u001B[38;5;124mllm_prefix\u001B[39m\u001B[38;5;124m\"\u001B[39m] \u001B[38;5;241m=\u001B[39m \u001B[38;5;124m\"\u001B[39m\u001B[38;5;124m\"\u001B[39m\n\u001B[1;32m   1437\u001B[0m     \u001B[38;5;66;03m# We then call the tool on the tool input to get an observation\u001B[39;00m\n\u001B[0;32m-> 1438\u001B[0m     observation \u001B[38;5;241m=\u001B[39m tool\u001B[38;5;241m.\u001B[39mrun(\n\u001B[1;32m   1439\u001B[0m         agent_action\u001B[38;5;241m.\u001B[39mtool_input,\n\u001B[1;32m   1440\u001B[0m         verbose\u001B[38;5;241m=\u001B[39m\u001B[38;5;28mself\u001B[39m\u001B[38;5;241m.\u001B[39mverbose,\n\u001B[1;32m   1441\u001B[0m         color\u001B[38;5;241m=\u001B[39mcolor,\n\u001B[1;32m   1442\u001B[0m         callbacks\u001B[38;5;241m=\u001B[39mrun_manager\u001B[38;5;241m.\u001B[39mget_child() \u001B[38;5;28;01mif\u001B[39;00m run_manager \u001B[38;5;28;01melse\u001B[39;00m \u001B[38;5;28;01mNone\u001B[39;00m,\n\u001B[1;32m   1443\u001B[0m         \u001B[38;5;241m*\u001B[39m\u001B[38;5;241m*\u001B[39mtool_run_kwargs,\n\u001B[1;32m   1444\u001B[0m     )\n\u001B[1;32m   1445\u001B[0m \u001B[38;5;28;01melse\u001B[39;00m:\n\u001B[1;32m   1446\u001B[0m     tool_run_kwargs \u001B[38;5;241m=\u001B[39m \u001B[38;5;28mself\u001B[39m\u001B[38;5;241m.\u001B[39m_action_agent\u001B[38;5;241m.\u001B[39mtool_run_logging_kwargs()\n",
        "File \u001B[0;32m/local_disk0/.ephemeral_nfs/envs/pythonEnv-d401c8bf-ef14-421d-bf4a-dda3ad423e0e/lib/python3.11/site-packages/langchain_core/tools/base.py:586\u001B[0m, in \u001B[0;36mBaseTool.run\u001B[0;34m(self, tool_input, verbose, start_color, color, callbacks, tags, metadata, run_name, run_id, config, tool_call_id, **kwargs)\u001B[0m\n\u001B[1;32m    584\u001B[0m \u001B[38;5;28;01mif\u001B[39;00m error_to_raise:\n\u001B[1;32m    585\u001B[0m     run_manager\u001B[38;5;241m.\u001B[39mon_tool_error(error_to_raise)\n\u001B[0;32m--> 586\u001B[0m     \u001B[38;5;28;01mraise\u001B[39;00m error_to_raise\n\u001B[1;32m    587\u001B[0m output \u001B[38;5;241m=\u001B[39m _format_output(content, artifact, tool_call_id, \u001B[38;5;28mself\u001B[39m\u001B[38;5;241m.\u001B[39mname, status)\n\u001B[1;32m    588\u001B[0m run_manager\u001B[38;5;241m.\u001B[39mon_tool_end(output, color\u001B[38;5;241m=\u001B[39mcolor, name\u001B[38;5;241m=\u001B[39m\u001B[38;5;28mself\u001B[39m\u001B[38;5;241m.\u001B[39mname, \u001B[38;5;241m*\u001B[39m\u001B[38;5;241m*\u001B[39mkwargs)\n",
        "File \u001B[0;32m/local_disk0/.ephemeral_nfs/envs/pythonEnv-d401c8bf-ef14-421d-bf4a-dda3ad423e0e/lib/python3.11/site-packages/langchain_core/tools/base.py:555\u001B[0m, in \u001B[0;36mBaseTool.run\u001B[0;34m(self, tool_input, verbose, start_color, color, callbacks, tags, metadata, run_name, run_id, config, tool_call_id, **kwargs)\u001B[0m\n\u001B[1;32m    553\u001B[0m \u001B[38;5;28;01mif\u001B[39;00m config_param \u001B[38;5;241m:=\u001B[39m _get_runnable_config_param(\u001B[38;5;28mself\u001B[39m\u001B[38;5;241m.\u001B[39m_run):\n\u001B[1;32m    554\u001B[0m     tool_kwargs[config_param] \u001B[38;5;241m=\u001B[39m config\n\u001B[0;32m--> 555\u001B[0m response \u001B[38;5;241m=\u001B[39m context\u001B[38;5;241m.\u001B[39mrun(\u001B[38;5;28mself\u001B[39m\u001B[38;5;241m.\u001B[39m_run, \u001B[38;5;241m*\u001B[39mtool_args, \u001B[38;5;241m*\u001B[39m\u001B[38;5;241m*\u001B[39mtool_kwargs)\n\u001B[1;32m    556\u001B[0m \u001B[38;5;28;01mif\u001B[39;00m \u001B[38;5;28mself\u001B[39m\u001B[38;5;241m.\u001B[39mresponse_format \u001B[38;5;241m==\u001B[39m \u001B[38;5;124m\"\u001B[39m\u001B[38;5;124mcontent_and_artifact\u001B[39m\u001B[38;5;124m\"\u001B[39m:\n\u001B[1;32m    557\u001B[0m     \u001B[38;5;28;01mif\u001B[39;00m \u001B[38;5;129;01mnot\u001B[39;00m \u001B[38;5;28misinstance\u001B[39m(response, \u001B[38;5;28mtuple\u001B[39m) \u001B[38;5;129;01mor\u001B[39;00m \u001B[38;5;28mlen\u001B[39m(response) \u001B[38;5;241m!=\u001B[39m \u001B[38;5;241m2\u001B[39m:\n",
        "File \u001B[0;32m/local_disk0/.ephemeral_nfs/envs/pythonEnv-d401c8bf-ef14-421d-bf4a-dda3ad423e0e/lib/python3.11/site-packages/langchain_core/tools/structured.py:69\u001B[0m, in \u001B[0;36mStructuredTool._run\u001B[0;34m(self, config, run_manager, *args, **kwargs)\u001B[0m\n\u001B[1;32m     67\u001B[0m     \u001B[38;5;28;01mif\u001B[39;00m config_param \u001B[38;5;241m:=\u001B[39m _get_runnable_config_param(\u001B[38;5;28mself\u001B[39m\u001B[38;5;241m.\u001B[39mfunc):\n\u001B[1;32m     68\u001B[0m         kwargs[config_param] \u001B[38;5;241m=\u001B[39m config\n\u001B[0;32m---> 69\u001B[0m     \u001B[38;5;28;01mreturn\u001B[39;00m \u001B[38;5;28mself\u001B[39m\u001B[38;5;241m.\u001B[39mfunc(\u001B[38;5;241m*\u001B[39margs, \u001B[38;5;241m*\u001B[39m\u001B[38;5;241m*\u001B[39mkwargs)\n\u001B[1;32m     70\u001B[0m \u001B[38;5;28;01mraise\u001B[39;00m \u001B[38;5;167;01mNotImplementedError\u001B[39;00m(\u001B[38;5;124m\"\u001B[39m\u001B[38;5;124mStructuredTool does not support sync invocation.\u001B[39m\u001B[38;5;124m\"\u001B[39m)\n",
        "File \u001B[0;32m/local_disk0/.ephemeral_nfs/envs/pythonEnv-d401c8bf-ef14-421d-bf4a-dda3ad423e0e/lib/python3.11/site-packages/langchain_community/tools/databricks/tool.py:185\u001B[0m, in \u001B[0;36mUCFunctionToolkit._make_tool.<locals>.func\u001B[0;34m(*args, **kwargs)\u001B[0m\n\u001B[1;32m    181\u001B[0m \u001B[38;5;28;01mdef\u001B[39;00m \u001B[38;5;21mfunc\u001B[39m(\u001B[38;5;241m*\u001B[39margs: Any, \u001B[38;5;241m*\u001B[39m\u001B[38;5;241m*\u001B[39mkwargs: Any) \u001B[38;5;241m-\u001B[39m\u001B[38;5;241m>\u001B[39m \u001B[38;5;28mstr\u001B[39m:\n\u001B[1;32m    182\u001B[0m     \u001B[38;5;66;03m# TODO: We expect all named args and ignore args.\u001B[39;00m\n\u001B[1;32m    183\u001B[0m     \u001B[38;5;66;03m# Non-empty args show up when the function has no parameters.\u001B[39;00m\n\u001B[1;32m    184\u001B[0m     args_json \u001B[38;5;241m=\u001B[39m json\u001B[38;5;241m.\u001B[39mloads(json\u001B[38;5;241m.\u001B[39mdumps(kwargs, default\u001B[38;5;241m=\u001B[39m\u001B[38;5;28mstr\u001B[39m))\n\u001B[0;32m--> 185\u001B[0m     result \u001B[38;5;241m=\u001B[39m execute_function(\n\u001B[1;32m    186\u001B[0m         ws\u001B[38;5;241m=\u001B[39m\u001B[38;5;28mself\u001B[39m\u001B[38;5;241m.\u001B[39mworkspace_client,\n\u001B[1;32m    187\u001B[0m         warehouse_id\u001B[38;5;241m=\u001B[39m\u001B[38;5;28mself\u001B[39m\u001B[38;5;241m.\u001B[39mwarehouse_id,\n\u001B[1;32m    188\u001B[0m         function\u001B[38;5;241m=\u001B[39mfunction,\n\u001B[1;32m    189\u001B[0m         parameters\u001B[38;5;241m=\u001B[39margs_json,\n\u001B[1;32m    190\u001B[0m     )\n\u001B[1;32m    191\u001B[0m     \u001B[38;5;28;01mreturn\u001B[39;00m result\u001B[38;5;241m.\u001B[39mto_json()\n",
        "File \u001B[0;32m/local_disk0/.ephemeral_nfs/envs/pythonEnv-d401c8bf-ef14-421d-bf4a-dda3ad423e0e/lib/python3.11/site-packages/langchain_community/tools/databricks/_execution.py:171\u001B[0m, in \u001B[0;36mexecute_function\u001B[0;34m(ws, warehouse_id, function, parameters)\u001B[0m\n\u001B[1;32m    169\u001B[0m \u001B[38;5;66;03m# TODO: async so we can run functions in parallel\u001B[39;00m\n\u001B[1;32m    170\u001B[0m parametrized_statement \u001B[38;5;241m=\u001B[39m get_execute_function_sql_stmt(function, parameters)\n\u001B[0;32m--> 171\u001B[0m response \u001B[38;5;241m=\u001B[39m ws\u001B[38;5;241m.\u001B[39mstatement_execution\u001B[38;5;241m.\u001B[39mexecute_statement(\n\u001B[1;32m    172\u001B[0m     statement\u001B[38;5;241m=\u001B[39mparametrized_statement\u001B[38;5;241m.\u001B[39mstatement,\n\u001B[1;32m    173\u001B[0m     warehouse_id\u001B[38;5;241m=\u001B[39mwarehouse_id,\n\u001B[1;32m    174\u001B[0m     parameters\u001B[38;5;241m=\u001B[39mparametrized_statement\u001B[38;5;241m.\u001B[39mparameters,\n\u001B[1;32m    175\u001B[0m     \u001B[38;5;241m*\u001B[39m\u001B[38;5;241m*\u001B[39mexecute_statement_args,  \u001B[38;5;66;03m# type: ignore\u001B[39;00m\n\u001B[1;32m    176\u001B[0m )\n\u001B[1;32m    177\u001B[0m status \u001B[38;5;241m=\u001B[39m response\u001B[38;5;241m.\u001B[39mstatus\n\u001B[1;32m    178\u001B[0m \u001B[38;5;28;01massert\u001B[39;00m status \u001B[38;5;129;01mis\u001B[39;00m \u001B[38;5;129;01mnot\u001B[39;00m \u001B[38;5;28;01mNone\u001B[39;00m, \u001B[38;5;124mf\u001B[39m\u001B[38;5;124m\"\u001B[39m\u001B[38;5;124mStatement execution failed: \u001B[39m\u001B[38;5;132;01m{\u001B[39;00mresponse\u001B[38;5;132;01m}\u001B[39;00m\u001B[38;5;124m\"\u001B[39m\n",
        "File \u001B[0;32m/local_disk0/.ephemeral_nfs/envs/pythonEnv-d401c8bf-ef14-421d-bf4a-dda3ad423e0e/lib/python3.11/site-packages/databricks/sdk/service/sql.py:7929\u001B[0m, in \u001B[0;36mStatementExecutionAPI.execute_statement\u001B[0;34m(self, statement, warehouse_id, byte_limit, catalog, disposition, format, on_wait_timeout, parameters, row_limit, schema, wait_timeout)\u001B[0m\n\u001B[1;32m   7926\u001B[0m \u001B[38;5;28;01mif\u001B[39;00m warehouse_id \u001B[38;5;129;01mis\u001B[39;00m \u001B[38;5;129;01mnot\u001B[39;00m \u001B[38;5;28;01mNone\u001B[39;00m: body[\u001B[38;5;124m'\u001B[39m\u001B[38;5;124mwarehouse_id\u001B[39m\u001B[38;5;124m'\u001B[39m] \u001B[38;5;241m=\u001B[39m warehouse_id\n\u001B[1;32m   7927\u001B[0m headers \u001B[38;5;241m=\u001B[39m {\u001B[38;5;124m'\u001B[39m\u001B[38;5;124mAccept\u001B[39m\u001B[38;5;124m'\u001B[39m: \u001B[38;5;124m'\u001B[39m\u001B[38;5;124mapplication/json\u001B[39m\u001B[38;5;124m'\u001B[39m, \u001B[38;5;124m'\u001B[39m\u001B[38;5;124mContent-Type\u001B[39m\u001B[38;5;124m'\u001B[39m: \u001B[38;5;124m'\u001B[39m\u001B[38;5;124mapplication/json\u001B[39m\u001B[38;5;124m'\u001B[39m, }\n\u001B[0;32m-> 7929\u001B[0m res \u001B[38;5;241m=\u001B[39m \u001B[38;5;28mself\u001B[39m\u001B[38;5;241m.\u001B[39m_api\u001B[38;5;241m.\u001B[39mdo(\u001B[38;5;124m'\u001B[39m\u001B[38;5;124mPOST\u001B[39m\u001B[38;5;124m'\u001B[39m, \u001B[38;5;124m'\u001B[39m\u001B[38;5;124m/api/2.0/sql/statements/\u001B[39m\u001B[38;5;124m'\u001B[39m, body\u001B[38;5;241m=\u001B[39mbody, headers\u001B[38;5;241m=\u001B[39mheaders)\n\u001B[1;32m   7930\u001B[0m \u001B[38;5;28;01mreturn\u001B[39;00m StatementResponse\u001B[38;5;241m.\u001B[39mfrom_dict(res)\n",
        "File \u001B[0;32m/local_disk0/.ephemeral_nfs/envs/pythonEnv-d401c8bf-ef14-421d-bf4a-dda3ad423e0e/lib/python3.11/site-packages/databricks/sdk/core.py:77\u001B[0m, in \u001B[0;36mApiClient.do\u001B[0;34m(self, method, path, url, query, headers, body, raw, files, data, auth, response_headers)\u001B[0m\n\u001B[1;32m     75\u001B[0m     path \u001B[38;5;241m=\u001B[39m re\u001B[38;5;241m.\u001B[39msub(\u001B[38;5;124m'\u001B[39m\u001B[38;5;124m^/api/2.0/fs/files//\u001B[39m\u001B[38;5;124m'\u001B[39m, \u001B[38;5;124m'\u001B[39m\u001B[38;5;124m/api/2.0/fs/files/\u001B[39m\u001B[38;5;124m'\u001B[39m, path)\n\u001B[1;32m     76\u001B[0m     url \u001B[38;5;241m=\u001B[39m \u001B[38;5;124mf\u001B[39m\u001B[38;5;124m\"\u001B[39m\u001B[38;5;132;01m{\u001B[39;00m\u001B[38;5;28mself\u001B[39m\u001B[38;5;241m.\u001B[39m_cfg\u001B[38;5;241m.\u001B[39mhost\u001B[38;5;132;01m}\u001B[39;00m\u001B[38;5;132;01m{\u001B[39;00mpath\u001B[38;5;132;01m}\u001B[39;00m\u001B[38;5;124m\"\u001B[39m\n\u001B[0;32m---> 77\u001B[0m \u001B[38;5;28;01mreturn\u001B[39;00m \u001B[38;5;28mself\u001B[39m\u001B[38;5;241m.\u001B[39m_api_client\u001B[38;5;241m.\u001B[39mdo(method\u001B[38;5;241m=\u001B[39mmethod,\n\u001B[1;32m     78\u001B[0m                            url\u001B[38;5;241m=\u001B[39murl,\n\u001B[1;32m     79\u001B[0m                            query\u001B[38;5;241m=\u001B[39mquery,\n\u001B[1;32m     80\u001B[0m                            headers\u001B[38;5;241m=\u001B[39mheaders,\n\u001B[1;32m     81\u001B[0m                            body\u001B[38;5;241m=\u001B[39mbody,\n\u001B[1;32m     82\u001B[0m                            raw\u001B[38;5;241m=\u001B[39mraw,\n\u001B[1;32m     83\u001B[0m                            files\u001B[38;5;241m=\u001B[39mfiles,\n\u001B[1;32m     84\u001B[0m                            data\u001B[38;5;241m=\u001B[39mdata,\n\u001B[1;32m     85\u001B[0m                            auth\u001B[38;5;241m=\u001B[39mauth,\n\u001B[1;32m     86\u001B[0m                            response_headers\u001B[38;5;241m=\u001B[39mresponse_headers)\n",
        "File \u001B[0;32m/local_disk0/.ephemeral_nfs/envs/pythonEnv-d401c8bf-ef14-421d-bf4a-dda3ad423e0e/lib/python3.11/site-packages/databricks/sdk/_base_client.py:172\u001B[0m, in \u001B[0;36m_BaseClient.do\u001B[0;34m(self, method, url, query, headers, body, raw, files, data, auth, response_headers)\u001B[0m\n\u001B[1;32m    167\u001B[0m \u001B[38;5;28;01melse\u001B[39;00m:\n\u001B[1;32m    168\u001B[0m     call \u001B[38;5;241m=\u001B[39m retried(timeout\u001B[38;5;241m=\u001B[39mtimedelta(seconds\u001B[38;5;241m=\u001B[39m\u001B[38;5;28mself\u001B[39m\u001B[38;5;241m.\u001B[39m_retry_timeout_seconds),\n\u001B[1;32m    169\u001B[0m                    is_retryable\u001B[38;5;241m=\u001B[39m\u001B[38;5;28mself\u001B[39m\u001B[38;5;241m.\u001B[39m_is_retryable,\n\u001B[1;32m    170\u001B[0m                    clock\u001B[38;5;241m=\u001B[39m\u001B[38;5;28mself\u001B[39m\u001B[38;5;241m.\u001B[39m_clock)(\u001B[38;5;28mself\u001B[39m\u001B[38;5;241m.\u001B[39m_perform)\n\u001B[0;32m--> 172\u001B[0m response \u001B[38;5;241m=\u001B[39m call(method,\n\u001B[1;32m    173\u001B[0m                 url,\n\u001B[1;32m    174\u001B[0m                 query\u001B[38;5;241m=\u001B[39mquery,\n\u001B[1;32m    175\u001B[0m                 headers\u001B[38;5;241m=\u001B[39mheaders,\n\u001B[1;32m    176\u001B[0m                 body\u001B[38;5;241m=\u001B[39mbody,\n\u001B[1;32m    177\u001B[0m                 raw\u001B[38;5;241m=\u001B[39mraw,\n\u001B[1;32m    178\u001B[0m                 files\u001B[38;5;241m=\u001B[39mfiles,\n\u001B[1;32m    179\u001B[0m                 data\u001B[38;5;241m=\u001B[39mdata,\n\u001B[1;32m    180\u001B[0m                 auth\u001B[38;5;241m=\u001B[39mauth)\n\u001B[1;32m    182\u001B[0m resp \u001B[38;5;241m=\u001B[39m \u001B[38;5;28mdict\u001B[39m()\n\u001B[1;32m    183\u001B[0m \u001B[38;5;28;01mfor\u001B[39;00m header \u001B[38;5;129;01min\u001B[39;00m response_headers \u001B[38;5;28;01mif\u001B[39;00m response_headers \u001B[38;5;28;01melse\u001B[39;00m []:\n",
        "File \u001B[0;32m/local_disk0/.ephemeral_nfs/envs/pythonEnv-d401c8bf-ef14-421d-bf4a-dda3ad423e0e/lib/python3.11/site-packages/databricks/sdk/retries.py:54\u001B[0m, in \u001B[0;36mretried.<locals>.decorator.<locals>.wrapper\u001B[0;34m(*args, **kwargs)\u001B[0m\n\u001B[1;32m     50\u001B[0m         retry_reason \u001B[38;5;241m=\u001B[39m \u001B[38;5;124mf\u001B[39m\u001B[38;5;124m'\u001B[39m\u001B[38;5;132;01m{\u001B[39;00m\u001B[38;5;28mtype\u001B[39m(err)\u001B[38;5;241m.\u001B[39m\u001B[38;5;18m__name__\u001B[39m\u001B[38;5;132;01m}\u001B[39;00m\u001B[38;5;124m is allowed to retry\u001B[39m\u001B[38;5;124m'\u001B[39m\n\u001B[1;32m     52\u001B[0m \u001B[38;5;28;01mif\u001B[39;00m retry_reason \u001B[38;5;129;01mis\u001B[39;00m \u001B[38;5;28;01mNone\u001B[39;00m:\n\u001B[1;32m     53\u001B[0m     \u001B[38;5;66;03m# raise if exception is not retryable\u001B[39;00m\n\u001B[0;32m---> 54\u001B[0m     \u001B[38;5;28;01mraise\u001B[39;00m err\n\u001B[1;32m     56\u001B[0m logger\u001B[38;5;241m.\u001B[39mdebug(\u001B[38;5;124mf\u001B[39m\u001B[38;5;124m'\u001B[39m\u001B[38;5;124mRetrying: \u001B[39m\u001B[38;5;132;01m{\u001B[39;00mretry_reason\u001B[38;5;132;01m}\u001B[39;00m\u001B[38;5;124m (sleeping ~\u001B[39m\u001B[38;5;132;01m{\u001B[39;00msleep\u001B[38;5;132;01m}\u001B[39;00m\u001B[38;5;124ms)\u001B[39m\u001B[38;5;124m'\u001B[39m)\n\u001B[1;32m     57\u001B[0m clock\u001B[38;5;241m.\u001B[39msleep(sleep \u001B[38;5;241m+\u001B[39m random())\n",
        "File \u001B[0;32m/local_disk0/.ephemeral_nfs/envs/pythonEnv-d401c8bf-ef14-421d-bf4a-dda3ad423e0e/lib/python3.11/site-packages/databricks/sdk/retries.py:33\u001B[0m, in \u001B[0;36mretried.<locals>.decorator.<locals>.wrapper\u001B[0;34m(*args, **kwargs)\u001B[0m\n\u001B[1;32m     31\u001B[0m \u001B[38;5;28;01mwhile\u001B[39;00m clock\u001B[38;5;241m.\u001B[39mtime() \u001B[38;5;241m<\u001B[39m deadline:\n\u001B[1;32m     32\u001B[0m     \u001B[38;5;28;01mtry\u001B[39;00m:\n\u001B[0;32m---> 33\u001B[0m         \u001B[38;5;28;01mreturn\u001B[39;00m func(\u001B[38;5;241m*\u001B[39margs, \u001B[38;5;241m*\u001B[39m\u001B[38;5;241m*\u001B[39mkwargs)\n\u001B[1;32m     34\u001B[0m     \u001B[38;5;28;01mexcept\u001B[39;00m \u001B[38;5;167;01mException\u001B[39;00m \u001B[38;5;28;01mas\u001B[39;00m err:\n\u001B[1;32m     35\u001B[0m         last_err \u001B[38;5;241m=\u001B[39m err\n",
        "File \u001B[0;32m/local_disk0/.ephemeral_nfs/envs/pythonEnv-d401c8bf-ef14-421d-bf4a-dda3ad423e0e/lib/python3.11/site-packages/databricks/sdk/_base_client.py:278\u001B[0m, in \u001B[0;36m_BaseClient._perform\u001B[0;34m(self, method, url, query, headers, body, raw, files, data, auth)\u001B[0m\n\u001B[1;32m    276\u001B[0m     \u001B[38;5;28;01mif\u001B[39;00m \u001B[38;5;28mself\u001B[39m\u001B[38;5;241m.\u001B[39m_is_seekable_stream(data):\n\u001B[1;32m    277\u001B[0m         data\u001B[38;5;241m.\u001B[39mseek(initial_data_position)\n\u001B[0;32m--> 278\u001B[0m     \u001B[38;5;28;01mraise\u001B[39;00m error \u001B[38;5;28;01mfrom\u001B[39;00m \u001B[38;5;28;01mNone\u001B[39;00m\n\u001B[1;32m    280\u001B[0m \u001B[38;5;28;01mreturn\u001B[39;00m response\n",
        "\u001B[0;31mInvalidParameterValue\u001B[0m:  is not a valid endpoint id."
       ],
       "type": "baseError"
      }
     },
     "output_type": "display_data"
    }
   ],
   "source": [
    "answer = \"\"\n",
    "\n",
    "selected_city = dbutils.widgets.get(\"selected_city\")\n",
    "\n",
    "# try:\n",
    "    \n",
    "answer = agent_str.invoke({\"messages\": \"Use customer hotel reviews to write a positive instagram post to promote the hotel in \" + selected_city + \" with the lowest sales. Mention the hotel by its name.\"})\n",
    "\n",
    "# except Exception as e:\n",
    "#     print(f\"This error occurred during model invocation: {e}\")"
   ]
  },
  {
   "cell_type": "code",
   "execution_count": 0,
   "metadata": {
    "application/vnd.databricks.v1+cell": {
     "cellMetadata": {
      "byteLimit": 2048000,
      "rowLimit": 10000
     },
     "inputWidgets": {},
     "nuid": "1ee1618d-745f-4422-aaa3-13b14bf223c4",
     "showTitle": false,
     "tableResultSettingsMap": {},
     "title": ""
    }
   },
   "outputs": [
    {
     "output_type": "display_data",
     "data": {
      "text/plain": [
       ""
      ]
     },
     "metadata": {
      "application/vnd.databricks.v1+output": {
       "addedWidgets": {},
       "arguments": {
        "catalog": "workspace",
        "database": "default",
        "hotel_with_reviews": "H10000802",
        "schema": "default",
        "selected_city": "Bordeaux",
        "selected_hotel_id": "H10000538",
        "warehouse_id": ""
       },
       "datasetInfos": [],
       "jupyterProps": null,
       "metadata": {
        "errorSummary": "Command skipped"
       },
       "removedWidgets": [],
       "sqlProps": null,
       "stackFrames": [],
       "type": "baseError"
      }
     },
     "output_type": "display_data"
    }
   ],
   "source": [
    "print(answer)"
   ]
  }
 ],
 "metadata": {
  "application/vnd.databricks.v1+notebook": {
   "computePreferences": null,
   "dashboards": [],
   "environmentMetadata": {
    "base_environment": "",
    "environment_version": "2"
   },
   "inputWidgetPreferences": null,
   "language": "python",
   "notebookMetadata": {
    "mostRecentlyExecutedCommandWithImplicitDF": {
     "commandId": 1204291622731000,
     "dataframes": [
      "_sqldf"
     ]
    },
    "pythonIndentUnit": 4
   },
   "notebookName": "kyle_test",
   "widgets": {
    "catalog": {
     "currentValue": "workspace",
     "nuid": "235e5a8c-9dc5-404e-a84a-d4fdcc4021ac",
     "typedWidgetInfo": {
      "autoCreated": false,
      "defaultValue": "workspace",
      "label": null,
      "name": "catalog",
      "options": {
       "widgetDisplayType": "Text",
       "validationRegex": null
      },
      "parameterDataType": "String"
     },
     "widgetInfo": {
      "widgetType": "text",
      "defaultValue": "workspace",
      "label": null,
      "name": "catalog",
      "options": {
       "widgetType": "text",
       "autoCreated": null,
       "validationRegex": null
      }
     }
    },
    "database": {
     "currentValue": "default",
     "nuid": "33ceff7c-9a2e-4d29-ac78-d197ee2f88c9",
     "typedWidgetInfo": {
      "autoCreated": false,
      "defaultValue": "default",
      "label": null,
      "name": "database",
      "options": {
       "widgetDisplayType": "Text",
       "validationRegex": null
      },
      "parameterDataType": "String"
     },
     "widgetInfo": {
      "widgetType": "text",
      "defaultValue": "default",
      "label": null,
      "name": "database",
      "options": {
       "widgetType": "text",
       "autoCreated": null,
       "validationRegex": null
      }
     }
    },
    "hotel_with_reviews": {
     "currentValue": "H10000802",
     "nuid": "1226834b-29f1-46fe-a0b4-7c0806efa6e0",
     "typedWidgetInfo": {
      "autoCreated": false,
      "defaultValue": "H10000802",
      "label": null,
      "name": "hotel_with_reviews",
      "options": {
       "widgetDisplayType": "Text",
       "validationRegex": null
      },
      "parameterDataType": "String"
     },
     "widgetInfo": {
      "widgetType": "text",
      "defaultValue": "H10000802",
      "label": null,
      "name": "hotel_with_reviews",
      "options": {
       "widgetType": "text",
       "autoCreated": null,
       "validationRegex": null
      }
     }
    },
    "schema": {
     "currentValue": "default",
     "nuid": "7e5915b1-0443-41ba-b84d-252db1954b40",
     "typedWidgetInfo": {
      "autoCreated": false,
      "defaultValue": "default",
      "label": null,
      "name": "schema",
      "options": {
       "widgetDisplayType": "Text",
       "validationRegex": null
      },
      "parameterDataType": "String"
     },
     "widgetInfo": {
      "widgetType": "text",
      "defaultValue": "default",
      "label": null,
      "name": "schema",
      "options": {
       "widgetType": "text",
       "autoCreated": false,
       "validationRegex": null
      }
     }
    },
    "selected_city": {
     "currentValue": "Bordeaux",
     "nuid": "5dc02f5e-0dd7-4743-b9bc-b8a26bfc55fe",
     "typedWidgetInfo": {
      "autoCreated": false,
      "defaultValue": "Denver",
      "label": null,
      "name": "selected_city",
      "options": {
       "widgetDisplayType": "Text",
       "validationRegex": null
      },
      "parameterDataType": "String"
     },
     "widgetInfo": {
      "widgetType": "text",
      "defaultValue": "Denver",
      "label": null,
      "name": "selected_city",
      "options": {
       "widgetType": "text",
       "autoCreated": null,
       "validationRegex": null
      }
     }
    },
    "selected_hotel_id": {
     "currentValue": "H10000538",
     "nuid": "de8743c6-79c1-4a88-b010-129d310b66a0",
     "typedWidgetInfo": {
      "autoCreated": false,
      "defaultValue": "H10000802",
      "label": null,
      "name": "selected_hotel_id",
      "options": {
       "widgetDisplayType": "Text",
       "validationRegex": null
      },
      "parameterDataType": "String"
     },
     "widgetInfo": {
      "widgetType": "text",
      "defaultValue": "H10000802",
      "label": null,
      "name": "selected_hotel_id",
      "options": {
       "widgetType": "text",
       "autoCreated": null,
       "validationRegex": null
      }
     }
    },
    "warehouse_id": {
     "currentValue": "",
     "nuid": "16135831-688a-4c44-b3fe-f28c224cbdb4",
     "typedWidgetInfo": {
      "autoCreated": false,
      "defaultValue": "66f2eab0f64875a4",
      "label": null,
      "name": "warehouse_id",
      "options": {
       "widgetDisplayType": "Text",
       "validationRegex": null
      },
      "parameterDataType": "String"
     },
     "widgetInfo": {
      "widgetType": "text",
      "defaultValue": "66f2eab0f64875a4",
      "label": null,
      "name": "warehouse_id",
      "options": {
       "widgetType": "text",
       "autoCreated": null,
       "validationRegex": null
      }
     }
    }
   }
  },
  "language_info": {
   "name": "python"
  }
 },
 "nbformat": 4,
 "nbformat_minor": 0
}